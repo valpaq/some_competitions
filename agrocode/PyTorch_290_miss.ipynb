{
 "cells": [
  {
   "cell_type": "code",
   "execution_count": 1,
   "metadata": {},
   "outputs": [],
   "source": [
    "import numpy as np\n",
    "import random\n",
    "import pandas as pd\n",
    "import matplotlib.pyplot as plt\n",
    "import os\n",
    "import copy\n",
    "import seaborn as sns\n",
    "from sklearn.impute import KNNImputer\n",
    "from sklearn.model_selection import train_test_split\n",
    "from tqdm.notebook import tqdm\n",
    "\n",
    "from sklearn import preprocessing\n",
    "from sklearn.metrics import log_loss\n",
    "from sklearn.preprocessing import StandardScaler\n",
    "from sklearn.decomposition import PCA\n",
    "from sklearn.metrics import f1_score\n",
    "\n",
    "import torch\n",
    "import torch.nn as nn\n",
    "import torch.nn.functional as F\n",
    "import torch.optim as optim\n",
    "from torch.utils.data import Dataset, DataLoader, WeightedRandomSampler\n",
    "\n",
    "import warnings\n",
    "warnings.filterwarnings('ignore')\n",
    "\n",
    "def seed_everything(seed=42):\n",
    "    random.seed(seed)\n",
    "    np.random.seed(seed)\n",
    "    torch.manual_seed(seed)\n",
    "    torch.cuda.manual_seed(seed)\n",
    "    torch.backends.cudnn.deterministic = True\n",
    "    \n",
    "seed_everything(seed=42)"
   ]
  },
  {
   "cell_type": "code",
   "execution_count": 2,
   "metadata": {},
   "outputs": [
    {
     "name": "stdout",
     "output_type": "stream",
     "text": [
      "(2838, 293) (939, 293)\n"
     ]
    }
   ],
   "source": [
    "train = pd.read_csv('data/train_dropped_290_without_nans.csv')\n",
    "test = pd.read_csv('data/test_dropped_290_without_nans.csv')\n",
    "\n",
    "print(train.shape, test.shape)"
   ]
  },
  {
   "cell_type": "code",
   "execution_count": 3,
   "metadata": {},
   "outputs": [],
   "source": [
    "X_train = train.drop(['0','1','2'], axis=1)\n",
    "y_train = pd.read_csv('data/y_train.csv')['Culture']\n",
    "\n",
    "X_test = test.drop(['0','1','2'], axis=1)"
   ]
  },
  {
   "cell_type": "code",
   "execution_count": 4,
   "metadata": {},
   "outputs": [
    {
     "data": {
      "text/plain": [
       "0        4\n",
       "1       17\n",
       "2        2\n",
       "3        4\n",
       "4        4\n",
       "        ..\n",
       "2833     4\n",
       "2834     4\n",
       "2835     4\n",
       "2836     5\n",
       "2837     7\n",
       "Name: Culture, Length: 2838, dtype: int64"
      ]
     },
     "execution_count": 4,
     "metadata": {},
     "output_type": "execute_result"
    }
   ],
   "source": [
    "y_train"
   ]
  },
  {
   "cell_type": "code",
   "execution_count": 5,
   "metadata": {},
   "outputs": [],
   "source": [
    "X_tt, X_tv, y_tt, y_tv = train_test_split(X_train, y_train, test_size=0.2, random_state=0)"
   ]
  },
  {
   "cell_type": "code",
   "execution_count": 6,
   "metadata": {},
   "outputs": [],
   "source": [
    "EPOCHS = 300\n",
    "BATCH_SIZE = 128\n",
    "LEARNING_RATE = 0.001\n",
    "\n",
    "num_features=290\n",
    "num_targets=29\n",
    "hidden_size=784\n"
   ]
  },
  {
   "cell_type": "code",
   "execution_count": 7,
   "metadata": {},
   "outputs": [],
   "source": [
    "class Model(nn.Module):\n",
    "    def __init__(self, num_features, num_targets, hidden_size):\n",
    "        super(Model, self).__init__()\n",
    "        self.batch_norm1 = nn.BatchNorm1d(num_features)\n",
    "        self.dropout1 = nn.Dropout(0.2)\n",
    "        self.dense1 = nn.utils.weight_norm(nn.Linear(num_features, 1160))\n",
    "        \n",
    "        self.batch_norm2 = nn.BatchNorm1d(1160)\n",
    "        self.dropout2 = nn.Dropout(0.4)\n",
    "        self.dense2 = nn.utils.weight_norm(nn.Linear(1160, hidden_size))\n",
    "        \n",
    "        self.batch_norm3 = nn.BatchNorm1d(hidden_size)\n",
    "        self.dropout3 = nn.Dropout(0.5)\n",
    "        self.dense3 = nn.utils.weight_norm(nn.Linear(hidden_size, hidden_size))\n",
    "        \n",
    "        self.batch_norm4 = nn.BatchNorm1d(hidden_size)\n",
    "        self.dropout4 = nn.Dropout(0.4)\n",
    "        self.dense4 = nn.Linear(hidden_size, num_targets)\n",
    "    \n",
    "    def forward(self, x):\n",
    "        x = self.batch_norm1(x)\n",
    "        x = self.dropout1(x)\n",
    "        x = F.relu(self.dense1(x))\n",
    "        \n",
    "        x = self.batch_norm2(x)\n",
    "        x = self.dropout2(x)\n",
    "        x = F.relu(self.dense2(x))\n",
    "        \n",
    "        x = self.batch_norm3(x)\n",
    "        x = self.dropout3(x)\n",
    "        x = self.dense3(x)\n",
    "        \n",
    "        x = self.batch_norm4(x)\n",
    "        x = self.dropout4(x)\n",
    "        x = self.dense4(x)\n",
    "        \n",
    "        return x"
   ]
  },
  {
   "cell_type": "code",
   "execution_count": 8,
   "metadata": {},
   "outputs": [],
   "source": [
    "class MoADataset(Dataset):\n",
    "    def __init__(self, features, targets):\n",
    "        self.features = features\n",
    "        self.targets = targets\n",
    "        \n",
    "    def __len__(self):\n",
    "        return (self.features.shape[0])\n",
    "    \n",
    "    def __getitem__(self, idx):\n",
    "        \n",
    "        return self.features[idx],self.targets[idx]\n",
    "    \n",
    "class TestDataset(Dataset):\n",
    "    def __init__(self, features):\n",
    "        self.features = features\n",
    "        \n",
    "    def __len__(self):\n",
    "        return (self.features.shape[0])\n",
    "    \n",
    "    def __getitem__(self, idx):\n",
    "        return self.features[idx]"
   ]
  },
  {
   "cell_type": "code",
   "execution_count": 9,
   "metadata": {
    "scrolled": true
   },
   "outputs": [],
   "source": [
    "train_dataset = MoADataset(torch.from_numpy(X_tt.values).float(), torch.from_numpy(y_tt.values).long())\n",
    "val_dataset = MoADataset(torch.from_numpy(X_tv.values).float(), torch.from_numpy(y_tv.values).long())\n",
    "test_dataset = TestDataset(torch.from_numpy(X_test.values).float())"
   ]
  },
  {
   "cell_type": "code",
   "execution_count": 10,
   "metadata": {},
   "outputs": [],
   "source": [
    "train_loader = DataLoader(dataset=train_dataset,\n",
    "                          batch_size=BATCH_SIZE)\n",
    "val_loader = DataLoader(dataset=val_dataset, batch_size=BATCH_SIZE)\n",
    "test_loader = DataLoader(dataset=test_dataset, batch_size=1)"
   ]
  },
  {
   "cell_type": "code",
   "execution_count": 11,
   "metadata": {},
   "outputs": [
    {
     "name": "stdout",
     "output_type": "stream",
     "text": [
      "Model(\n",
      "  (batch_norm1): BatchNorm1d(290, eps=1e-05, momentum=0.1, affine=True, track_running_stats=True)\n",
      "  (dropout1): Dropout(p=0.2, inplace=False)\n",
      "  (dense1): Linear(in_features=290, out_features=1160, bias=True)\n",
      "  (batch_norm2): BatchNorm1d(1160, eps=1e-05, momentum=0.1, affine=True, track_running_stats=True)\n",
      "  (dropout2): Dropout(p=0.4, inplace=False)\n",
      "  (dense2): Linear(in_features=1160, out_features=784, bias=True)\n",
      "  (batch_norm3): BatchNorm1d(784, eps=1e-05, momentum=0.1, affine=True, track_running_stats=True)\n",
      "  (dropout3): Dropout(p=0.5, inplace=False)\n",
      "  (dense3): Linear(in_features=784, out_features=784, bias=True)\n",
      "  (batch_norm4): BatchNorm1d(784, eps=1e-05, momentum=0.1, affine=True, track_running_stats=True)\n",
      "  (dropout4): Dropout(p=0.4, inplace=False)\n",
      "  (dense4): Linear(in_features=784, out_features=29, bias=True)\n",
      ")\n"
     ]
    }
   ],
   "source": [
    "model = Model(num_features, num_targets, hidden_size)\n",
    "\n",
    "criterion = nn.CrossEntropyLoss()\n",
    "optimizer = optim.Adam(model.parameters(), lr=LEARNING_RATE)\n",
    "print(model)"
   ]
  },
  {
   "cell_type": "code",
   "execution_count": 12,
   "metadata": {},
   "outputs": [],
   "source": [
    "def multi_acc(y_pred, y_test):\n",
    "    y_pred_softmax = torch.log_softmax(y_pred, dim = 1)\n",
    "    _, y_pred_tags = torch.max(y_pred_softmax, dim = 1)    \n",
    "    \n",
    "    correct_pred = (y_pred_tags == y_test).float()\n",
    "    acc = correct_pred.sum() / len(correct_pred)\n",
    "    \n",
    "    acc = torch.round(acc) * 100\n",
    "    \n",
    "    return acc"
   ]
  },
  {
   "cell_type": "code",
   "execution_count": 13,
   "metadata": {},
   "outputs": [],
   "source": [
    "accuracy_stats = {\n",
    "    'train': [],\n",
    "    \"val\": []\n",
    "}\n",
    "loss_stats = {\n",
    "    'train': [],\n",
    "    \"val\": []\n",
    "}"
   ]
  },
  {
   "cell_type": "code",
   "execution_count": 14,
   "metadata": {},
   "outputs": [
    {
     "name": "stdout",
     "output_type": "stream",
     "text": [
      "Begin training.\n"
     ]
    },
    {
     "data": {
      "application/vnd.jupyter.widget-view+json": {
       "model_id": "687d1095787d45aeaed715b546d65347",
       "version_major": 2,
       "version_minor": 0
      },
      "text/plain": [
       "HBox(children=(HTML(value=''), FloatProgress(value=0.0, max=300.0), HTML(value='')))"
      ]
     },
     "metadata": {},
     "output_type": "display_data"
    },
    {
     "name": "stdout",
     "output_type": "stream",
     "text": [
      "Epoch 001: | Train Loss: 1.37762 | Val Loss: 1.10665 | Train Acc: 88.889| Val Acc: 100.000\n",
      "Epoch 002: | Train Loss: 0.94268 | Val Loss: 0.76280 | Train Acc: 100.000| Val Acc: 100.000\n",
      "Epoch 003: | Train Loss: 0.84985 | Val Loss: 0.65437 | Train Acc: 100.000| Val Acc: 100.000\n",
      "Epoch 004: | Train Loss: 0.78615 | Val Loss: 0.61365 | Train Acc: 100.000| Val Acc: 100.000\n",
      "Epoch 005: | Train Loss: 0.75955 | Val Loss: 0.59933 | Train Acc: 100.000| Val Acc: 100.000\n",
      "Epoch 006: | Train Loss: 0.72625 | Val Loss: 0.58448 | Train Acc: 100.000| Val Acc: 100.000\n",
      "Epoch 007: | Train Loss: 0.71706 | Val Loss: 0.56491 | Train Acc: 100.000| Val Acc: 100.000\n",
      "Epoch 008: | Train Loss: 0.68702 | Val Loss: 0.53390 | Train Acc: 100.000| Val Acc: 100.000\n",
      "Epoch 009: | Train Loss: 0.66283 | Val Loss: 0.51534 | Train Acc: 100.000| Val Acc: 100.000\n",
      "Epoch 010: | Train Loss: 0.63812 | Val Loss: 0.52262 | Train Acc: 100.000| Val Acc: 100.000\n",
      "Epoch 011: | Train Loss: 0.62631 | Val Loss: 0.51706 | Train Acc: 100.000| Val Acc: 100.000\n",
      "Epoch 012: | Train Loss: 0.61713 | Val Loss: 0.52384 | Train Acc: 100.000| Val Acc: 100.000\n",
      "Epoch 013: | Train Loss: 0.59430 | Val Loss: 0.49065 | Train Acc: 100.000| Val Acc: 100.000\n",
      "Epoch 014: | Train Loss: 0.58055 | Val Loss: 0.46240 | Train Acc: 100.000| Val Acc: 100.000\n",
      "Epoch 015: | Train Loss: 0.56093 | Val Loss: 0.44085 | Train Acc: 100.000| Val Acc: 100.000\n",
      "Epoch 016: | Train Loss: 0.55166 | Val Loss: 0.46732 | Train Acc: 100.000| Val Acc: 100.000\n",
      "Epoch 017: | Train Loss: 0.54419 | Val Loss: 0.45918 | Train Acc: 100.000| Val Acc: 100.000\n",
      "Epoch 018: | Train Loss: 0.55204 | Val Loss: 0.46254 | Train Acc: 100.000| Val Acc: 100.000\n",
      "Epoch 019: | Train Loss: 0.54557 | Val Loss: 0.43405 | Train Acc: 100.000| Val Acc: 100.000\n",
      "Epoch 020: | Train Loss: 0.52132 | Val Loss: 0.44092 | Train Acc: 100.000| Val Acc: 100.000\n",
      "Epoch 021: | Train Loss: 0.49135 | Val Loss: 0.40758 | Train Acc: 100.000| Val Acc: 100.000\n",
      "Epoch 022: | Train Loss: 0.50119 | Val Loss: 0.44122 | Train Acc: 100.000| Val Acc: 100.000\n",
      "Epoch 023: | Train Loss: 0.48376 | Val Loss: 0.43844 | Train Acc: 100.000| Val Acc: 100.000\n",
      "Epoch 024: | Train Loss: 0.49654 | Val Loss: 0.41996 | Train Acc: 100.000| Val Acc: 100.000\n",
      "Epoch 025: | Train Loss: 0.45621 | Val Loss: 0.39787 | Train Acc: 100.000| Val Acc: 100.000\n",
      "Epoch 026: | Train Loss: 0.44298 | Val Loss: 0.39740 | Train Acc: 100.000| Val Acc: 100.000\n",
      "Epoch 027: | Train Loss: 0.45549 | Val Loss: 0.38795 | Train Acc: 100.000| Val Acc: 100.000\n",
      "Epoch 028: | Train Loss: 0.43406 | Val Loss: 0.38171 | Train Acc: 100.000| Val Acc: 100.000\n",
      "Epoch 029: | Train Loss: 0.47299 | Val Loss: 0.34149 | Train Acc: 100.000| Val Acc: 100.000\n",
      "Epoch 030: | Train Loss: 0.41437 | Val Loss: 0.35519 | Train Acc: 100.000| Val Acc: 100.000\n",
      "Epoch 031: | Train Loss: 0.42296 | Val Loss: 0.36923 | Train Acc: 100.000| Val Acc: 100.000\n",
      "Epoch 032: | Train Loss: 0.43244 | Val Loss: 0.37482 | Train Acc: 100.000| Val Acc: 100.000\n",
      "Epoch 033: | Train Loss: 0.41672 | Val Loss: 0.37270 | Train Acc: 100.000| Val Acc: 100.000\n",
      "Epoch 034: | Train Loss: 0.41653 | Val Loss: 0.36200 | Train Acc: 100.000| Val Acc: 100.000\n",
      "Epoch 035: | Train Loss: 0.39707 | Val Loss: 0.36334 | Train Acc: 100.000| Val Acc: 100.000\n",
      "Epoch 036: | Train Loss: 0.37664 | Val Loss: 0.35662 | Train Acc: 100.000| Val Acc: 100.000\n",
      "Epoch 037: | Train Loss: 0.39154 | Val Loss: 0.33181 | Train Acc: 100.000| Val Acc: 100.000\n",
      "Epoch 038: | Train Loss: 0.41635 | Val Loss: 0.33470 | Train Acc: 100.000| Val Acc: 100.000\n",
      "Epoch 039: | Train Loss: 0.38630 | Val Loss: 0.34413 | Train Acc: 100.000| Val Acc: 100.000\n",
      "Epoch 040: | Train Loss: 0.38040 | Val Loss: 0.34467 | Train Acc: 100.000| Val Acc: 100.000\n",
      "Epoch 041: | Train Loss: 0.38630 | Val Loss: 0.31863 | Train Acc: 100.000| Val Acc: 100.000\n",
      "Epoch 042: | Train Loss: 0.36421 | Val Loss: 0.34258 | Train Acc: 100.000| Val Acc: 100.000\n",
      "Epoch 043: | Train Loss: 0.36301 | Val Loss: 0.32286 | Train Acc: 100.000| Val Acc: 100.000\n",
      "Epoch 044: | Train Loss: 0.37304 | Val Loss: 0.31864 | Train Acc: 100.000| Val Acc: 100.000\n",
      "Epoch 045: | Train Loss: 0.34584 | Val Loss: 0.31458 | Train Acc: 100.000| Val Acc: 100.000\n",
      "Epoch 046: | Train Loss: 0.35094 | Val Loss: 0.32760 | Train Acc: 100.000| Val Acc: 100.000\n",
      "Epoch 047: | Train Loss: 0.30961 | Val Loss: 0.33551 | Train Acc: 100.000| Val Acc: 100.000\n",
      "Epoch 048: | Train Loss: 0.34283 | Val Loss: 0.30441 | Train Acc: 100.000| Val Acc: 100.000\n",
      "Epoch 049: | Train Loss: 0.31978 | Val Loss: 0.32961 | Train Acc: 100.000| Val Acc: 100.000\n",
      "Epoch 050: | Train Loss: 0.31985 | Val Loss: 0.33059 | Train Acc: 100.000| Val Acc: 100.000\n",
      "Epoch 051: | Train Loss: 0.31160 | Val Loss: 0.31408 | Train Acc: 100.000| Val Acc: 100.000\n",
      "Epoch 052: | Train Loss: 0.34455 | Val Loss: 0.31519 | Train Acc: 100.000| Val Acc: 100.000\n",
      "Epoch 053: | Train Loss: 0.33975 | Val Loss: 0.30014 | Train Acc: 100.000| Val Acc: 100.000\n",
      "Epoch 054: | Train Loss: 0.29873 | Val Loss: 0.30952 | Train Acc: 100.000| Val Acc: 100.000\n",
      "Epoch 055: | Train Loss: 0.31004 | Val Loss: 0.31260 | Train Acc: 100.000| Val Acc: 100.000\n",
      "Epoch 056: | Train Loss: 0.29151 | Val Loss: 0.30149 | Train Acc: 100.000| Val Acc: 100.000\n",
      "Epoch 057: | Train Loss: 0.28815 | Val Loss: 0.30277 | Train Acc: 100.000| Val Acc: 100.000\n",
      "Epoch 058: | Train Loss: 0.28057 | Val Loss: 0.28205 | Train Acc: 100.000| Val Acc: 100.000\n",
      "Epoch 059: | Train Loss: 0.31165 | Val Loss: 0.29998 | Train Acc: 100.000| Val Acc: 100.000\n",
      "Epoch 060: | Train Loss: 0.30231 | Val Loss: 0.33139 | Train Acc: 100.000| Val Acc: 100.000\n",
      "Epoch 061: | Train Loss: 0.29796 | Val Loss: 0.32073 | Train Acc: 100.000| Val Acc: 100.000\n",
      "Epoch 062: | Train Loss: 0.29246 | Val Loss: 0.30614 | Train Acc: 100.000| Val Acc: 100.000\n",
      "Epoch 063: | Train Loss: 0.31163 | Val Loss: 0.31416 | Train Acc: 100.000| Val Acc: 100.000\n",
      "Epoch 064: | Train Loss: 0.26467 | Val Loss: 0.30080 | Train Acc: 100.000| Val Acc: 100.000\n",
      "Epoch 065: | Train Loss: 0.28331 | Val Loss: 0.29974 | Train Acc: 100.000| Val Acc: 100.000\n",
      "Epoch 066: | Train Loss: 0.27185 | Val Loss: 0.26918 | Train Acc: 100.000| Val Acc: 100.000\n",
      "Epoch 067: | Train Loss: 0.26401 | Val Loss: 0.28725 | Train Acc: 100.000| Val Acc: 100.000\n",
      "Epoch 068: | Train Loss: 0.26846 | Val Loss: 0.28922 | Train Acc: 100.000| Val Acc: 100.000\n",
      "Epoch 069: | Train Loss: 0.26643 | Val Loss: 0.25931 | Train Acc: 100.000| Val Acc: 100.000\n",
      "Epoch 070: | Train Loss: 0.27927 | Val Loss: 0.26987 | Train Acc: 100.000| Val Acc: 100.000\n",
      "Epoch 071: | Train Loss: 0.27931 | Val Loss: 0.28256 | Train Acc: 100.000| Val Acc: 100.000\n",
      "Epoch 072: | Train Loss: 0.24056 | Val Loss: 0.29040 | Train Acc: 100.000| Val Acc: 100.000\n",
      "Epoch 073: | Train Loss: 0.25757 | Val Loss: 0.29813 | Train Acc: 100.000| Val Acc: 100.000\n",
      "Epoch 074: | Train Loss: 0.25438 | Val Loss: 0.28510 | Train Acc: 100.000| Val Acc: 100.000\n",
      "Epoch 075: | Train Loss: 0.26014 | Val Loss: 0.27199 | Train Acc: 100.000| Val Acc: 100.000\n",
      "Epoch 076: | Train Loss: 0.24949 | Val Loss: 0.28070 | Train Acc: 100.000| Val Acc: 100.000\n",
      "Epoch 077: | Train Loss: 0.25489 | Val Loss: 0.29119 | Train Acc: 100.000| Val Acc: 100.000\n",
      "Epoch 078: | Train Loss: 0.23608 | Val Loss: 0.28816 | Train Acc: 100.000| Val Acc: 100.000\n",
      "Epoch 079: | Train Loss: 0.23478 | Val Loss: 0.26545 | Train Acc: 100.000| Val Acc: 100.000\n",
      "Epoch 080: | Train Loss: 0.22307 | Val Loss: 0.23828 | Train Acc: 100.000| Val Acc: 100.000\n",
      "\n"
     ]
    }
   ],
   "source": [
    "print(\"Begin training.\")\n",
    "for e in tqdm(range(1, EPOCHS+1)):\n",
    "    \n",
    "    # TRAINING\n",
    "    train_epoch_loss = 0\n",
    "    train_epoch_acc = 0\n",
    "    model.train()\n",
    "    for X_train_batch, y_train_batch in train_loader:\n",
    "        optimizer.zero_grad()\n",
    "        \n",
    "        y_train_pred = model(X_train_batch)\n",
    "        \n",
    "        train_loss = criterion(y_train_pred, y_train_batch)\n",
    "        train_acc = multi_acc(y_train_pred, y_train_batch) \n",
    "        \n",
    "        train_loss.backward()\n",
    "        optimizer.step()\n",
    "        train_epoch_loss += train_loss.item()\n",
    "        train_epoch_acc += train_acc.item()\n",
    "        \n",
    "        \n",
    "    # VALIDATION    \n",
    "    with torch.no_grad():\n",
    "        \n",
    "        val_epoch_loss = 0\n",
    "        val_epoch_acc = 0\n",
    "        \n",
    "        model.eval()\n",
    "        for X_val_batch, y_val_batch in val_loader:\n",
    "            \n",
    "            y_val_pred = model(X_val_batch)\n",
    "                        \n",
    "            val_loss = criterion(y_val_pred, y_val_batch)\n",
    "            val_acc = multi_acc(y_val_pred, y_val_batch)\n",
    "            \n",
    "            val_epoch_loss += val_loss.item()\n",
    "            val_epoch_acc += val_acc.item()\n",
    "    loss_stats['train'].append(train_epoch_loss/len(train_loader))\n",
    "    loss_stats['val'].append(val_epoch_loss/len(val_loader))\n",
    "    accuracy_stats['train'].append(train_epoch_acc/len(train_loader))\n",
    "    accuracy_stats['val'].append(val_epoch_acc/len(val_loader))\n",
    "    \n",
    "    print(f'Epoch {e+0:03}: | Train Loss: {train_epoch_loss/len(train_loader):.5f} | Val Loss: {val_epoch_loss/len(val_loader):.5f} | Train Acc: {train_epoch_acc/len(train_loader):.3f}| Val Acc: {val_epoch_acc/len(val_loader):.3f}')\n",
    "    if val_epoch_loss/len(val_loader) <0.24:\n",
    "        break"
   ]
  },
  {
   "cell_type": "code",
   "execution_count": 15,
   "metadata": {},
   "outputs": [
    {
     "data": {
      "text/plain": [
       "Text(0.5, 1.0, 'Train-Val Loss/Epoch')"
      ]
     },
     "execution_count": 15,
     "metadata": {},
     "output_type": "execute_result"
    },
    {
     "data": {
      "image/png": "[encoded data removed]",
      "text/plain": [
       "<Figure size 1440x504 with 2 Axes>"
      ]
     },
     "metadata": {
      "needs_background": "light"
     },
     "output_type": "display_data"
    }
   ],
   "source": [
    "# Create dataframes\n",
    "train_val_acc_df = pd.DataFrame.from_dict(accuracy_stats).reset_index().melt(id_vars=['index']).rename(columns={\"index\":\"epochs\"})\n",
    "train_val_loss_df = pd.DataFrame.from_dict(loss_stats).reset_index().melt(id_vars=['index']).rename(columns={\"index\":\"epochs\"})\n",
    "# Plot the dataframes\n",
    "fig, axes = plt.subplots(nrows=1, ncols=2, figsize=(20,7))\n",
    "sns.lineplot(data=train_val_acc_df, x = \"epochs\", y=\"value\", hue=\"variable\",  ax=axes[0]).set_title('Train-Val Accuracy/Epoch')\n",
    "sns.lineplot(data=train_val_loss_df, x = \"epochs\", y=\"value\", hue=\"variable\", ax=axes[1]).set_title('Train-Val Loss/Epoch')"
   ]
  },
  {
   "cell_type": "code",
   "execution_count": 16,
   "metadata": {},
   "outputs": [],
   "source": [
    "y_pred_list = []\n",
    "y_pred_1_list = []\n",
    "\n",
    "with torch.no_grad():\n",
    "    model.eval()\n",
    "    for X_batch,_  in val_loader:\n",
    "        X_batch = X_batch\n",
    "        y_test_pred = model(X_batch)\n",
    "        y_pred_softmax = torch.log_softmax(y_test_pred, dim = 1)\n",
    "        _, y_pred_tags = torch.max(y_pred_softmax, dim = 1)\n",
    "        y_pred_1_list.append(y_pred_tags.numpy())\n",
    "#y_pred_list = [a.squeeze().tolist() for a in y_pred_1_list]"
   ]
  },
  {
   "cell_type": "code",
   "execution_count": 17,
   "metadata": {},
   "outputs": [],
   "source": [
    "preds=[]\n",
    "for i in y_pred_1_list:\n",
    "    for j in i:\n",
    "        preds.append(j)"
   ]
  },
  {
   "cell_type": "code",
   "execution_count": 18,
   "metadata": {},
   "outputs": [
    {
     "data": {
      "text/plain": [
       "0.9101253075605308"
      ]
     },
     "execution_count": 18,
     "metadata": {},
     "output_type": "execute_result"
    }
   ],
   "source": [
    "f1_score(preds,y_tv.values , average='weighted')"
   ]
  },
  {
   "cell_type": "code",
   "execution_count": 19,
   "metadata": {},
   "outputs": [],
   "source": [
    "y_pred_list = []\n",
    "y_pred_1_list = []\n",
    "\n",
    "with torch.no_grad():\n",
    "    model.eval()\n",
    "    for X_batch in test_loader:\n",
    "        X_batch = X_batch\n",
    "        y_test_pred = model(X_batch)\n",
    "        y_pred_softmax = torch.log_softmax(y_test_pred, dim = 1)\n",
    "        _, y_pred_tags = torch.max(y_pred_softmax, dim = 1)\n",
    "        y_pred_1_list.append(y_pred_tags.numpy())\n",
    "#y_pred_list = [a.squeeze().tolist() for a in y_pred_1_list]\n",
    "preds=[]\n",
    "for i in y_pred_1_list:\n",
    "    for j in i:\n",
    "        preds.append(j)"
   ]
  },
  {
   "cell_type": "code",
   "execution_count": 20,
   "metadata": {},
   "outputs": [],
   "source": [
    "pd.Series(preds).to_csv('preds/torch_missf_290.csv', index=False, header=['Culture'])"
   ]
  },
  {
   "cell_type": "code",
   "execution_count": 21,
   "metadata": {},
   "outputs": [
    {
     "data": {
      "text/plain": [
       "0       8\n",
       "1      12\n",
       "2      10\n",
       "3       7\n",
       "4       4\n",
       "       ..\n",
       "934     3\n",
       "935    21\n",
       "936    10\n",
       "937    12\n",
       "938     4\n",
       "Length: 939, dtype: int64"
      ]
     },
     "execution_count": 21,
     "metadata": {},
     "output_type": "execute_result"
    }
   ],
   "source": [
    "pd.Series(preds)"
   ]
  },
  {
   "cell_type": "code",
   "execution_count": null,
   "metadata": {},
   "outputs": [],
   "source": []
  }
 ],
 "metadata": {
  "kernelspec": {
   "display_name": "Python 3",
   "language": "python",
   "name": "python3"
  },
  "language_info": {
   "codemirror_mode": {
    "name": "ipython",
    "version": 3
   },
   "file_extension": ".py",
   "mimetype": "text/x-python",
   "name": "python",
   "nbconvert_exporter": "python",
   "pygments_lexer": "ipython3",
   "version": "3.7.6"
  }
 },
 "nbformat": 4,
 "nbformat_minor": 4
}
