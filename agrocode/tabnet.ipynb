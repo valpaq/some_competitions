{
 "cells": [
  {
   "cell_type": "code",
   "execution_count": 1,
   "metadata": {},
   "outputs": [
    {
     "name": "stdout",
     "output_type": "stream",
     "text": [
      "Collecting pytorch-tabnet\n",
      "  Downloading pytorch_tabnet-2.0.1-py3-none-any.whl (30 kB)\n",
      "Requirement already satisfied: tqdm<5.0,>=4.36 in c:\\users\\adm\\appdata\\local\\programs\\python\\python37\\lib\\site-packages (from pytorch-tabnet) (4.53.0)\n",
      "Requirement already satisfied: scikit_learn>0.21 in c:\\users\\adm\\appdata\\local\\programs\\python\\python37\\lib\\site-packages (from pytorch-tabnet) (0.23.2)\n",
      "Requirement already satisfied: scipy>1.4 in c:\\users\\adm\\appdata\\local\\programs\\python\\python37\\lib\\site-packages (from pytorch-tabnet) (1.5.4)\n",
      "Requirement already satisfied: numpy<2.0,>=1.17 in c:\\users\\adm\\appdata\\local\\programs\\python\\python37\\lib\\site-packages (from pytorch-tabnet) (1.18.5)\n",
      "Requirement already satisfied: torch<2.0,>=1.2 in c:\\users\\adm\\appdata\\local\\programs\\python\\python37\\lib\\site-packages (from pytorch-tabnet) (1.7.0+cpu)\n",
      "Requirement already satisfied: joblib>=0.11 in c:\\users\\adm\\appdata\\local\\programs\\python\\python37\\lib\\site-packages (from scikit_learn>0.21->pytorch-tabnet) (0.17.0)\n",
      "Requirement already satisfied: threadpoolctl>=2.0.0 in c:\\users\\adm\\appdata\\local\\programs\\python\\python37\\lib\\site-packages (from scikit_learn>0.21->pytorch-tabnet) (2.1.0)\n",
      "Requirement already satisfied: dataclasses in c:\\users\\adm\\appdata\\local\\programs\\python\\python37\\lib\\site-packages (from torch<2.0,>=1.2->pytorch-tabnet) (0.6)\n",
      "Requirement already satisfied: typing-extensions in c:\\users\\adm\\appdata\\local\\programs\\python\\python37\\lib\\site-packages (from torch<2.0,>=1.2->pytorch-tabnet) (3.7.4.3)\n",
      "Requirement already satisfied: future in c:\\users\\adm\\appdata\\local\\programs\\python\\python37\\lib\\site-packages (from torch<2.0,>=1.2->pytorch-tabnet) (0.18.2)\n",
      "Installing collected packages: pytorch-tabnet\n",
      "Successfully installed pytorch-tabnet-2.0.1\n"
     ]
    }
   ],
   "source": [
    "!pip install pytorch-tabnet"
   ]
  },
  {
   "cell_type": "code",
   "execution_count": 4,
   "metadata": {},
   "outputs": [
    {
     "name": "stdout",
     "output_type": "stream",
     "text": [
      "Device used : cpu\n"
     ]
    }
   ],
   "source": [
    "from pytorch_tabnet.multitask import TabNetMultiTaskClassifier\n",
    "from sklearn.model_selection import StratifiedKFold\n",
    "clf = TabNetMultiTaskClassifier()\n"
   ]
  },
  {
   "cell_type": "code",
   "execution_count": 5,
   "metadata": {},
   "outputs": [
    {
     "ename": "NameError",
     "evalue": "name 'folds' is not defined",
     "output_type": "error",
     "traceback": [
      "\u001b[1;31m---------------------------------------------------------------------------\u001b[0m",
      "\u001b[1;31mNameError\u001b[0m                                 Traceback (most recent call last)",
      "\u001b[1;32m<ipython-input-5-7e9ca48aa97f>\u001b[0m in \u001b[0;36m<module>\u001b[1;34m\u001b[0m\n\u001b[1;32m----> 1\u001b[1;33m \u001b[0mskf\u001b[0m \u001b[1;33m=\u001b[0m \u001b[0mStratifiedKFold\u001b[0m\u001b[1;33m(\u001b[0m\u001b[0mn_splits\u001b[0m\u001b[1;33m=\u001b[0m\u001b[0mfolds\u001b[0m\u001b[1;33m,\u001b[0m \u001b[0mshuffle\u001b[0m \u001b[1;33m=\u001b[0m \u001b[1;32mTrue\u001b[0m\u001b[1;33m,\u001b[0m \u001b[0mrandom_state\u001b[0m \u001b[1;33m=\u001b[0m \u001b[1;36m0\u001b[0m\u001b[1;33m)\u001b[0m\u001b[1;33m\u001b[0m\u001b[1;33m\u001b[0m\u001b[0m\n\u001b[0m",
      "\u001b[1;31mNameError\u001b[0m: name 'folds' is not defined"
     ]
    }
   ],
   "source": [
    "folds = 5\n",
    "skf = StratifiedKFold(n_splits=folds, shuffle = True, random_state = 0)\n"
   ]
  },
  {
   "cell_type": "code",
   "execution_count": null,
   "metadata": {},
   "outputs": [],
   "source": []
  },
  {
   "cell_type": "code",
   "execution_count": null,
   "metadata": {},
   "outputs": [],
   "source": [
    "clf.fit(\n",
    "  X_train, Y_train,\n",
    ")\n",
    "preds = clf.predict(X_test)"
   ]
  }
 ],
 "metadata": {
  "kernelspec": {
   "display_name": "Python 3",
   "language": "python",
   "name": "python3"
  },
  "language_info": {
   "codemirror_mode": {
    "name": "ipython",
    "version": 3
   },
   "file_extension": ".py",
   "mimetype": "text/x-python",
   "name": "python",
   "nbconvert_exporter": "python",
   "pygments_lexer": "ipython3",
   "version": "3.7.6"
  }
 },
 "nbformat": 4,
 "nbformat_minor": 4
}
