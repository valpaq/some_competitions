{
 "cells": [
  {
   "cell_type": "code",
   "execution_count": 1,
   "metadata": {},
   "outputs": [],
   "source": [
    "import numpy as np\n",
    "import random\n",
    "import pandas as pd\n",
    "import matplotlib.pyplot as plt\n",
    "import os\n",
    "import copy\n",
    "import seaborn as sns\n",
    "from sklearn.impute import KNNImputer\n",
    "from sklearn.model_selection import train_test_split\n",
    "from tqdm.notebook import tqdm\n",
    "\n",
    "from sklearn import preprocessing\n",
    "from sklearn.metrics import log_loss\n",
    "from sklearn.preprocessing import StandardScaler\n",
    "from sklearn.decomposition import PCA\n",
    "from sklearn.metrics import f1_score\n",
    "\n",
    "import torch\n",
    "import torch.nn as nn\n",
    "import torch.nn.functional as F\n",
    "import torch.optim as optim\n",
    "from torch.utils.data import Dataset, DataLoader, WeightedRandomSampler\n",
    "\n",
    "import warnings\n",
    "warnings.filterwarnings('ignore')\n",
    "\n",
    "def seed_everything(seed=42):\n",
    "    random.seed(seed)\n",
    "    np.random.seed(seed)\n",
    "    torch.manual_seed(seed)\n",
    "    torch.cuda.manual_seed(seed)\n",
    "    torch.backends.cudnn.deterministic = True\n",
    "    \n",
    "seed_everything(seed=42)"
   ]
  },
  {
   "cell_type": "code",
   "execution_count": 41,
   "metadata": {},
   "outputs": [
    {
     "name": "stdout",
     "output_type": "stream",
     "text": [
      "(2838, 368) (939, 368)\n"
     ]
    }
   ],
   "source": [
    "train = pd.read_csv('data/X_train_imp.csv')\n",
    "test = pd.read_csv('data/X_test_imp.csv')\n",
    "\n",
    "print(train.shape, test.shape)"
   ]
  },
  {
   "cell_type": "code",
   "execution_count": 155,
   "metadata": {},
   "outputs": [],
   "source": [
    "X_train = train.drop(['0','1','2'], axis=1)\n",
    "y_train = pd.read_csv('data/y_train.csv')\n",
    "\n",
    "X_test = test.drop(['0','1','2'], axis=1)"
   ]
  },
  {
   "cell_type": "code",
   "execution_count": 156,
   "metadata": {},
   "outputs": [
    {
     "data": {
      "text/plain": [
       "0        4\n",
       "1       17\n",
       "2        2\n",
       "3        4\n",
       "4        4\n",
       "        ..\n",
       "2833     4\n",
       "2834     4\n",
       "2835     4\n",
       "2836     5\n",
       "2837     7\n",
       "Name: Culture, Length: 2838, dtype: int64"
      ]
     },
     "execution_count": 156,
     "metadata": {},
     "output_type": "execute_result"
    }
   ],
   "source": [
    "y_train['Culture']"
   ]
  },
  {
   "cell_type": "code",
   "execution_count": 224,
   "metadata": {},
   "outputs": [],
   "source": [
    "X_tt, X_tv, y_tt, y_tv = train_test_split(X_train, y_train['Culture'], test_size=0.1, random_state=0)"
   ]
  },
  {
   "cell_type": "code",
   "execution_count": 225,
   "metadata": {},
   "outputs": [],
   "source": [
    "EPOCHS = 300\n",
    "BATCH_SIZE = 128\n",
    "LEARNING_RATE = 0.0005\n",
    "\n",
    "num_features=365\n",
    "num_targets=29\n",
    "hidden_size=841\n"
   ]
  },
  {
   "cell_type": "code",
   "execution_count": 226,
   "metadata": {},
   "outputs": [],
   "source": [
    "class Model(nn.Module):\n",
    "    def __init__(self, num_features, num_targets, hidden_size):\n",
    "        super(Model, self).__init__()\n",
    "        self.batch_norm1 = nn.BatchNorm1d(num_features)\n",
    "        self.dropout1 = nn.Dropout(0.2)\n",
    "        self.dense1 = nn.utils.weight_norm(nn.Linear(num_features, 730))\n",
    "        \n",
    "        self.batch_norm2 = nn.BatchNorm1d(730)\n",
    "        self.dropout2 = nn.Dropout(0.4)\n",
    "        self.dense2 = nn.utils.weight_norm(nn.Linear(730, hidden_size))\n",
    "        \n",
    "        self.batch_norm3 = nn.BatchNorm1d(hidden_size)\n",
    "        self.dropout3 = nn.Dropout(0.5)\n",
    "        self.dense3 = nn.utils.weight_norm(nn.Linear(hidden_size, hidden_size))\n",
    "        \n",
    "        self.batch_norm4 = nn.BatchNorm1d(hidden_size)\n",
    "        self.dropout4 = nn.Dropout(0.3)\n",
    "        self.dense4 = nn.Linear(hidden_size, num_targets)\n",
    "    \n",
    "    def forward(self, x):\n",
    "        x = self.batch_norm1(x)\n",
    "        x = self.dropout1(x)\n",
    "        x = F.relu(self.dense1(x))\n",
    "        \n",
    "        x = self.batch_norm2(x)\n",
    "        x = self.dropout2(x)\n",
    "        x = F.relu(self.dense2(x))\n",
    "        \n",
    "        x = self.batch_norm3(x)\n",
    "        x = self.dropout3(x)\n",
    "        x = self.dense3(x)\n",
    "        \n",
    "        x = self.batch_norm4(x)\n",
    "        x = self.dropout4(x)\n",
    "        x = self.dense4(x)\n",
    "        \n",
    "        return x"
   ]
  },
  {
   "cell_type": "code",
   "execution_count": 227,
   "metadata": {},
   "outputs": [],
   "source": [
    "class MoADataset(Dataset):\n",
    "    def __init__(self, features, targets):\n",
    "        self.features = features\n",
    "        self.targets = targets\n",
    "        \n",
    "    def __len__(self):\n",
    "        return (self.features.shape[0])\n",
    "    \n",
    "    def __getitem__(self, idx):\n",
    "        \n",
    "        return self.features[idx],self.targets[idx]\n",
    "    \n",
    "class TestDataset(Dataset):\n",
    "    def __init__(self, features):\n",
    "        self.features = features\n",
    "        \n",
    "    def __len__(self):\n",
    "        return (self.features.shape[0])\n",
    "    \n",
    "    def __getitem__(self, idx):\n",
    "        return self.features[idx]"
   ]
  },
  {
   "cell_type": "code",
   "execution_count": 228,
   "metadata": {
    "scrolled": true
   },
   "outputs": [],
   "source": [
    "train_dataset = MoADataset(torch.from_numpy(X_tt.values).float(), torch.from_numpy(y_tt.values).long())\n",
    "val_dataset = MoADataset(torch.from_numpy(X_tv.values).float(), torch.from_numpy(y_tv.values).long())\n",
    "test_dataset = TestDataset(torch.from_numpy(X_test.values).float())"
   ]
  },
  {
   "cell_type": "code",
   "execution_count": 251,
   "metadata": {},
   "outputs": [
    {
     "name": "stdout",
     "output_type": "stream",
     "text": [
      "Model(\n",
      "  (batch_norm1): BatchNorm1d(365, eps=1e-05, momentum=0.1, affine=True, track_running_stats=True)\n",
      "  (dropout1): Dropout(p=0.2, inplace=False)\n",
      "  (dense1): Linear(in_features=365, out_features=730, bias=True)\n",
      "  (batch_norm2): BatchNorm1d(730, eps=1e-05, momentum=0.1, affine=True, track_running_stats=True)\n",
      "  (dropout2): Dropout(p=0.4, inplace=False)\n",
      "  (dense2): Linear(in_features=730, out_features=841, bias=True)\n",
      "  (batch_norm3): BatchNorm1d(841, eps=1e-05, momentum=0.1, affine=True, track_running_stats=True)\n",
      "  (dropout3): Dropout(p=0.5, inplace=False)\n",
      "  (dense3): Linear(in_features=841, out_features=841, bias=True)\n",
      "  (batch_norm4): BatchNorm1d(841, eps=1e-05, momentum=0.1, affine=True, track_running_stats=True)\n",
      "  (dropout4): Dropout(p=0.3, inplace=False)\n",
      "  (dense4): Linear(in_features=841, out_features=29, bias=True)\n",
      ")\n"
     ]
    }
   ],
   "source": [
    "model = Model(num_features, num_targets, hidden_size)\n",
    "\n",
    "criterion = nn.CrossEntropyLoss()\n",
    "optimizer = optim.Adam(model.parameters(), lr=LEARNING_RATE)\n",
    "print(model)"
   ]
  },
  {
   "cell_type": "code",
   "execution_count": 252,
   "metadata": {},
   "outputs": [],
   "source": [
    "def multi_acc(y_pred, y_test):\n",
    "    y_pred_softmax = torch.log_softmax(y_pred, dim = 1)\n",
    "    _, y_pred_tags = torch.max(y_pred_softmax, dim = 1)    \n",
    "    \n",
    "    correct_pred = (y_pred_tags == y_test).float()\n",
    "    acc = correct_pred.sum() / len(correct_pred)\n",
    "    \n",
    "    acc = torch.round(acc) * 100\n",
    "    \n",
    "    return acc"
   ]
  },
  {
   "cell_type": "code",
   "execution_count": 253,
   "metadata": {},
   "outputs": [],
   "source": [
    "accuracy_stats = {\n",
    "    'train': [],\n",
    "    \"val\": []\n",
    "}\n",
    "loss_stats = {\n",
    "    'train': [],\n",
    "    \"val\": []\n",
    "}"
   ]
  },
  {
   "cell_type": "code",
   "execution_count": 254,
   "metadata": {},
   "outputs": [],
   "source": [
    "train_loader = DataLoader(dataset=train_dataset,\n",
    "                          batch_size=BATCH_SIZE)\n",
    "val_loader = DataLoader(dataset=val_dataset, batch_size=BATCH_SIZE)\n",
    "test_loader = DataLoader(dataset=test_dataset, batch_size=1)"
   ]
  },
  {
   "cell_type": "code",
   "execution_count": 255,
   "metadata": {},
   "outputs": [
    {
     "name": "stdout",
     "output_type": "stream",
     "text": [
      "Begin training.\n"
     ]
    },
    {
     "data": {
      "application/vnd.jupyter.widget-view+json": {
       "model_id": "bb4f531155334bbcba5692b566f69288",
       "version_major": 2,
       "version_minor": 0
      },
      "text/plain": [
       "HBox(children=(HTML(value=''), FloatProgress(value=0.0, max=300.0), HTML(value='')))"
      ]
     },
     "metadata": {},
     "output_type": "display_data"
    },
    {
     "name": "stdout",
     "output_type": "stream",
     "text": [
      "Epoch 001: | Train Loss: 1.50025 | Val Loss: 1.09664 | Train Acc: 90.000| Val Acc: 100.000\n",
      "Epoch 002: | Train Loss: 0.94006 | Val Loss: 0.61123 | Train Acc: 100.000| Val Acc: 100.000\n",
      "Epoch 003: | Train Loss: 0.85689 | Val Loss: 0.49402 | Train Acc: 100.000| Val Acc: 100.000\n",
      "Epoch 004: | Train Loss: 0.78192 | Val Loss: 0.48403 | Train Acc: 100.000| Val Acc: 100.000\n",
      "Epoch 005: | Train Loss: 0.74237 | Val Loss: 0.42377 | Train Acc: 100.000| Val Acc: 100.000\n",
      "Epoch 006: | Train Loss: 0.68658 | Val Loss: 0.39886 | Train Acc: 100.000| Val Acc: 100.000\n",
      "Epoch 007: | Train Loss: 0.66503 | Val Loss: 0.36807 | Train Acc: 100.000| Val Acc: 100.000\n",
      "Epoch 008: | Train Loss: 0.63309 | Val Loss: 0.34165 | Train Acc: 100.000| Val Acc: 100.000\n",
      "Epoch 009: | Train Loss: 0.63140 | Val Loss: 0.32338 | Train Acc: 100.000| Val Acc: 100.000\n",
      "Epoch 010: | Train Loss: 0.64454 | Val Loss: 0.32602 | Train Acc: 100.000| Val Acc: 100.000\n",
      "Epoch 011: | Train Loss: 0.60605 | Val Loss: 0.31248 | Train Acc: 100.000| Val Acc: 100.000\n",
      "Epoch 012: | Train Loss: 0.57092 | Val Loss: 0.33034 | Train Acc: 100.000| Val Acc: 100.000\n",
      "Epoch 013: | Train Loss: 0.55161 | Val Loss: 0.29148 | Train Acc: 100.000| Val Acc: 100.000\n",
      "Epoch 014: | Train Loss: 0.55231 | Val Loss: 0.28949 | Train Acc: 100.000| Val Acc: 100.000\n",
      "Epoch 015: | Train Loss: 0.50844 | Val Loss: 0.28166 | Train Acc: 100.000| Val Acc: 100.000\n",
      "Epoch 016: | Train Loss: 0.52616 | Val Loss: 0.28556 | Train Acc: 100.000| Val Acc: 100.000\n",
      "Epoch 017: | Train Loss: 0.49161 | Val Loss: 0.29388 | Train Acc: 100.000| Val Acc: 100.000\n",
      "Epoch 018: | Train Loss: 0.49635 | Val Loss: 0.28671 | Train Acc: 100.000| Val Acc: 100.000\n",
      "Epoch 019: | Train Loss: 0.47587 | Val Loss: 0.27472 | Train Acc: 100.000| Val Acc: 100.000\n",
      "Epoch 020: | Train Loss: 0.49075 | Val Loss: 0.27006 | Train Acc: 100.000| Val Acc: 100.000\n",
      "Epoch 021: | Train Loss: 0.46426 | Val Loss: 0.26090 | Train Acc: 100.000| Val Acc: 100.000\n",
      "Epoch 022: | Train Loss: 0.44790 | Val Loss: 0.28025 | Train Acc: 100.000| Val Acc: 100.000\n",
      "Epoch 023: | Train Loss: 0.44849 | Val Loss: 0.24927 | Train Acc: 100.000| Val Acc: 100.000\n",
      "Epoch 024: | Train Loss: 0.42108 | Val Loss: 0.25630 | Train Acc: 100.000| Val Acc: 100.000\n",
      "Epoch 025: | Train Loss: 0.43235 | Val Loss: 0.26634 | Train Acc: 100.000| Val Acc: 100.000\n",
      "Epoch 026: | Train Loss: 0.43409 | Val Loss: 0.24739 | Train Acc: 100.000| Val Acc: 100.000\n",
      "Epoch 027: | Train Loss: 0.42480 | Val Loss: 0.24102 | Train Acc: 100.000| Val Acc: 100.000\n",
      "Epoch 028: | Train Loss: 0.39490 | Val Loss: 0.22734 | Train Acc: 100.000| Val Acc: 100.000\n",
      "Epoch 029: | Train Loss: 0.38547 | Val Loss: 0.23634 | Train Acc: 100.000| Val Acc: 100.000\n",
      "Epoch 030: | Train Loss: 0.39166 | Val Loss: 0.23197 | Train Acc: 100.000| Val Acc: 100.000\n",
      "Epoch 031: | Train Loss: 0.38192 | Val Loss: 0.23011 | Train Acc: 100.000| Val Acc: 100.000\n",
      "Epoch 032: | Train Loss: 0.38205 | Val Loss: 0.24350 | Train Acc: 100.000| Val Acc: 100.000\n",
      "Epoch 033: | Train Loss: 0.34801 | Val Loss: 0.22251 | Train Acc: 100.000| Val Acc: 100.000\n",
      "Epoch 034: | Train Loss: 0.37218 | Val Loss: 0.22480 | Train Acc: 100.000| Val Acc: 100.000\n",
      "Epoch 035: | Train Loss: 0.35234 | Val Loss: 0.22089 | Train Acc: 100.000| Val Acc: 100.000\n",
      "Epoch 036: | Train Loss: 0.34764 | Val Loss: 0.23706 | Train Acc: 100.000| Val Acc: 100.000\n",
      "Epoch 037: | Train Loss: 0.36666 | Val Loss: 0.24311 | Train Acc: 100.000| Val Acc: 100.000\n",
      "Epoch 038: | Train Loss: 0.35211 | Val Loss: 0.21033 | Train Acc: 100.000| Val Acc: 100.000\n",
      "Epoch 039: | Train Loss: 0.34999 | Val Loss: 0.20342 | Train Acc: 100.000| Val Acc: 100.000\n",
      "Epoch 040: | Train Loss: 0.34965 | Val Loss: 0.19397 | Train Acc: 100.000| Val Acc: 100.000\n",
      "Epoch 041: | Train Loss: 0.33765 | Val Loss: 0.20882 | Train Acc: 100.000| Val Acc: 100.000\n",
      "Epoch 042: | Train Loss: 0.32327 | Val Loss: 0.20976 | Train Acc: 100.000| Val Acc: 100.000\n",
      "Epoch 043: | Train Loss: 0.31092 | Val Loss: 0.19762 | Train Acc: 100.000| Val Acc: 100.000\n",
      "Epoch 044: | Train Loss: 0.32058 | Val Loss: 0.20743 | Train Acc: 100.000| Val Acc: 100.000\n",
      "Epoch 045: | Train Loss: 0.29374 | Val Loss: 0.20742 | Train Acc: 100.000| Val Acc: 100.000\n",
      "Epoch 046: | Train Loss: 0.30754 | Val Loss: 0.19732 | Train Acc: 100.000| Val Acc: 100.000\n",
      "Epoch 047: | Train Loss: 0.30316 | Val Loss: 0.20625 | Train Acc: 100.000| Val Acc: 100.000\n",
      "Epoch 048: | Train Loss: 0.28075 | Val Loss: 0.19305 | Train Acc: 100.000| Val Acc: 100.000\n",
      "Epoch 049: | Train Loss: 0.30354 | Val Loss: 0.23629 | Train Acc: 100.000| Val Acc: 100.000\n",
      "Epoch 050: | Train Loss: 0.29697 | Val Loss: 0.19949 | Train Acc: 100.000| Val Acc: 100.000\n",
      "Epoch 051: | Train Loss: 0.31545 | Val Loss: 0.21639 | Train Acc: 100.000| Val Acc: 100.000\n",
      "Epoch 052: | Train Loss: 0.29589 | Val Loss: 0.18816 | Train Acc: 100.000| Val Acc: 100.000\n",
      "Epoch 053: | Train Loss: 0.29901 | Val Loss: 0.21022 | Train Acc: 100.000| Val Acc: 100.000\n",
      "Epoch 054: | Train Loss: 0.27993 | Val Loss: 0.19684 | Train Acc: 100.000| Val Acc: 100.000\n",
      "Epoch 055: | Train Loss: 0.27694 | Val Loss: 0.20988 | Train Acc: 100.000| Val Acc: 100.000\n",
      "Epoch 056: | Train Loss: 0.26349 | Val Loss: 0.19017 | Train Acc: 100.000| Val Acc: 100.000\n",
      "Epoch 057: | Train Loss: 0.26562 | Val Loss: 0.19860 | Train Acc: 100.000| Val Acc: 100.000\n",
      "Epoch 058: | Train Loss: 0.29786 | Val Loss: 0.18616 | Train Acc: 100.000| Val Acc: 100.000\n",
      "Epoch 059: | Train Loss: 0.26434 | Val Loss: 0.17178 | Train Acc: 100.000| Val Acc: 100.000\n",
      "Epoch 060: | Train Loss: 0.23682 | Val Loss: 0.16609 | Train Acc: 100.000| Val Acc: 100.000\n",
      "Epoch 061: | Train Loss: 0.25182 | Val Loss: 0.19113 | Train Acc: 100.000| Val Acc: 100.000\n",
      "Epoch 062: | Train Loss: 0.24071 | Val Loss: 0.17217 | Train Acc: 100.000| Val Acc: 100.000\n",
      "Epoch 063: | Train Loss: 0.25526 | Val Loss: 0.18232 | Train Acc: 100.000| Val Acc: 100.000\n",
      "Epoch 064: | Train Loss: 0.24822 | Val Loss: 0.17392 | Train Acc: 100.000| Val Acc: 100.000\n",
      "Epoch 065: | Train Loss: 0.24875 | Val Loss: 0.18941 | Train Acc: 100.000| Val Acc: 100.000\n",
      "Epoch 066: | Train Loss: 0.24201 | Val Loss: 0.19249 | Train Acc: 100.000| Val Acc: 100.000\n",
      "Epoch 067: | Train Loss: 0.25583 | Val Loss: 0.17584 | Train Acc: 100.000| Val Acc: 100.000\n",
      "Epoch 068: | Train Loss: 0.21542 | Val Loss: 0.17614 | Train Acc: 100.000| Val Acc: 100.000\n",
      "Epoch 069: | Train Loss: 0.23621 | Val Loss: 0.19868 | Train Acc: 100.000| Val Acc: 100.000\n",
      "Epoch 070: | Train Loss: 0.25340 | Val Loss: 0.20373 | Train Acc: 100.000| Val Acc: 100.000\n",
      "Epoch 071: | Train Loss: 0.21985 | Val Loss: 0.19095 | Train Acc: 100.000| Val Acc: 100.000\n",
      "Epoch 072: | Train Loss: 0.23295 | Val Loss: 0.17923 | Train Acc: 100.000| Val Acc: 100.000\n",
      "Epoch 073: | Train Loss: 0.21707 | Val Loss: 0.16992 | Train Acc: 100.000| Val Acc: 100.000\n",
      "Epoch 074: | Train Loss: 0.21815 | Val Loss: 0.18768 | Train Acc: 100.000| Val Acc: 100.000\n",
      "Epoch 075: | Train Loss: 0.23487 | Val Loss: 0.18854 | Train Acc: 100.000| Val Acc: 100.000\n",
      "Epoch 076: | Train Loss: 0.21388 | Val Loss: 0.16720 | Train Acc: 100.000| Val Acc: 100.000\n",
      "Epoch 077: | Train Loss: 0.22458 | Val Loss: 0.16663 | Train Acc: 100.000| Val Acc: 100.000\n",
      "Epoch 078: | Train Loss: 0.21191 | Val Loss: 0.18457 | Train Acc: 100.000| Val Acc: 100.000\n",
      "\n"
     ]
    },
    {
     "ename": "KeyboardInterrupt",
     "evalue": "",
     "output_type": "error",
     "traceback": [
      "\u001b[1;31m---------------------------------------------------------------------------\u001b[0m",
      "\u001b[1;31mKeyboardInterrupt\u001b[0m                         Traceback (most recent call last)",
      "\u001b[1;32m<ipython-input-255-0d59d3863e8e>\u001b[0m in \u001b[0;36m<module>\u001b[1;34m\u001b[0m\n\u001b[0;32m     14\u001b[0m         \u001b[0mtrain_acc\u001b[0m \u001b[1;33m=\u001b[0m \u001b[0mmulti_acc\u001b[0m\u001b[1;33m(\u001b[0m\u001b[0my_train_pred\u001b[0m\u001b[1;33m,\u001b[0m \u001b[0my_train_batch\u001b[0m\u001b[1;33m)\u001b[0m\u001b[1;33m\u001b[0m\u001b[1;33m\u001b[0m\u001b[0m\n\u001b[0;32m     15\u001b[0m \u001b[1;33m\u001b[0m\u001b[0m\n\u001b[1;32m---> 16\u001b[1;33m         \u001b[0mtrain_loss\u001b[0m\u001b[1;33m.\u001b[0m\u001b[0mbackward\u001b[0m\u001b[1;33m(\u001b[0m\u001b[1;33m)\u001b[0m\u001b[1;33m\u001b[0m\u001b[1;33m\u001b[0m\u001b[0m\n\u001b[0m\u001b[0;32m     17\u001b[0m         \u001b[0moptimizer\u001b[0m\u001b[1;33m.\u001b[0m\u001b[0mstep\u001b[0m\u001b[1;33m(\u001b[0m\u001b[1;33m)\u001b[0m\u001b[1;33m\u001b[0m\u001b[1;33m\u001b[0m\u001b[0m\n\u001b[0;32m     18\u001b[0m \u001b[1;33m\u001b[0m\u001b[0m\n",
      "\u001b[1;32mc:\\users\\adm\\appdata\\local\\programs\\python\\python37\\lib\\site-packages\\torch\\tensor.py\u001b[0m in \u001b[0;36mbackward\u001b[1;34m(self, gradient, retain_graph, create_graph)\u001b[0m\n\u001b[0;32m    183\u001b[0m                 \u001b[0mproducts\u001b[0m\u001b[1;33m.\u001b[0m \u001b[0mDefaults\u001b[0m \u001b[0mto\u001b[0m\u001b[0;31m \u001b[0m\u001b[0;31m`\u001b[0m\u001b[0;31m`\u001b[0m\u001b[1;32mFalse\u001b[0m\u001b[0;31m`\u001b[0m\u001b[0;31m`\u001b[0m\u001b[1;33m.\u001b[0m\u001b[1;33m\u001b[0m\u001b[1;33m\u001b[0m\u001b[0m\n\u001b[0;32m    184\u001b[0m         \"\"\"\n\u001b[1;32m--> 185\u001b[1;33m         \u001b[0mtorch\u001b[0m\u001b[1;33m.\u001b[0m\u001b[0mautograd\u001b[0m\u001b[1;33m.\u001b[0m\u001b[0mbackward\u001b[0m\u001b[1;33m(\u001b[0m\u001b[0mself\u001b[0m\u001b[1;33m,\u001b[0m \u001b[0mgradient\u001b[0m\u001b[1;33m,\u001b[0m \u001b[0mretain_graph\u001b[0m\u001b[1;33m,\u001b[0m \u001b[0mcreate_graph\u001b[0m\u001b[1;33m)\u001b[0m\u001b[1;33m\u001b[0m\u001b[1;33m\u001b[0m\u001b[0m\n\u001b[0m\u001b[0;32m    186\u001b[0m \u001b[1;33m\u001b[0m\u001b[0m\n\u001b[0;32m    187\u001b[0m     \u001b[1;32mdef\u001b[0m \u001b[0mregister_hook\u001b[0m\u001b[1;33m(\u001b[0m\u001b[0mself\u001b[0m\u001b[1;33m,\u001b[0m \u001b[0mhook\u001b[0m\u001b[1;33m)\u001b[0m\u001b[1;33m:\u001b[0m\u001b[1;33m\u001b[0m\u001b[1;33m\u001b[0m\u001b[0m\n",
      "\u001b[1;32mc:\\users\\adm\\appdata\\local\\programs\\python\\python37\\lib\\site-packages\\torch\\autograd\\__init__.py\u001b[0m in \u001b[0;36mbackward\u001b[1;34m(tensors, grad_tensors, retain_graph, create_graph, grad_variables)\u001b[0m\n\u001b[0;32m    125\u001b[0m     Variable._execution_engine.run_backward(\n\u001b[0;32m    126\u001b[0m         \u001b[0mtensors\u001b[0m\u001b[1;33m,\u001b[0m \u001b[0mgrad_tensors\u001b[0m\u001b[1;33m,\u001b[0m \u001b[0mretain_graph\u001b[0m\u001b[1;33m,\u001b[0m \u001b[0mcreate_graph\u001b[0m\u001b[1;33m,\u001b[0m\u001b[1;33m\u001b[0m\u001b[1;33m\u001b[0m\u001b[0m\n\u001b[1;32m--> 127\u001b[1;33m         allow_unreachable=True)  # allow_unreachable flag\n\u001b[0m\u001b[0;32m    128\u001b[0m \u001b[1;33m\u001b[0m\u001b[0m\n\u001b[0;32m    129\u001b[0m \u001b[1;33m\u001b[0m\u001b[0m\n",
      "\u001b[1;31mKeyboardInterrupt\u001b[0m: "
     ]
    }
   ],
   "source": [
    "print(\"Begin training.\")\n",
    "for e in tqdm(range(1, EPOCHS+1)):\n",
    "    \n",
    "    # TRAINING\n",
    "    train_epoch_loss = 0\n",
    "    train_epoch_acc = 0\n",
    "    model.train()\n",
    "    for X_train_batch, y_train_batch in train_loader:\n",
    "        optimizer.zero_grad()\n",
    "        \n",
    "        y_train_pred = model(X_train_batch)\n",
    "        \n",
    "        train_loss = criterion(y_train_pred, y_train_batch)\n",
    "        train_acc = multi_acc(y_train_pred, y_train_batch) \n",
    "        \n",
    "        train_loss.backward()\n",
    "        optimizer.step()\n",
    "        \n",
    "        train_epoch_loss += train_loss.item()\n",
    "        train_epoch_acc += train_acc.item()\n",
    "        \n",
    "        \n",
    "    # VALIDATION    \n",
    "    with torch.no_grad():\n",
    "        \n",
    "        val_epoch_loss = 0\n",
    "        val_epoch_acc = 0\n",
    "        \n",
    "        model.eval()\n",
    "        for X_val_batch, y_val_batch in val_loader:\n",
    "            \n",
    "            y_val_pred = model(X_val_batch)\n",
    "                        \n",
    "            val_loss = criterion(y_val_pred, y_val_batch)\n",
    "            val_acc = multi_acc(y_val_pred, y_val_batch)\n",
    "            \n",
    "            val_epoch_loss += val_loss.item()\n",
    "            val_epoch_acc += val_acc.item()\n",
    "    loss_stats['train'].append(train_epoch_loss/len(train_loader))\n",
    "    loss_stats['val'].append(val_epoch_loss/len(val_loader))\n",
    "    accuracy_stats['train'].append(train_epoch_acc/len(train_loader))\n",
    "    accuracy_stats['val'].append(val_epoch_acc/len(val_loader))\n",
    "    \n",
    "    print(f'Epoch {e+0:03}: | Train Loss: {train_epoch_loss/len(train_loader):.5f} | Val Loss: {val_epoch_loss/len(val_loader):.5f} | Train Acc: {train_epoch_acc/len(train_loader):.3f}| Val Acc: {val_epoch_acc/len(val_loader):.3f}')\n",
    "    if val_epoch_loss/len(val_loader) <0.15:\n",
    "        break"
   ]
  },
  {
   "cell_type": "code",
   "execution_count": 256,
   "metadata": {},
   "outputs": [
    {
     "data": {
      "text/plain": [
       "Text(0.5, 1.0, 'Train-Val Loss/Epoch')"
      ]
     },
     "execution_count": 256,
     "metadata": {},
     "output_type": "execute_result"
    },
    {
     "data": {
      "image/png": "[encoded data removed]",
      "text/plain": [
       "<Figure size 1440x504 with 2 Axes>"
      ]
     },
     "metadata": {
      "needs_background": "light"
     },
     "output_type": "display_data"
    }
   ],
   "source": [
    "# Create dataframes\n",
    "train_val_acc_df = pd.DataFrame.from_dict(accuracy_stats).reset_index().melt(id_vars=['index']).rename(columns={\"index\":\"epochs\"})\n",
    "train_val_loss_df = pd.DataFrame.from_dict(loss_stats).reset_index().melt(id_vars=['index']).rename(columns={\"index\":\"epochs\"})\n",
    "# Plot the dataframes\n",
    "fig, axes = plt.subplots(nrows=1, ncols=2, figsize=(20,7))\n",
    "sns.lineplot(data=train_val_acc_df, x = \"epochs\", y=\"value\", hue=\"variable\",  ax=axes[0]).set_title('Train-Val Accuracy/Epoch')\n",
    "sns.lineplot(data=train_val_loss_df, x = \"epochs\", y=\"value\", hue=\"variable\", ax=axes[1]).set_title('Train-Val Loss/Epoch')"
   ]
  },
  {
   "cell_type": "code",
   "execution_count": 257,
   "metadata": {},
   "outputs": [],
   "source": [
    "y_pred_list = []\n",
    "y_pred_1_list = []\n",
    "\n",
    "with torch.no_grad():\n",
    "    model.eval()\n",
    "    for X_batch,_  in val_loader:\n",
    "        X_batch = X_batch\n",
    "        y_test_pred = model(X_batch)\n",
    "        y_pred_softmax = torch.log_softmax(y_test_pred, dim = 1)\n",
    "        _, y_pred_tags = torch.max(y_pred_softmax, dim = 1)\n",
    "        y_pred_1_list.append(y_pred_tags.numpy())\n",
    "#y_pred_list = [a.squeeze().tolist() for a in y_pred_1_list]"
   ]
  },
  {
   "cell_type": "code",
   "execution_count": 258,
   "metadata": {},
   "outputs": [],
   "source": [
    "preds=[]\n",
    "for i in y_pred_1_list:\n",
    "    for j in i:\n",
    "        preds.append(j)"
   ]
  },
  {
   "cell_type": "code",
   "execution_count": 259,
   "metadata": {},
   "outputs": [
    {
     "data": {
      "text/plain": [
       "0.930689628772797"
      ]
     },
     "execution_count": 259,
     "metadata": {},
     "output_type": "execute_result"
    }
   ],
   "source": [
    "f1_score(preds,y_tv.values , average='weighted')"
   ]
  },
  {
   "cell_type": "code",
   "execution_count": null,
   "metadata": {},
   "outputs": [],
   "source": [
    "y_pred_list = []\n",
    "y_pred_1_list = []\n",
    "\n",
    "with torch.no_grad():\n",
    "    model.eval()\n",
    "    for X_batch in test_loader:\n",
    "        X_batch = X_batch\n",
    "        y_test_pred = model(X_batch)\n",
    "        y_pred_softmax = torch.log_softmax(y_test_pred, dim = 1)\n",
    "        _, y_pred_tags = torch.max(y_pred_softmax, dim = 1)\n",
    "        y_pred_1_list.append(y_pred_tags.numpy())\n",
    "#y_pred_list = [a.squeeze().tolist() for a in y_pred_1_list]\n",
    "preds=[]\n",
    "for i in y_pred_1_list:\n",
    "    for j in i:\n",
    "        preds.append(j)"
   ]
  },
  {
   "cell_type": "code",
   "execution_count": null,
   "metadata": {},
   "outputs": [],
   "source": [
    "pd.Series(preds).to_csv('preds/torch_missf_no_del.csv', index=False, header=['Culture'])"
   ]
  },
  {
   "cell_type": "code",
   "execution_count": 154,
   "metadata": {},
   "outputs": [
    {
     "data": {
      "text/plain": [
       "0       8\n",
       "1      12\n",
       "2      21\n",
       "3       7\n",
       "4       4\n",
       "       ..\n",
       "934     3\n",
       "935    21\n",
       "936     7\n",
       "937    12\n",
       "938     4\n",
       "Length: 939, dtype: int64"
      ]
     },
     "execution_count": 154,
     "metadata": {},
     "output_type": "execute_result"
    }
   ],
   "source": [
    "pd.Series(preds)"
   ]
  },
  {
   "cell_type": "code",
   "execution_count": null,
   "metadata": {},
   "outputs": [],
   "source": []
  },
  {
   "cell_type": "code",
   "execution_count": null,
   "metadata": {},
   "outputs": [],
   "source": []
  }
 ],
 "metadata": {
  "kernelspec": {
   "display_name": "Python 3",
   "language": "python",
   "name": "python3"
  },
  "language_info": {
   "codemirror_mode": {
    "name": "ipython",
    "version": 3
   },
   "file_extension": ".py",
   "mimetype": "text/x-python",
   "name": "python",
   "nbconvert_exporter": "python",
   "pygments_lexer": "ipython3",
   "version": "3.7.6"
  }
 },
 "nbformat": 4,
 "nbformat_minor": 4
}
