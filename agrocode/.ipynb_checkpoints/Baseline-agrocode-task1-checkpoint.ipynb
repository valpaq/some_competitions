{
 "cells": [
  {
   "cell_type": "code",
   "execution_count": 1,
   "metadata": {
    "ExecuteTime": {
     "end_time": "2020-11-11T16:08:32.364602Z",
     "start_time": "2020-11-11T16:08:31.713372Z"
    }
   },
   "outputs": [],
   "source": [
    "import pandas as pd\n",
    "from sklearn.impute import KNNImputer\n",
    "from sklearn.model_selection import train_test_split\n",
    "from sklearn.ensemble import RandomForestClassifier\n",
    "from sklearn.metrics import f1_score, classification_report"
   ]
  },
  {
   "cell_type": "code",
   "execution_count": 2,
   "metadata": {
    "ExecuteTime": {
     "end_time": "2020-11-11T16:09:02.622485Z",
     "start_time": "2020-11-11T16:09:02.458471Z"
    }
   },
   "outputs": [
    {
     "name": "stdout",
     "output_type": "stream",
     "text": [
      "(2838, 370) (939, 369)\n"
     ]
    }
   ],
   "source": [
    "train = pd.read_csv('train.csv')\n",
    "test = pd.read_csv('test.csv')\n",
    "\n",
    "print(train.shape, test.shape)"
   ]
  },
  {
   "cell_type": "code",
   "execution_count": 3,
   "metadata": {
    "ExecuteTime": {
     "end_time": "2020-11-11T16:09:03.236949Z",
     "start_time": "2020-11-11T16:09:03.184094Z"
    }
   },
   "outputs": [
    {
     "data": {
      "text/html": [
       "<div>\n",
       "<style scoped>\n",
       "    .dataframe tbody tr th:only-of-type {\n",
       "        vertical-align: middle;\n",
       "    }\n",
       "\n",
       "    .dataframe tbody tr th {\n",
       "        vertical-align: top;\n",
       "    }\n",
       "\n",
       "    .dataframe thead th {\n",
       "        text-align: right;\n",
       "    }\n",
       "</style>\n",
       "<table border=\"1\" class=\"dataframe\">\n",
       "  <thead>\n",
       "    <tr style=\"text-align: right;\">\n",
       "      <th></th>\n",
       "      <th>Year</th>\n",
       "      <th>Field ID</th>\n",
       "      <th>Field Area</th>\n",
       "      <th>Day 1</th>\n",
       "      <th>Day 2</th>\n",
       "      <th>Day 3</th>\n",
       "      <th>Day 4</th>\n",
       "      <th>Day 5</th>\n",
       "      <th>Day 6</th>\n",
       "      <th>Day 7</th>\n",
       "      <th>...</th>\n",
       "      <th>Day 358</th>\n",
       "      <th>Day 359</th>\n",
       "      <th>Day 360</th>\n",
       "      <th>Day 361</th>\n",
       "      <th>Day 362</th>\n",
       "      <th>Day 363</th>\n",
       "      <th>Day 364</th>\n",
       "      <th>Day 365</th>\n",
       "      <th>Day 366</th>\n",
       "      <th>Culture</th>\n",
       "    </tr>\n",
       "  </thead>\n",
       "  <tbody>\n",
       "    <tr>\n",
       "      <th>0</th>\n",
       "      <td>2018</td>\n",
       "      <td>517</td>\n",
       "      <td>48.64</td>\n",
       "      <td>0.5369</td>\n",
       "      <td>0.5371</td>\n",
       "      <td>0.5375</td>\n",
       "      <td>0.5379</td>\n",
       "      <td>0.5384</td>\n",
       "      <td>0.5390</td>\n",
       "      <td>0.5397</td>\n",
       "      <td>...</td>\n",
       "      <td>0.4362</td>\n",
       "      <td>0.4322</td>\n",
       "      <td>0.4283</td>\n",
       "      <td>0.4243</td>\n",
       "      <td>0.4203</td>\n",
       "      <td>0.4163</td>\n",
       "      <td>0.4123</td>\n",
       "      <td>0.4084</td>\n",
       "      <td>NaN</td>\n",
       "      <td>4</td>\n",
       "    </tr>\n",
       "    <tr>\n",
       "      <th>1</th>\n",
       "      <td>2019</td>\n",
       "      <td>1395</td>\n",
       "      <td>80.41</td>\n",
       "      <td>0.1159</td>\n",
       "      <td>0.1096</td>\n",
       "      <td>0.1034</td>\n",
       "      <td>0.0971</td>\n",
       "      <td>0.0909</td>\n",
       "      <td>0.0846</td>\n",
       "      <td>0.0783</td>\n",
       "      <td>...</td>\n",
       "      <td>NaN</td>\n",
       "      <td>NaN</td>\n",
       "      <td>NaN</td>\n",
       "      <td>NaN</td>\n",
       "      <td>NaN</td>\n",
       "      <td>NaN</td>\n",
       "      <td>NaN</td>\n",
       "      <td>NaN</td>\n",
       "      <td>NaN</td>\n",
       "      <td>17</td>\n",
       "    </tr>\n",
       "  </tbody>\n",
       "</table>\n",
       "<p>2 rows × 370 columns</p>\n",
       "</div>"
      ],
      "text/plain": [
       "   Year  Field ID  Field Area   Day 1   Day 2   Day 3   Day 4   Day 5   Day 6  \\\n",
       "0  2018       517       48.64  0.5369  0.5371  0.5375  0.5379  0.5384  0.5390   \n",
       "1  2019      1395       80.41  0.1159  0.1096  0.1034  0.0971  0.0909  0.0846   \n",
       "\n",
       "    Day 7  ...  Day 358  Day 359  Day 360  Day 361  Day 362  Day 363  Day 364  \\\n",
       "0  0.5397  ...   0.4362   0.4322   0.4283   0.4243   0.4203   0.4163   0.4123   \n",
       "1  0.0783  ...      NaN      NaN      NaN      NaN      NaN      NaN      NaN   \n",
       "\n",
       "   Day 365  Day 366  Culture  \n",
       "0   0.4084      NaN        4  \n",
       "1      NaN      NaN       17  \n",
       "\n",
       "[2 rows x 370 columns]"
      ]
     },
     "execution_count": 3,
     "metadata": {},
     "output_type": "execute_result"
    }
   ],
   "source": [
    "train.head(2)"
   ]
  },
  {
   "cell_type": "code",
   "execution_count": 4,
   "metadata": {
    "ExecuteTime": {
     "end_time": "2020-11-11T16:09:03.854627Z",
     "start_time": "2020-11-11T16:09:03.848747Z"
    }
   },
   "outputs": [
    {
     "data": {
      "text/plain": [
       "((2838, 366), (939, 366), (2838,))"
      ]
     },
     "execution_count": 4,
     "metadata": {},
     "output_type": "execute_result"
    }
   ],
   "source": [
    "X_train = train.drop(['Year','Field ID','Field Area','Culture'], axis=1)\n",
    "y_train = train['Culture']\n",
    "\n",
    "X_test = test.drop(['Year','Field ID','Field Area'],axis=1)\n",
    "X_train.shape, X_test.shape, y_train.shape"
   ]
  },
  {
   "cell_type": "code",
   "execution_count": 5,
   "metadata": {
    "ExecuteTime": {
     "end_time": "2020-11-11T16:09:12.507075Z",
     "start_time": "2020-11-11T16:09:04.712797Z"
    }
   },
   "outputs": [
    {
     "name": "stdout",
     "output_type": "stream",
     "text": [
      "Wall time: 13.1 s\n"
     ]
    }
   ],
   "source": [
    "%%time\n",
    "imputer = KNNImputer(n_neighbors=9, weights=\"distance\")\n",
    "X_train = imputer.fit_transform(X_train)\n",
    "X_test = imputer.transform(X_test)"
   ]
  },
  {
   "cell_type": "code",
   "execution_count": 9,
   "metadata": {
    "ExecuteTime": {
     "end_time": "2020-11-11T16:09:12.518606Z",
     "start_time": "2020-11-11T16:09:12.508675Z"
    }
   },
   "outputs": [],
   "source": [
    "X_tt, X_tv, y_tt, y_tv = train_test_split(X_train, y_train, test_size=0.2, random_state=0)"
   ]
  },
  {
   "cell_type": "code",
   "execution_count": 10,
   "metadata": {
    "ExecuteTime": {
     "end_time": "2020-11-11T16:09:16.196265Z",
     "start_time": "2020-11-11T16:09:12.520266Z"
    }
   },
   "outputs": [
    {
     "name": "stdout",
     "output_type": "stream",
     "text": [
      "0.8825085725745289\n"
     ]
    }
   ],
   "source": [
    "model = RandomForestClassifier(random_state=0, n_estimators=100, max_depth=15, max_features = 'sqrt')\n",
    "model.fit(X_tt, y_tt)\n",
    "preds_valid = model.predict(X_tv)\n",
    "\n",
    "print(f1_score(y_tv, preds_valid, average='weighted'))"
   ]
  },
  {
   "cell_type": "code",
   "execution_count": 12,
   "metadata": {},
   "outputs": [
    {
     "name": "stdout",
     "output_type": "stream",
     "text": [
      "0.998065063420677\n"
     ]
    }
   ],
   "source": [
    "model = RandomForestClassifier(random_state=0, n_estimators=100, max_depth=15, max_features = 'sqrt')\n",
    "model.fit(X_train, y_train)\n",
    "preds_valid = model.predict(X_tv)\n",
    "\n",
    "print(f1_score(y_tv, preds_valid, average='weighted'))"
   ]
  },
  {
   "cell_type": "code",
   "execution_count": 13,
   "metadata": {
    "ExecuteTime": {
     "end_time": "2020-11-11T16:09:16.262589Z",
     "start_time": "2020-11-11T16:09:16.197563Z"
    }
   },
   "outputs": [],
   "source": [
    "preds = model.predict(X_test)\n",
    "\n",
    "pd.Series(preds).to_csv('preds.csv', index=False, header=['Culture'])"
   ]
  }
 ],
 "metadata": {
  "kernelspec": {
   "display_name": "Python 3",
   "language": "python",
   "name": "python3"
  },
  "language_info": {
   "codemirror_mode": {
    "name": "ipython",
    "version": 3
   },
   "file_extension": ".py",
   "mimetype": "text/x-python",
   "name": "python",
   "nbconvert_exporter": "python",
   "pygments_lexer": "ipython3",
   "version": "3.7.8"
  },
  "toc": {
   "base_numbering": 1,
   "nav_menu": {},
   "number_sections": true,
   "sideBar": true,
   "skip_h1_title": false,
   "title_cell": "Table of Contents",
   "title_sidebar": "Contents",
   "toc_cell": false,
   "toc_position": {},
   "toc_section_display": true,
   "toc_window_display": false
  }
 },
 "nbformat": 4,
 "nbformat_minor": 4
}
