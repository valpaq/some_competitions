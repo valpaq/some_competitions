{
 "cells": [
  {
   "cell_type": "code",
   "execution_count": 1,
   "metadata": {},
   "outputs": [],
   "source": [
    "import numpy as np\n",
    "import random\n",
    "import pandas as pd\n",
    "import matplotlib.pyplot as plt\n",
    "import os\n",
    "import copy\n",
    "import seaborn as sns\n",
    "from sklearn.impute import KNNImputer\n",
    "from sklearn.model_selection import train_test_split\n",
    "from tqdm.notebook import tqdm\n",
    "\n",
    "from sklearn import preprocessing\n",
    "from sklearn.metrics import log_loss\n",
    "from sklearn.preprocessing import StandardScaler\n",
    "from sklearn.decomposition import PCA\n",
    "from sklearn.metrics import f1_score\n",
    "\n",
    "import torch\n",
    "import torch.nn as nn\n",
    "import torch.nn.functional as F\n",
    "import torch.optim as optim\n",
    "from torch.utils.data import Dataset, DataLoader, WeightedRandomSampler\n",
    "\n",
    "import warnings\n",
    "warnings.filterwarnings('ignore')\n",
    "\n",
    "def seed_everything(seed=42):\n",
    "    random.seed(seed)\n",
    "    np.random.seed(seed)\n",
    "    torch.manual_seed(seed)\n",
    "    torch.cuda.manual_seed(seed)\n",
    "    torch.backends.cudnn.deterministic = True\n",
    "    \n",
    "seed_everything(seed=42)"
   ]
  },
  {
   "cell_type": "code",
   "execution_count": 2,
   "metadata": {},
   "outputs": [
    {
     "name": "stdout",
     "output_type": "stream",
     "text": [
      "(2838, 369) (939, 368)\n"
     ]
    }
   ],
   "source": [
    "train = pd.read_csv('train.csv')\n",
    "test = pd.read_csv('test.csv')\n",
    "\n",
    "print(train.shape, test.shape)"
   ]
  },
  {
   "cell_type": "code",
   "execution_count": 3,
   "metadata": {},
   "outputs": [],
   "source": [
    "X_train = train.drop(['Culture','Year','Field ID','Field Area'], axis=1)\n",
    "y_train = train['Culture']\n",
    "\n",
    "X_test = test.drop(['Year','Field ID','Field Area'], axis=1)"
   ]
  },
  {
   "cell_type": "code",
   "execution_count": 4,
   "metadata": {},
   "outputs": [
    {
     "name": "stdout",
     "output_type": "stream",
     "text": [
      "Wall time: 8.74 s\n"
     ]
    }
   ],
   "source": [
    "%%time\n",
    "imputer = KNNImputer(n_neighbors=9, weights=\"distance\")\n",
    "train_imp = imputer.fit_transform(X_train)\n",
    "test_imp = imputer.transform(X_test)"
   ]
  },
  {
   "cell_type": "code",
   "execution_count": 5,
   "metadata": {},
   "outputs": [],
   "source": [
    "X_tt, X_tv, y_tt, y_tv = train_test_split(train_imp, y_train, test_size=0.15, random_state=0)"
   ]
  },
  {
   "cell_type": "code",
   "execution_count": 6,
   "metadata": {},
   "outputs": [],
   "source": [
    "EPOCHS = 300\n",
    "BATCH_SIZE = 128\n",
    "LEARNING_RATE = 0.0007\n",
    "\n",
    "num_features=365\n",
    "num_targets=29\n",
    "hidden_size=784\n"
   ]
  },
  {
   "cell_type": "code",
   "execution_count": 7,
   "metadata": {},
   "outputs": [],
   "source": [
    "class Model(nn.Module):\n",
    "    def __init__(self, num_features, num_targets, hidden_size):\n",
    "        super(Model, self).__init__()\n",
    "        self.batch_norm1 = nn.BatchNorm1d(num_features)\n",
    "        self.dropout1 = nn.Dropout(0.2)\n",
    "        self.dense1 = nn.utils.weight_norm(nn.Linear(num_features, 730))\n",
    "        \n",
    "        self.batch_norm2 = nn.BatchNorm1d(730)\n",
    "        self.dropout2 = nn.Dropout(0.4)\n",
    "        self.dense2 = nn.utils.weight_norm(nn.Linear(730, hidden_size))\n",
    "        \n",
    "        self.batch_norm3 = nn.BatchNorm1d(hidden_size)\n",
    "        self.dropout3 = nn.Dropout(0.3)\n",
    "        self.dense3 = nn.Linear(hidden_size, num_targets)\n",
    "    \n",
    "    def forward(self, x):\n",
    "        x = self.batch_norm1(x)\n",
    "        x = self.dropout1(x)\n",
    "        x = F.relu(self.dense1(x))\n",
    "        \n",
    "        x = self.batch_norm2(x)\n",
    "        x = self.dropout2(x)\n",
    "        x = F.relu(self.dense2(x))\n",
    "        \n",
    "        x = self.batch_norm3(x)\n",
    "        x = self.dropout3(x)\n",
    "        x = self.dense3(x)\n",
    "        \n",
    "        return x"
   ]
  },
  {
   "cell_type": "code",
   "execution_count": 8,
   "metadata": {},
   "outputs": [],
   "source": [
    "class MoADataset(Dataset):\n",
    "    def __init__(self, features, targets):\n",
    "        self.features = features\n",
    "        self.targets = targets\n",
    "        \n",
    "    def __len__(self):\n",
    "        return (self.features.shape[0])\n",
    "    \n",
    "    def __getitem__(self, idx):\n",
    "        \n",
    "        return self.features[idx],self.targets[idx]\n",
    "    \n",
    "class TestDataset(Dataset):\n",
    "    def __init__(self, features):\n",
    "        self.features = features\n",
    "        \n",
    "    def __len__(self):\n",
    "        return (self.features.shape[0])\n",
    "    \n",
    "    def __getitem__(self, idx):\n",
    "        return self.features[idx]"
   ]
  },
  {
   "cell_type": "code",
   "execution_count": 9,
   "metadata": {
    "scrolled": true
   },
   "outputs": [],
   "source": [
    "train_dataset = MoADataset(torch.from_numpy(X_tt).float(), torch.from_numpy(y_tt.values).long())\n",
    "val_dataset = MoADataset(torch.from_numpy(X_tv).float(), torch.from_numpy(y_tv.values).long())\n",
    "test_dataset = TestDataset(torch.from_numpy(X_test.values).float())"
   ]
  },
  {
   "cell_type": "code",
   "execution_count": 10,
   "metadata": {},
   "outputs": [
    {
     "name": "stdout",
     "output_type": "stream",
     "text": [
      "Model(\n",
      "  (batch_norm1): BatchNorm1d(365, eps=1e-05, momentum=0.1, affine=True, track_running_stats=True)\n",
      "  (dropout1): Dropout(p=0.2, inplace=False)\n",
      "  (dense1): Linear(in_features=365, out_features=730, bias=True)\n",
      "  (batch_norm2): BatchNorm1d(730, eps=1e-05, momentum=0.1, affine=True, track_running_stats=True)\n",
      "  (dropout2): Dropout(p=0.4, inplace=False)\n",
      "  (dense2): Linear(in_features=730, out_features=784, bias=True)\n",
      "  (batch_norm3): BatchNorm1d(784, eps=1e-05, momentum=0.1, affine=True, track_running_stats=True)\n",
      "  (dropout3): Dropout(p=0.3, inplace=False)\n",
      "  (dense3): Linear(in_features=784, out_features=29, bias=True)\n",
      ")\n"
     ]
    }
   ],
   "source": [
    "model = Model(num_features, num_targets, hidden_size)\n",
    "\n",
    "criterion = nn.CrossEntropyLoss()\n",
    "optimizer = optim.Adam(model.parameters(), lr=LEARNING_RATE)\n",
    "print(model)"
   ]
  },
  {
   "cell_type": "code",
   "execution_count": 11,
   "metadata": {},
   "outputs": [],
   "source": [
    "def multi_acc(y_pred, y_test):\n",
    "    y_pred_softmax = torch.log_softmax(y_pred, dim = 1)\n",
    "    _, y_pred_tags = torch.max(y_pred_softmax, dim = 1)    \n",
    "    \n",
    "    correct_pred = (y_pred_tags == y_test).float()\n",
    "    acc = correct_pred.sum() / len(correct_pred)\n",
    "    \n",
    "    acc = torch.round(acc) * 100\n",
    "    \n",
    "    return acc"
   ]
  },
  {
   "cell_type": "code",
   "execution_count": 12,
   "metadata": {},
   "outputs": [],
   "source": [
    "accuracy_stats = {\n",
    "    'train': [],\n",
    "    \"val\": []\n",
    "}\n",
    "loss_stats = {\n",
    "    'train': [],\n",
    "    \"val\": []\n",
    "}"
   ]
  },
  {
   "cell_type": "code",
   "execution_count": 13,
   "metadata": {},
   "outputs": [],
   "source": [
    "train_loader = DataLoader(dataset=train_dataset,\n",
    "                          batch_size=BATCH_SIZE)\n",
    "val_loader = DataLoader(dataset=val_dataset, batch_size=BATCH_SIZE)\n",
    "test_loader = DataLoader(dataset=test_dataset, batch_size=1)"
   ]
  },
  {
   "cell_type": "code",
   "execution_count": 14,
   "metadata": {},
   "outputs": [
    {
     "name": "stdout",
     "output_type": "stream",
     "text": [
      "Begin training.\n"
     ]
    },
    {
     "data": {
      "application/vnd.jupyter.widget-view+json": {
       "model_id": "7a05f6b14b0b402289d504360b74708f",
       "version_major": 2,
       "version_minor": 0
      },
      "text/plain": [
       "HBox(children=(HTML(value=''), FloatProgress(value=0.0, max=300.0), HTML(value='')))"
      ]
     },
     "metadata": {},
     "output_type": "display_data"
    },
    {
     "name": "stdout",
     "output_type": "stream",
     "text": [
      "Epoch 001: | Train Loss: 1.40024 | Val Loss: 1.19550 | Train Acc: 89.474| Val Acc: 100.000\n",
      "Epoch 002: | Train Loss: 0.86520 | Val Loss: 0.77184 | Train Acc: 100.000| Val Acc: 100.000\n",
      "Epoch 003: | Train Loss: 0.75455 | Val Loss: 0.66206 | Train Acc: 100.000| Val Acc: 100.000\n",
      "Epoch 004: | Train Loss: 0.68183 | Val Loss: 0.57903 | Train Acc: 100.000| Val Acc: 100.000\n",
      "Epoch 005: | Train Loss: 0.62431 | Val Loss: 0.55854 | Train Acc: 100.000| Val Acc: 100.000\n",
      "Epoch 006: | Train Loss: 0.57912 | Val Loss: 0.52597 | Train Acc: 100.000| Val Acc: 100.000\n",
      "Epoch 007: | Train Loss: 0.57170 | Val Loss: 0.49059 | Train Acc: 100.000| Val Acc: 100.000\n",
      "Epoch 008: | Train Loss: 0.55082 | Val Loss: 0.48409 | Train Acc: 100.000| Val Acc: 100.000\n",
      "Epoch 009: | Train Loss: 0.52952 | Val Loss: 0.42788 | Train Acc: 100.000| Val Acc: 100.000\n",
      "Epoch 010: | Train Loss: 0.50823 | Val Loss: 0.43550 | Train Acc: 100.000| Val Acc: 100.000\n",
      "Epoch 011: | Train Loss: 0.47053 | Val Loss: 0.43849 | Train Acc: 100.000| Val Acc: 100.000\n",
      "Epoch 012: | Train Loss: 0.45819 | Val Loss: 0.42717 | Train Acc: 100.000| Val Acc: 100.000\n",
      "Epoch 013: | Train Loss: 0.44431 | Val Loss: 0.38273 | Train Acc: 100.000| Val Acc: 100.000\n",
      "Epoch 014: | Train Loss: 0.43223 | Val Loss: 0.39395 | Train Acc: 100.000| Val Acc: 100.000\n",
      "Epoch 015: | Train Loss: 0.40492 | Val Loss: 0.39297 | Train Acc: 100.000| Val Acc: 100.000\n",
      "Epoch 016: | Train Loss: 0.40244 | Val Loss: 0.38866 | Train Acc: 100.000| Val Acc: 100.000\n",
      "Epoch 017: | Train Loss: 0.39173 | Val Loss: 0.39230 | Train Acc: 100.000| Val Acc: 100.000\n",
      "Epoch 018: | Train Loss: 0.37099 | Val Loss: 0.36706 | Train Acc: 100.000| Val Acc: 100.000\n",
      "Epoch 019: | Train Loss: 0.37542 | Val Loss: 0.36971 | Train Acc: 100.000| Val Acc: 100.000\n",
      "Epoch 020: | Train Loss: 0.36498 | Val Loss: 0.35993 | Train Acc: 100.000| Val Acc: 100.000\n",
      "Epoch 021: | Train Loss: 0.35748 | Val Loss: 0.33560 | Train Acc: 100.000| Val Acc: 100.000\n",
      "Epoch 022: | Train Loss: 0.34217 | Val Loss: 0.33499 | Train Acc: 100.000| Val Acc: 100.000\n",
      "Epoch 023: | Train Loss: 0.32449 | Val Loss: 0.35921 | Train Acc: 100.000| Val Acc: 100.000\n",
      "Epoch 024: | Train Loss: 0.32564 | Val Loss: 0.36379 | Train Acc: 100.000| Val Acc: 100.000\n",
      "Epoch 025: | Train Loss: 0.31113 | Val Loss: 0.35457 | Train Acc: 100.000| Val Acc: 100.000\n",
      "Epoch 026: | Train Loss: 0.31278 | Val Loss: 0.37183 | Train Acc: 100.000| Val Acc: 100.000\n",
      "Epoch 027: | Train Loss: 0.29199 | Val Loss: 0.35516 | Train Acc: 100.000| Val Acc: 100.000\n",
      "Epoch 028: | Train Loss: 0.29815 | Val Loss: 0.35605 | Train Acc: 100.000| Val Acc: 100.000\n",
      "Epoch 029: | Train Loss: 0.29069 | Val Loss: 0.32518 | Train Acc: 100.000| Val Acc: 100.000\n",
      "Epoch 030: | Train Loss: 0.28139 | Val Loss: 0.30046 | Train Acc: 100.000| Val Acc: 100.000\n",
      "Epoch 031: | Train Loss: 0.26929 | Val Loss: 0.31500 | Train Acc: 100.000| Val Acc: 100.000\n",
      "Epoch 032: | Train Loss: 0.26264 | Val Loss: 0.32250 | Train Acc: 100.000| Val Acc: 100.000\n",
      "Epoch 033: | Train Loss: 0.24911 | Val Loss: 0.30394 | Train Acc: 100.000| Val Acc: 100.000\n",
      "Epoch 034: | Train Loss: 0.24475 | Val Loss: 0.33195 | Train Acc: 100.000| Val Acc: 100.000\n",
      "Epoch 035: | Train Loss: 0.24043 | Val Loss: 0.30428 | Train Acc: 100.000| Val Acc: 100.000\n",
      "Epoch 036: | Train Loss: 0.24186 | Val Loss: 0.31706 | Train Acc: 100.000| Val Acc: 100.000\n",
      "Epoch 037: | Train Loss: 0.23954 | Val Loss: 0.28430 | Train Acc: 100.000| Val Acc: 100.000\n",
      "Epoch 038: | Train Loss: 0.22593 | Val Loss: 0.31221 | Train Acc: 100.000| Val Acc: 100.000\n",
      "Epoch 039: | Train Loss: 0.22377 | Val Loss: 0.30286 | Train Acc: 100.000| Val Acc: 100.000\n",
      "Epoch 040: | Train Loss: 0.22399 | Val Loss: 0.28908 | Train Acc: 100.000| Val Acc: 100.000\n",
      "Epoch 041: | Train Loss: 0.22705 | Val Loss: 0.30076 | Train Acc: 100.000| Val Acc: 100.000\n",
      "Epoch 042: | Train Loss: 0.22910 | Val Loss: 0.29604 | Train Acc: 100.000| Val Acc: 100.000\n",
      "Epoch 043: | Train Loss: 0.21181 | Val Loss: 0.29175 | Train Acc: 100.000| Val Acc: 100.000\n",
      "Epoch 044: | Train Loss: 0.20892 | Val Loss: 0.31595 | Train Acc: 100.000| Val Acc: 100.000\n",
      "Epoch 045: | Train Loss: 0.20575 | Val Loss: 0.24956 | Train Acc: 100.000| Val Acc: 100.000\n",
      "Epoch 046: | Train Loss: 0.20272 | Val Loss: 0.32997 | Train Acc: 100.000| Val Acc: 100.000\n",
      "Epoch 047: | Train Loss: 0.21147 | Val Loss: 0.29057 | Train Acc: 100.000| Val Acc: 100.000\n",
      "Epoch 048: | Train Loss: 0.18578 | Val Loss: 0.27467 | Train Acc: 100.000| Val Acc: 100.000\n",
      "Epoch 049: | Train Loss: 0.19108 | Val Loss: 0.25995 | Train Acc: 100.000| Val Acc: 100.000\n",
      "Epoch 050: | Train Loss: 0.19051 | Val Loss: 0.27815 | Train Acc: 100.000| Val Acc: 100.000\n",
      "Epoch 051: | Train Loss: 0.18685 | Val Loss: 0.27374 | Train Acc: 100.000| Val Acc: 100.000\n",
      "Epoch 052: | Train Loss: 0.17393 | Val Loss: 0.29214 | Train Acc: 100.000| Val Acc: 100.000\n",
      "Epoch 053: | Train Loss: 0.18413 | Val Loss: 0.28590 | Train Acc: 100.000| Val Acc: 100.000\n",
      "Epoch 054: | Train Loss: 0.17412 | Val Loss: 0.25214 | Train Acc: 100.000| Val Acc: 100.000\n",
      "Epoch 055: | Train Loss: 0.17196 | Val Loss: 0.26540 | Train Acc: 100.000| Val Acc: 100.000\n",
      "Epoch 056: | Train Loss: 0.15798 | Val Loss: 0.25986 | Train Acc: 100.000| Val Acc: 100.000\n",
      "Epoch 057: | Train Loss: 0.17545 | Val Loss: 0.25537 | Train Acc: 100.000| Val Acc: 100.000\n",
      "Epoch 058: | Train Loss: 0.16248 | Val Loss: 0.27446 | Train Acc: 100.000| Val Acc: 100.000\n",
      "Epoch 059: | Train Loss: 0.16574 | Val Loss: 0.28773 | Train Acc: 100.000| Val Acc: 100.000\n",
      "Epoch 060: | Train Loss: 0.16932 | Val Loss: 0.31447 | Train Acc: 100.000| Val Acc: 100.000\n",
      "Epoch 061: | Train Loss: 0.16672 | Val Loss: 0.27161 | Train Acc: 100.000| Val Acc: 100.000\n",
      "Epoch 062: | Train Loss: 0.15805 | Val Loss: 0.23262 | Train Acc: 100.000| Val Acc: 100.000\n",
      "Epoch 063: | Train Loss: 0.14809 | Val Loss: 0.24864 | Train Acc: 100.000| Val Acc: 100.000\n",
      "Epoch 064: | Train Loss: 0.16427 | Val Loss: 0.29162 | Train Acc: 100.000| Val Acc: 100.000\n",
      "Epoch 065: | Train Loss: 0.16048 | Val Loss: 0.26255 | Train Acc: 100.000| Val Acc: 100.000\n",
      "Epoch 066: | Train Loss: 0.14879 | Val Loss: 0.25921 | Train Acc: 100.000| Val Acc: 100.000\n",
      "Epoch 067: | Train Loss: 0.14974 | Val Loss: 0.25385 | Train Acc: 100.000| Val Acc: 100.000\n",
      "Epoch 068: | Train Loss: 0.15317 | Val Loss: 0.28731 | Train Acc: 100.000| Val Acc: 100.000\n",
      "Epoch 069: | Train Loss: 0.15029 | Val Loss: 0.28511 | Train Acc: 100.000| Val Acc: 100.000\n",
      "Epoch 070: | Train Loss: 0.14063 | Val Loss: 0.25824 | Train Acc: 100.000| Val Acc: 100.000\n",
      "Epoch 071: | Train Loss: 0.13133 | Val Loss: 0.22686 | Train Acc: 100.000| Val Acc: 100.000\n",
      "Epoch 072: | Train Loss: 0.12830 | Val Loss: 0.26163 | Train Acc: 100.000| Val Acc: 100.000\n",
      "Epoch 073: | Train Loss: 0.14343 | Val Loss: 0.31422 | Train Acc: 100.000| Val Acc: 100.000\n",
      "Epoch 074: | Train Loss: 0.12988 | Val Loss: 0.24633 | Train Acc: 100.000| Val Acc: 100.000\n",
      "Epoch 075: | Train Loss: 0.12329 | Val Loss: 0.25556 | Train Acc: 100.000| Val Acc: 100.000\n",
      "Epoch 076: | Train Loss: 0.13267 | Val Loss: 0.27192 | Train Acc: 100.000| Val Acc: 100.000\n",
      "Epoch 077: | Train Loss: 0.11044 | Val Loss: 0.23373 | Train Acc: 100.000| Val Acc: 100.000\n",
      "Epoch 078: | Train Loss: 0.13170 | Val Loss: 0.26937 | Train Acc: 100.000| Val Acc: 100.000\n",
      "Epoch 079: | Train Loss: 0.12201 | Val Loss: 0.22332 | Train Acc: 100.000| Val Acc: 100.000\n",
      "Epoch 080: | Train Loss: 0.11948 | Val Loss: 0.30954 | Train Acc: 100.000| Val Acc: 100.000\n",
      "Epoch 081: | Train Loss: 0.13449 | Val Loss: 0.25783 | Train Acc: 100.000| Val Acc: 100.000\n",
      "Epoch 082: | Train Loss: 0.11881 | Val Loss: 0.26393 | Train Acc: 100.000| Val Acc: 100.000\n",
      "Epoch 083: | Train Loss: 0.11141 | Val Loss: 0.26039 | Train Acc: 100.000| Val Acc: 100.000\n",
      "Epoch 084: | Train Loss: 0.12402 | Val Loss: 0.25534 | Train Acc: 100.000| Val Acc: 100.000\n",
      "Epoch 085: | Train Loss: 0.12390 | Val Loss: 0.26520 | Train Acc: 100.000| Val Acc: 100.000\n",
      "Epoch 086: | Train Loss: 0.11091 | Val Loss: 0.29228 | Train Acc: 100.000| Val Acc: 100.000\n",
      "Epoch 087: | Train Loss: 0.09840 | Val Loss: 0.27641 | Train Acc: 100.000| Val Acc: 100.000\n",
      "Epoch 088: | Train Loss: 0.11463 | Val Loss: 0.27270 | Train Acc: 100.000| Val Acc: 100.000\n",
      "Epoch 089: | Train Loss: 0.11495 | Val Loss: 0.28026 | Train Acc: 100.000| Val Acc: 100.000\n",
      "Epoch 090: | Train Loss: 0.11385 | Val Loss: 0.27131 | Train Acc: 100.000| Val Acc: 100.000\n"
     ]
    },
    {
     "name": "stdout",
     "output_type": "stream",
     "text": [
      "Epoch 091: | Train Loss: 0.09810 | Val Loss: 0.28101 | Train Acc: 100.000| Val Acc: 100.000\n",
      "Epoch 092: | Train Loss: 0.11229 | Val Loss: 0.28893 | Train Acc: 100.000| Val Acc: 100.000\n",
      "Epoch 093: | Train Loss: 0.10747 | Val Loss: 0.28979 | Train Acc: 100.000| Val Acc: 100.000\n",
      "Epoch 094: | Train Loss: 0.11742 | Val Loss: 0.29447 | Train Acc: 100.000| Val Acc: 100.000\n",
      "Epoch 095: | Train Loss: 0.09541 | Val Loss: 0.26927 | Train Acc: 100.000| Val Acc: 100.000\n",
      "Epoch 096: | Train Loss: 0.08236 | Val Loss: 0.24648 | Train Acc: 100.000| Val Acc: 100.000\n",
      "Epoch 097: | Train Loss: 0.10298 | Val Loss: 0.21444 | Train Acc: 100.000| Val Acc: 100.000\n",
      "\n"
     ]
    }
   ],
   "source": [
    "print(\"Begin training.\")\n",
    "for e in tqdm(range(1, EPOCHS+1)):\n",
    "    \n",
    "    # TRAINING\n",
    "    train_epoch_loss = 0\n",
    "    train_epoch_acc = 0\n",
    "    model.train()\n",
    "    for X_train_batch, y_train_batch in train_loader:\n",
    "        optimizer.zero_grad()\n",
    "        \n",
    "        y_train_pred = model(X_train_batch)\n",
    "        \n",
    "        train_loss = criterion(y_train_pred, y_train_batch)\n",
    "        train_acc = multi_acc(y_train_pred, y_train_batch) \n",
    "        \n",
    "        train_loss.backward()\n",
    "        optimizer.step()\n",
    "        \n",
    "        train_epoch_loss += train_loss.item()\n",
    "        train_epoch_acc += train_acc.item()\n",
    "        \n",
    "        \n",
    "    # VALIDATION    \n",
    "    with torch.no_grad():\n",
    "        \n",
    "        val_epoch_loss = 0\n",
    "        val_epoch_acc = 0\n",
    "        \n",
    "        model.eval()\n",
    "        for X_val_batch, y_val_batch in val_loader:\n",
    "            \n",
    "            y_val_pred = model(X_val_batch)\n",
    "                        \n",
    "            val_loss = criterion(y_val_pred, y_val_batch)\n",
    "            val_acc = multi_acc(y_val_pred, y_val_batch)\n",
    "            \n",
    "            val_epoch_loss += val_loss.item()\n",
    "            val_epoch_acc += val_acc.item()\n",
    "    loss_stats['train'].append(train_epoch_loss/len(train_loader))\n",
    "    loss_stats['val'].append(val_epoch_loss/len(val_loader))\n",
    "    accuracy_stats['train'].append(train_epoch_acc/len(train_loader))\n",
    "    accuracy_stats['val'].append(val_epoch_acc/len(val_loader))\n",
    "    \n",
    "    print(f'Epoch {e+0:03}: | Train Loss: {train_epoch_loss/len(train_loader):.5f} | Val Loss: {val_epoch_loss/len(val_loader):.5f} | Train Acc: {train_epoch_acc/len(train_loader):.3f}| Val Acc: {val_epoch_acc/len(val_loader):.3f}')\n",
    "    if val_epoch_loss/len(val_loader) <0.22:\n",
    "        break"
   ]
  },
  {
   "cell_type": "code",
   "execution_count": 15,
   "metadata": {},
   "outputs": [
    {
     "data": {
      "text/plain": [
       "Text(0.5, 1.0, 'Train-Val Loss/Epoch')"
      ]
     },
     "execution_count": 15,
     "metadata": {},
     "output_type": "execute_result"
    },
    {
     "data": {
      "image/png": "[encoded data removed]",
      "text/plain": [
       "<Figure size 1440x504 with 2 Axes>"
      ]
     },
     "metadata": {
      "needs_background": "light"
     },
     "output_type": "display_data"
    }
   ],
   "source": [
    "# Create dataframes\n",
    "train_val_acc_df = pd.DataFrame.from_dict(accuracy_stats).reset_index().melt(id_vars=['index']).rename(columns={\"index\":\"epochs\"})\n",
    "train_val_loss_df = pd.DataFrame.from_dict(loss_stats).reset_index().melt(id_vars=['index']).rename(columns={\"index\":\"epochs\"})\n",
    "# Plot the dataframes\n",
    "fig, axes = plt.subplots(nrows=1, ncols=2, figsize=(20,7))\n",
    "sns.lineplot(data=train_val_acc_df, x = \"epochs\", y=\"value\", hue=\"variable\",  ax=axes[0]).set_title('Train-Val Accuracy/Epoch')\n",
    "sns.lineplot(data=train_val_loss_df, x = \"epochs\", y=\"value\", hue=\"variable\", ax=axes[1]).set_title('Train-Val Loss/Epoch')"
   ]
  },
  {
   "cell_type": "code",
   "execution_count": 16,
   "metadata": {},
   "outputs": [],
   "source": [
    "y_pred_list = []\n",
    "y_pred_1_list = []\n",
    "\n",
    "with torch.no_grad():\n",
    "    model.eval()\n",
    "    for X_batch,_  in val_loader:\n",
    "        X_batch = X_batch\n",
    "        y_test_pred = model(X_batch)\n",
    "        y_pred_softmax = torch.log_softmax(y_test_pred, dim = 1)\n",
    "        _, y_pred_tags = torch.max(y_pred_softmax, dim = 1)\n",
    "        y_pred_1_list.append(y_pred_tags.numpy())\n",
    "#y_pred_list = [a.squeeze().tolist() for a in y_pred_1_list]"
   ]
  },
  {
   "cell_type": "code",
   "execution_count": 17,
   "metadata": {},
   "outputs": [],
   "source": [
    "preds=[]\n",
    "for i in y_pred_1_list:\n",
    "    for j in i:\n",
    "        preds.append(j)"
   ]
  },
  {
   "cell_type": "code",
   "execution_count": 18,
   "metadata": {},
   "outputs": [
    {
     "data": {
      "text/plain": [
       "0.9450689098459051"
      ]
     },
     "execution_count": 18,
     "metadata": {},
     "output_type": "execute_result"
    }
   ],
   "source": [
    "f1_score(preds,y_tv.values , average='weighted')"
   ]
  }
 ],
 "metadata": {
  "kernelspec": {
   "display_name": "Python 3",
   "language": "python",
   "name": "python3"
  },
  "language_info": {
   "codemirror_mode": {
    "name": "ipython",
    "version": 3
   },
   "file_extension": ".py",
   "mimetype": "text/x-python",
   "name": "python",
   "nbconvert_exporter": "python",
   "pygments_lexer": "ipython3",
   "version": "3.7.8"
  }
 },
 "nbformat": 4,
 "nbformat_minor": 4
}
