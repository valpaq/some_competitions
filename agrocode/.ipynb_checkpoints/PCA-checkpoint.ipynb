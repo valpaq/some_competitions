{
 "cells": [
  {
   "cell_type": "code",
   "execution_count": 7,
   "metadata": {},
   "outputs": [],
   "source": [
    "import pandas as pd\n",
    "import numpy as np\n",
    "from sklearn.decomposition import PCA\n",
    "import matplotlib.pyplot as plt"
   ]
  },
  {
   "cell_type": "code",
   "execution_count": 2,
   "metadata": {},
   "outputs": [
    {
     "name": "stdout",
     "output_type": "stream",
     "text": [
      "(2838, 293) (939, 293)\n"
     ]
    }
   ],
   "source": [
    "train = pd.read_csv('data/train_dropped_290_without_nans.csv')\n",
    "test = pd.read_csv('data/test_dropped_290_without_nans.csv')\n",
    "y_train=pd.read_csv('data/y_train.csv')['Culture']\n",
    "print(train.shape, test.shape)"
   ]
  },
  {
   "cell_type": "code",
   "execution_count": 3,
   "metadata": {},
   "outputs": [],
   "source": [
    "train.drop(['0','1','2'],axis=1,inplace=True)\n",
    "test.drop(['0','1','2'],axis=1,inplace=True)"
   ]
  },
  {
   "cell_type": "code",
   "execution_count": 4,
   "metadata": {},
   "outputs": [
    {
     "ename": "AttributeError",
     "evalue": "'PCA' object has no attribute 'trainsform'",
     "output_type": "error",
     "traceback": [
      "\u001b[1;31m---------------------------------------------------------------------------\u001b[0m",
      "\u001b[1;31mAttributeError\u001b[0m                            Traceback (most recent call last)",
      "\u001b[1;32m<ipython-input-4-a138f321a6f3>\u001b[0m in \u001b[0;36m<module>\u001b[1;34m\u001b[0m\n\u001b[0;32m      2\u001b[0m \u001b[0mpca\u001b[0m\u001b[1;33m.\u001b[0m\u001b[0mfit\u001b[0m\u001b[1;33m(\u001b[0m\u001b[0mtrain\u001b[0m\u001b[1;33m)\u001b[0m\u001b[1;33m\u001b[0m\u001b[1;33m\u001b[0m\u001b[0m\n\u001b[0;32m      3\u001b[0m \u001b[0mr_train\u001b[0m \u001b[1;33m=\u001b[0m \u001b[0mpca\u001b[0m\u001b[1;33m.\u001b[0m\u001b[0mtransform\u001b[0m\u001b[1;33m(\u001b[0m\u001b[0mtrain\u001b[0m\u001b[1;33m)\u001b[0m\u001b[1;33m\u001b[0m\u001b[1;33m\u001b[0m\u001b[0m\n\u001b[1;32m----> 4\u001b[1;33m \u001b[0mr_test\u001b[0m\u001b[1;33m=\u001b[0m\u001b[0mpca\u001b[0m\u001b[1;33m.\u001b[0m\u001b[0mtrainsform\u001b[0m\u001b[1;33m(\u001b[0m\u001b[0mtest\u001b[0m\u001b[1;33m)\u001b[0m\u001b[1;33m\u001b[0m\u001b[1;33m\u001b[0m\u001b[0m\n\u001b[0m",
      "\u001b[1;31mAttributeError\u001b[0m: 'PCA' object has no attribute 'trainsform'"
     ]
    }
   ],
   "source": [
    "pca = PCA(n_components = 0.95)\n",
    "pca.fit(train)\n",
    "r_train = pca.transform(train)\n",
    "r_test=pca.trainsform(test)"
   ]
  },
  {
   "cell_type": "code",
   "execution_count": 15,
   "metadata": {},
   "outputs": [
    {
     "data": {
      "text/plain": [
       "Text(0, 0.5, 'cumulative explained variance')"
      ]
     },
     "execution_count": 15,
     "metadata": {},
     "output_type": "execute_result"
    },
    {
     "data": {
      "image/png": "[encoded data removed]",
      "text/plain": [
       "<Figure size 864x432 with 1 Axes>"
      ]
     },
     "metadata": {
      "needs_background": "light"
     },
     "output_type": "display_data"
    }
   ],
   "source": [
    "pca = PCA().fit(train)\n",
    "plt.plot(np.cumsum(pca.explained_variance_ratio_))\n",
    "plt.xlabel('number of components')\n",
    "plt.ylabel('cumulative explained variance')"
   ]
  },
  {
   "cell_type": "code",
   "execution_count": 16,
   "metadata": {},
   "outputs": [
    {
     "data": {
      "text/plain": [
       "array([0.65585621, 0.75712695, 0.85215131, 0.89562528, 0.93170244,\n",
       "       0.9536053 , 0.96579604, 0.97393149, 0.98024297, 0.9843196 ,\n",
       "       0.98774329, 0.99048878, 0.99229192, 0.99352921, 0.99462962,\n",
       "       0.99548833, 0.99626172, 0.99680677, 0.99728444, 0.99770873,\n",
       "       0.99808554, 0.99834588, 0.99855731, 0.99874416, 0.99890969,\n",
       "       0.9990623 , 0.99917845, 0.99928027, 0.99936894, 0.99943818,\n",
       "       0.99950106, 0.99955533, 0.99960161, 0.99964278, 0.99967632,\n",
       "       0.99970741, 0.99973577, 0.99976109, 0.99978552, 0.99980523,\n",
       "       0.99982207, 0.99983782, 0.99985065, 0.99986261, 0.99987303,\n",
       "       0.99988297, 0.99989175, 0.99990001, 0.99990734, 0.9999141 ,\n",
       "       0.99991968, 0.9999248 , 0.99992939, 0.99993392, 0.99993801,\n",
       "       0.99994167, 0.99994509, 0.99994813, 0.99995093, 0.99995345,\n",
       "       0.99995589, 0.99995824, 0.99996054, 0.99996256, 0.9999645 ,\n",
       "       0.99996622, 0.99996785, 0.99996943, 0.99997083, 0.99997218,\n",
       "       0.9999734 , 0.99997458, 0.99997572, 0.9999768 , 0.99997777,\n",
       "       0.99997869, 0.99997958, 0.99998042, 0.99998123, 0.99998201,\n",
       "       0.99998274, 0.99998344, 0.9999841 , 0.99998474, 0.99998529,\n",
       "       0.99998582, 0.99998632, 0.9999868 , 0.99998727, 0.99998772,\n",
       "       0.99998815, 0.99998856, 0.99998895, 0.99998933, 0.99998969,\n",
       "       0.99999004, 0.99999037, 0.99999069, 0.999991  , 0.99999129,\n",
       "       0.99999158, 0.99999185, 0.99999211, 0.99999236, 0.9999926 ,\n",
       "       0.99999284, 0.99999306, 0.99999327, 0.99999348, 0.99999367,\n",
       "       0.99999386, 0.99999404, 0.99999422, 0.99999439, 0.99999455,\n",
       "       0.99999471, 0.99999486, 0.99999501, 0.99999515, 0.99999529,\n",
       "       0.99999543, 0.99999555, 0.99999567, 0.99999579, 0.9999959 ,\n",
       "       0.99999601, 0.99999612, 0.99999623, 0.99999633, 0.99999642,\n",
       "       0.99999652, 0.99999661, 0.99999669, 0.99999678, 0.99999686,\n",
       "       0.99999694, 0.99999702, 0.9999971 , 0.99999717, 0.99999724,\n",
       "       0.99999732, 0.99999738, 0.99999745, 0.99999751, 0.99999758,\n",
       "       0.99999764, 0.9999977 , 0.99999776, 0.99999782, 0.99999788,\n",
       "       0.99999793, 0.99999798, 0.99999803, 0.99999808, 0.99999813,\n",
       "       0.99999818, 0.99999822, 0.99999826, 0.99999831, 0.99999835,\n",
       "       0.99999839, 0.99999843, 0.99999846, 0.9999985 , 0.99999854,\n",
       "       0.99999857, 0.9999986 , 0.99999864, 0.99999867, 0.9999987 ,\n",
       "       0.99999873, 0.99999876, 0.99999879, 0.99999882, 0.99999885,\n",
       "       0.99999888, 0.9999989 , 0.99999893, 0.99999896, 0.99999898,\n",
       "       0.99999901, 0.99999903, 0.99999905, 0.99999908, 0.9999991 ,\n",
       "       0.99999912, 0.99999914, 0.99999917, 0.99999919, 0.99999921,\n",
       "       0.99999923, 0.99999925, 0.99999927, 0.99999928, 0.9999993 ,\n",
       "       0.99999932, 0.99999934, 0.99999936, 0.99999937, 0.99999939,\n",
       "       0.9999994 , 0.99999942, 0.99999943, 0.99999945, 0.99999946,\n",
       "       0.99999948, 0.99999949, 0.99999951, 0.99999952, 0.99999953,\n",
       "       0.99999955, 0.99999956, 0.99999957, 0.99999959, 0.9999996 ,\n",
       "       0.99999961, 0.99999962, 0.99999963, 0.99999964, 0.99999966,\n",
       "       0.99999967, 0.99999968, 0.99999969, 0.9999997 , 0.99999971,\n",
       "       0.99999972, 0.99999973, 0.99999973, 0.99999974, 0.99999975,\n",
       "       0.99999976, 0.99999977, 0.99999978, 0.99999978, 0.99999979,\n",
       "       0.9999998 , 0.99999981, 0.99999981, 0.99999982, 0.99999983,\n",
       "       0.99999983, 0.99999984, 0.99999985, 0.99999985, 0.99999986,\n",
       "       0.99999986, 0.99999987, 0.99999987, 0.99999988, 0.99999988,\n",
       "       0.99999989, 0.99999989, 0.9999999 , 0.9999999 , 0.99999991,\n",
       "       0.99999991, 0.99999992, 0.99999992, 0.99999993, 0.99999993,\n",
       "       0.99999993, 0.99999994, 0.99999994, 0.99999995, 0.99999995,\n",
       "       0.99999995, 0.99999996, 0.99999996, 0.99999996, 0.99999996,\n",
       "       0.99999997, 0.99999997, 0.99999997, 0.99999998, 0.99999998,\n",
       "       0.99999998, 0.99999998, 0.99999998, 0.99999999, 0.99999999,\n",
       "       0.99999999, 0.99999999, 0.99999999, 0.99999999, 1.        ,\n",
       "       1.        , 1.        , 1.        , 1.        , 1.        ])"
      ]
     },
     "execution_count": 16,
     "metadata": {},
     "output_type": "execute_result"
    }
   ],
   "source": [
    "np.cumsum(pca.explained_variance_ratio_)"
   ]
  },
  {
   "cell_type": "code",
   "execution_count": 17,
   "metadata": {},
   "outputs": [
    {
     "data": {
      "text/plain": [
       "array([[0, 1, 1],\n",
       "       [1, 0, 0],\n",
       "       [0, 1, 1],\n",
       "       [1, 0, 0]])"
      ]
     },
     "execution_count": 17,
     "metadata": {},
     "output_type": "execute_result"
    }
   ],
   "source": [
    "from sklearn.preprocessing import MultiLabelBinarizer\n",
    "train_foo = [['sci-fi', 'thriller'],['comedy'],['sci-fi', 'thriller'],['comedy']]\n",
    "mlb = MultiLabelBinarizer()\n",
    "mlb.fit_transform(train_foo)"
   ]
  },
  {
   "cell_type": "code",
   "execution_count": null,
   "metadata": {},
   "outputs": [],
   "source": []
  }
 ],
 "metadata": {
  "kernelspec": {
   "display_name": "Python 3",
   "language": "python",
   "name": "python3"
  },
  "language_info": {
   "codemirror_mode": {
    "name": "ipython",
    "version": 3
   },
   "file_extension": ".py",
   "mimetype": "text/x-python",
   "name": "python",
   "nbconvert_exporter": "python",
   "pygments_lexer": "ipython3",
   "version": "3.7.6"
  }
 },
 "nbformat": 4,
 "nbformat_minor": 4
}
