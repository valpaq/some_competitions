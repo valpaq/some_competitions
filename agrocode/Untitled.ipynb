{
 "cells": [
  {
   "cell_type": "code",
   "execution_count": 1,
   "metadata": {},
   "outputs": [],
   "source": [
    "import pandas as pd\n",
    "from sklearn.impute import KNNImputer\n",
    "from sklearn.model_selection import train_test_split\n",
    "from sklearn.ensemble import RandomForestClassifier\n",
    "from sklearn.metrics import f1_score, classification_report\n",
    "import seaborn as sns\n",
    "import matplotlib.pyplot as plt\n",
    "from xgboost import XGBClassifier"
   ]
  },
  {
   "cell_type": "code",
   "execution_count": 2,
   "metadata": {},
   "outputs": [
    {
     "name": "stdout",
     "output_type": "stream",
     "text": [
      "(2838, 369) (939, 368)\n"
     ]
    }
   ],
   "source": [
    "train = pd.read_csv('train.csv')\n",
    "test = pd.read_csv('test.csv')\n",
    "\n",
    "print(train.shape, test.shape)"
   ]
  },
  {
   "cell_type": "code",
   "execution_count": 3,
   "metadata": {},
   "outputs": [
    {
     "data": {
      "text/html": [
       "<div>\n",
       "<style scoped>\n",
       "    .dataframe tbody tr th:only-of-type {\n",
       "        vertical-align: middle;\n",
       "    }\n",
       "\n",
       "    .dataframe tbody tr th {\n",
       "        vertical-align: top;\n",
       "    }\n",
       "\n",
       "    .dataframe thead th {\n",
       "        text-align: right;\n",
       "    }\n",
       "</style>\n",
       "<table border=\"1\" class=\"dataframe\">\n",
       "  <thead>\n",
       "    <tr style=\"text-align: right;\">\n",
       "      <th></th>\n",
       "      <th>Year</th>\n",
       "      <th>Field ID</th>\n",
       "      <th>Field Area</th>\n",
       "      <th>Day 1</th>\n",
       "      <th>Day 2</th>\n",
       "      <th>Day 3</th>\n",
       "      <th>Day 4</th>\n",
       "      <th>Day 5</th>\n",
       "      <th>Day 6</th>\n",
       "      <th>Day 7</th>\n",
       "      <th>...</th>\n",
       "      <th>Day 358</th>\n",
       "      <th>Day 359</th>\n",
       "      <th>Day 360</th>\n",
       "      <th>Day 361</th>\n",
       "      <th>Day 362</th>\n",
       "      <th>Day 363</th>\n",
       "      <th>Day 364</th>\n",
       "      <th>Day 365</th>\n",
       "      <th>Day 366</th>\n",
       "      <th>Culture</th>\n",
       "    </tr>\n",
       "  </thead>\n",
       "  <tbody>\n",
       "    <tr>\n",
       "      <th>0</th>\n",
       "      <td>2018</td>\n",
       "      <td>517</td>\n",
       "      <td>48.64</td>\n",
       "      <td>0.5369</td>\n",
       "      <td>0.5371</td>\n",
       "      <td>0.5375</td>\n",
       "      <td>0.5379</td>\n",
       "      <td>0.5384</td>\n",
       "      <td>0.5390</td>\n",
       "      <td>0.5397</td>\n",
       "      <td>...</td>\n",
       "      <td>0.4362</td>\n",
       "      <td>0.4322</td>\n",
       "      <td>0.4283</td>\n",
       "      <td>0.4243</td>\n",
       "      <td>0.4203</td>\n",
       "      <td>0.4163</td>\n",
       "      <td>0.4123</td>\n",
       "      <td>0.4084</td>\n",
       "      <td>NaN</td>\n",
       "      <td>4</td>\n",
       "    </tr>\n",
       "    <tr>\n",
       "      <th>1</th>\n",
       "      <td>2019</td>\n",
       "      <td>1395</td>\n",
       "      <td>80.41</td>\n",
       "      <td>0.1159</td>\n",
       "      <td>0.1096</td>\n",
       "      <td>0.1034</td>\n",
       "      <td>0.0971</td>\n",
       "      <td>0.0909</td>\n",
       "      <td>0.0846</td>\n",
       "      <td>0.0783</td>\n",
       "      <td>...</td>\n",
       "      <td>NaN</td>\n",
       "      <td>NaN</td>\n",
       "      <td>NaN</td>\n",
       "      <td>NaN</td>\n",
       "      <td>NaN</td>\n",
       "      <td>NaN</td>\n",
       "      <td>NaN</td>\n",
       "      <td>NaN</td>\n",
       "      <td>NaN</td>\n",
       "      <td>17</td>\n",
       "    </tr>\n",
       "    <tr>\n",
       "      <th>2</th>\n",
       "      <td>2017</td>\n",
       "      <td>44</td>\n",
       "      <td>43.64</td>\n",
       "      <td>-0.0204</td>\n",
       "      <td>-0.0207</td>\n",
       "      <td>-0.0210</td>\n",
       "      <td>-0.0212</td>\n",
       "      <td>-0.0215</td>\n",
       "      <td>-0.0218</td>\n",
       "      <td>-0.0220</td>\n",
       "      <td>...</td>\n",
       "      <td>0.0833</td>\n",
       "      <td>0.1149</td>\n",
       "      <td>0.1466</td>\n",
       "      <td>0.1782</td>\n",
       "      <td>0.2099</td>\n",
       "      <td>0.2415</td>\n",
       "      <td>0.2732</td>\n",
       "      <td>0.3048</td>\n",
       "      <td>NaN</td>\n",
       "      <td>2</td>\n",
       "    </tr>\n",
       "    <tr>\n",
       "      <th>3</th>\n",
       "      <td>2018</td>\n",
       "      <td>1591</td>\n",
       "      <td>79.34</td>\n",
       "      <td>0.4827</td>\n",
       "      <td>0.4576</td>\n",
       "      <td>0.4324</td>\n",
       "      <td>0.4073</td>\n",
       "      <td>0.3821</td>\n",
       "      <td>0.3570</td>\n",
       "      <td>0.3318</td>\n",
       "      <td>...</td>\n",
       "      <td>0.2657</td>\n",
       "      <td>0.2668</td>\n",
       "      <td>0.2680</td>\n",
       "      <td>0.2692</td>\n",
       "      <td>0.2705</td>\n",
       "      <td>0.2717</td>\n",
       "      <td>0.2730</td>\n",
       "      <td>0.2743</td>\n",
       "      <td>NaN</td>\n",
       "      <td>4</td>\n",
       "    </tr>\n",
       "    <tr>\n",
       "      <th>4</th>\n",
       "      <td>2017</td>\n",
       "      <td>681</td>\n",
       "      <td>144.76</td>\n",
       "      <td>-0.0202</td>\n",
       "      <td>-0.0191</td>\n",
       "      <td>-0.0181</td>\n",
       "      <td>-0.0170</td>\n",
       "      <td>-0.0160</td>\n",
       "      <td>-0.0150</td>\n",
       "      <td>-0.0140</td>\n",
       "      <td>...</td>\n",
       "      <td>-0.0354</td>\n",
       "      <td>-0.0358</td>\n",
       "      <td>-0.0361</td>\n",
       "      <td>-0.0365</td>\n",
       "      <td>-0.0369</td>\n",
       "      <td>-0.0372</td>\n",
       "      <td>-0.0376</td>\n",
       "      <td>-0.0379</td>\n",
       "      <td>NaN</td>\n",
       "      <td>4</td>\n",
       "    </tr>\n",
       "    <tr>\n",
       "      <th>...</th>\n",
       "      <td>...</td>\n",
       "      <td>...</td>\n",
       "      <td>...</td>\n",
       "      <td>...</td>\n",
       "      <td>...</td>\n",
       "      <td>...</td>\n",
       "      <td>...</td>\n",
       "      <td>...</td>\n",
       "      <td>...</td>\n",
       "      <td>...</td>\n",
       "      <td>...</td>\n",
       "      <td>...</td>\n",
       "      <td>...</td>\n",
       "      <td>...</td>\n",
       "      <td>...</td>\n",
       "      <td>...</td>\n",
       "      <td>...</td>\n",
       "      <td>...</td>\n",
       "      <td>...</td>\n",
       "      <td>...</td>\n",
       "      <td>...</td>\n",
       "    </tr>\n",
       "    <tr>\n",
       "      <th>2833</th>\n",
       "      <td>2019</td>\n",
       "      <td>1631</td>\n",
       "      <td>117.04</td>\n",
       "      <td>0.4429</td>\n",
       "      <td>0.4430</td>\n",
       "      <td>0.4430</td>\n",
       "      <td>0.4431</td>\n",
       "      <td>0.4431</td>\n",
       "      <td>0.4431</td>\n",
       "      <td>0.4431</td>\n",
       "      <td>...</td>\n",
       "      <td>NaN</td>\n",
       "      <td>NaN</td>\n",
       "      <td>NaN</td>\n",
       "      <td>NaN</td>\n",
       "      <td>NaN</td>\n",
       "      <td>NaN</td>\n",
       "      <td>NaN</td>\n",
       "      <td>NaN</td>\n",
       "      <td>NaN</td>\n",
       "      <td>4</td>\n",
       "    </tr>\n",
       "    <tr>\n",
       "      <th>2834</th>\n",
       "      <td>2016</td>\n",
       "      <td>336</td>\n",
       "      <td>70.61</td>\n",
       "      <td>0.0620</td>\n",
       "      <td>0.0687</td>\n",
       "      <td>0.0755</td>\n",
       "      <td>0.0822</td>\n",
       "      <td>0.0890</td>\n",
       "      <td>0.0957</td>\n",
       "      <td>0.1025</td>\n",
       "      <td>...</td>\n",
       "      <td>0.0041</td>\n",
       "      <td>0.0173</td>\n",
       "      <td>0.0304</td>\n",
       "      <td>0.0436</td>\n",
       "      <td>0.0567</td>\n",
       "      <td>0.0699</td>\n",
       "      <td>0.0830</td>\n",
       "      <td>0.0962</td>\n",
       "      <td>0.1093</td>\n",
       "      <td>4</td>\n",
       "    </tr>\n",
       "    <tr>\n",
       "      <th>2835</th>\n",
       "      <td>2016</td>\n",
       "      <td>371</td>\n",
       "      <td>60.26</td>\n",
       "      <td>0.0460</td>\n",
       "      <td>0.0399</td>\n",
       "      <td>0.0338</td>\n",
       "      <td>0.0277</td>\n",
       "      <td>0.0216</td>\n",
       "      <td>0.0154</td>\n",
       "      <td>0.0093</td>\n",
       "      <td>...</td>\n",
       "      <td>0.3555</td>\n",
       "      <td>0.3506</td>\n",
       "      <td>0.3458</td>\n",
       "      <td>0.3409</td>\n",
       "      <td>0.3361</td>\n",
       "      <td>0.3313</td>\n",
       "      <td>0.3264</td>\n",
       "      <td>0.3216</td>\n",
       "      <td>0.3167</td>\n",
       "      <td>4</td>\n",
       "    </tr>\n",
       "    <tr>\n",
       "      <th>2836</th>\n",
       "      <td>2017</td>\n",
       "      <td>115</td>\n",
       "      <td>237.86</td>\n",
       "      <td>-0.0148</td>\n",
       "      <td>-0.0149</td>\n",
       "      <td>-0.0150</td>\n",
       "      <td>-0.0151</td>\n",
       "      <td>-0.0153</td>\n",
       "      <td>-0.0154</td>\n",
       "      <td>-0.0155</td>\n",
       "      <td>...</td>\n",
       "      <td>0.0362</td>\n",
       "      <td>0.0458</td>\n",
       "      <td>0.0555</td>\n",
       "      <td>0.0651</td>\n",
       "      <td>0.0747</td>\n",
       "      <td>0.0843</td>\n",
       "      <td>0.0939</td>\n",
       "      <td>0.1035</td>\n",
       "      <td>NaN</td>\n",
       "      <td>5</td>\n",
       "    </tr>\n",
       "    <tr>\n",
       "      <th>2837</th>\n",
       "      <td>2018</td>\n",
       "      <td>215</td>\n",
       "      <td>48.86</td>\n",
       "      <td>0.2593</td>\n",
       "      <td>0.2590</td>\n",
       "      <td>0.2589</td>\n",
       "      <td>0.2588</td>\n",
       "      <td>0.2589</td>\n",
       "      <td>0.2590</td>\n",
       "      <td>0.2592</td>\n",
       "      <td>...</td>\n",
       "      <td>0.1462</td>\n",
       "      <td>0.1510</td>\n",
       "      <td>0.1559</td>\n",
       "      <td>0.1607</td>\n",
       "      <td>0.1655</td>\n",
       "      <td>0.1703</td>\n",
       "      <td>0.1752</td>\n",
       "      <td>0.1800</td>\n",
       "      <td>NaN</td>\n",
       "      <td>7</td>\n",
       "    </tr>\n",
       "  </tbody>\n",
       "</table>\n",
       "<p>2838 rows × 370 columns</p>\n",
       "</div>"
      ],
      "text/plain": [
       "      Year  Field ID  Field Area   Day 1   Day 2   Day 3   Day 4   Day 5  \\\n",
       "0     2018       517       48.64  0.5369  0.5371  0.5375  0.5379  0.5384   \n",
       "1     2019      1395       80.41  0.1159  0.1096  0.1034  0.0971  0.0909   \n",
       "2     2017        44       43.64 -0.0204 -0.0207 -0.0210 -0.0212 -0.0215   \n",
       "3     2018      1591       79.34  0.4827  0.4576  0.4324  0.4073  0.3821   \n",
       "4     2017       681      144.76 -0.0202 -0.0191 -0.0181 -0.0170 -0.0160   \n",
       "...    ...       ...         ...     ...     ...     ...     ...     ...   \n",
       "2833  2019      1631      117.04  0.4429  0.4430  0.4430  0.4431  0.4431   \n",
       "2834  2016       336       70.61  0.0620  0.0687  0.0755  0.0822  0.0890   \n",
       "2835  2016       371       60.26  0.0460  0.0399  0.0338  0.0277  0.0216   \n",
       "2836  2017       115      237.86 -0.0148 -0.0149 -0.0150 -0.0151 -0.0153   \n",
       "2837  2018       215       48.86  0.2593  0.2590  0.2589  0.2588  0.2589   \n",
       "\n",
       "       Day 6   Day 7  ...  Day 358  Day 359  Day 360  Day 361  Day 362  \\\n",
       "0     0.5390  0.5397  ...   0.4362   0.4322   0.4283   0.4243   0.4203   \n",
       "1     0.0846  0.0783  ...      NaN      NaN      NaN      NaN      NaN   \n",
       "2    -0.0218 -0.0220  ...   0.0833   0.1149   0.1466   0.1782   0.2099   \n",
       "3     0.3570  0.3318  ...   0.2657   0.2668   0.2680   0.2692   0.2705   \n",
       "4    -0.0150 -0.0140  ...  -0.0354  -0.0358  -0.0361  -0.0365  -0.0369   \n",
       "...      ...     ...  ...      ...      ...      ...      ...      ...   \n",
       "2833  0.4431  0.4431  ...      NaN      NaN      NaN      NaN      NaN   \n",
       "2834  0.0957  0.1025  ...   0.0041   0.0173   0.0304   0.0436   0.0567   \n",
       "2835  0.0154  0.0093  ...   0.3555   0.3506   0.3458   0.3409   0.3361   \n",
       "2836 -0.0154 -0.0155  ...   0.0362   0.0458   0.0555   0.0651   0.0747   \n",
       "2837  0.2590  0.2592  ...   0.1462   0.1510   0.1559   0.1607   0.1655   \n",
       "\n",
       "      Day 363  Day 364  Day 365  Day 366  Culture  \n",
       "0      0.4163   0.4123   0.4084      NaN        4  \n",
       "1         NaN      NaN      NaN      NaN       17  \n",
       "2      0.2415   0.2732   0.3048      NaN        2  \n",
       "3      0.2717   0.2730   0.2743      NaN        4  \n",
       "4     -0.0372  -0.0376  -0.0379      NaN        4  \n",
       "...       ...      ...      ...      ...      ...  \n",
       "2833      NaN      NaN      NaN      NaN        4  \n",
       "2834   0.0699   0.0830   0.0962   0.1093        4  \n",
       "2835   0.3313   0.3264   0.3216   0.3167        4  \n",
       "2836   0.0843   0.0939   0.1035      NaN        5  \n",
       "2837   0.1703   0.1752   0.1800      NaN        7  \n",
       "\n",
       "[2838 rows x 370 columns]"
      ]
     },
     "execution_count": 3,
     "metadata": {},
     "output_type": "execute_result"
    }
   ],
   "source": [
    "train"
   ]
  },
  {
   "cell_type": "code",
   "execution_count": 4,
   "metadata": {},
   "outputs": [],
   "source": [
    "X_train = train.drop('Culture', axis=1)\n",
    "y_train = train['Culture']\n",
    "\n",
    "X_test = test.copy()"
   ]
  },
  {
   "cell_type": "code",
   "execution_count": 5,
   "metadata": {},
   "outputs": [
    {
     "name": "stdout",
     "output_type": "stream",
     "text": [
      "(2838, 369) (939, 369) (2838,)\n"
     ]
    }
   ],
   "source": [
    "print(X_train.shape, X_test.shape, y_train.shape)"
   ]
  },
  {
   "cell_type": "markdown",
   "metadata": {},
   "source": [
    "BaseLine"
   ]
  },
  {
   "cell_type": "code",
   "execution_count": 119,
   "metadata": {},
   "outputs": [
    {
     "name": "stdout",
     "output_type": "stream",
     "text": [
      "Wall time: 13 s\n"
     ]
    }
   ],
   "source": [
    "%%time\n",
    "imputer = KNNImputer(n_neighbors=9, weights=\"distance\")\n",
    "X_train_imp = imputer.fit_transform(X_train)\n",
    "X_test_imp = imputer.transform(X_test)"
   ]
  },
  {
   "cell_type": "code",
   "execution_count": 120,
   "metadata": {},
   "outputs": [],
   "source": [
    "X_train_imp=pd.DataFrame(X_train_imp)\n",
    "X_test_imp=pd.DataFrame(X_test_imp)"
   ]
  },
  {
   "cell_type": "code",
   "execution_count": 140,
   "metadata": {},
   "outputs": [],
   "source": [
    "X_tt, X_tv, y_tt, y_tv = train_test_split(X_train_imp, y_train, test_size=0.2, random_state=0)"
   ]
  },
  {
   "cell_type": "code",
   "execution_count": 141,
   "metadata": {},
   "outputs": [
    {
     "name": "stdout",
     "output_type": "stream",
     "text": [
      "0.8928885434980273\n"
     ]
    }
   ],
   "source": [
    "model = RandomForestClassifier(random_state=0, n_estimators=100, max_depth=15, max_features = 'sqrt')\n",
    "model.fit(X_tt, y_tt)\n",
    "preds_valid = model.predict(X_tv)\n",
    "\n",
    "print(f1_score(y_tv, preds_valid, average='weighted'))"
   ]
  },
  {
   "cell_type": "code",
   "execution_count": 142,
   "metadata": {},
   "outputs": [],
   "source": [
    "X_train_2 = train.drop(['Culture','Year','Field ID','Field Area'], axis=1)\n",
    "y_train_2 = train['Culture']\n",
    "\n",
    "X_test_2 = test.drop(['Year','Field ID','Field Area'], axis=1)"
   ]
  },
  {
   "cell_type": "code",
   "execution_count": 143,
   "metadata": {},
   "outputs": [
    {
     "name": "stdout",
     "output_type": "stream",
     "text": [
      "Wall time: 13.3 s\n"
     ]
    }
   ],
   "source": [
    "%%time\n",
    "imputer = KNNImputer(n_neighbors=28, weights=\"distance\")\n",
    "X_train_imp = imputer.fit_transform(X_train_2)\n",
    "X_test_imp = imputer.transform(X_test_2)"
   ]
  },
  {
   "cell_type": "code",
   "execution_count": 144,
   "metadata": {},
   "outputs": [],
   "source": [
    "X_tt, X_tv, y_tt, y_tv = train_test_split(X_train_imp, y_train, test_size=0.2, random_state=0)"
   ]
  },
  {
   "cell_type": "code",
   "execution_count": 145,
   "metadata": {},
   "outputs": [
    {
     "name": "stdout",
     "output_type": "stream",
     "text": [
      "0.8928885434980273\n"
     ]
    }
   ],
   "source": [
    "model = RandomForestClassifier(random_state=0, n_estimators=100, max_depth=15, max_features = 'sqrt')\n",
    "model.fit(X_tt, y_tt)\n",
    "preds_valid = model.predict(X_tv)\n",
    "\n",
    "print(f1_score(y_tv, preds_valid, average='weighted'))"
   ]
  },
  {
   "cell_type": "markdown",
   "metadata": {},
   "source": [
    "another imputer"
   ]
  },
  {
   "cell_type": "code",
   "execution_count": 9,
   "metadata": {
    "scrolled": false
   },
   "outputs": [
    {
     "name": "stderr",
     "output_type": "stream",
     "text": [
      "c:\\users\\vikto\\appdata\\local\\programs\\python\\python37\\lib\\site-packages\\sklearn\\utils\\deprecation.py:143: FutureWarning: The sklearn.neighbors.base module is  deprecated in version 0.22 and will be removed in version 0.24. The corresponding classes / functions should instead be imported from sklearn.neighbors. Anything that cannot be imported from sklearn.neighbors is now part of the private API.\n",
      "  warnings.warn(message, FutureWarning)\n"
     ]
    }
   ],
   "source": [
    "from missingpy import MissForest\n",
    "imputer = MissForest()"
   ]
  },
  {
   "cell_type": "markdown",
   "metadata": {},
   "source": [
    "Some graphs about categorical"
   ]
  },
  {
   "cell_type": "code",
   "execution_count": 18,
   "metadata": {},
   "outputs": [
    {
     "data": {
      "text/plain": [
       "<AxesSubplot:>"
      ]
     },
     "execution_count": 18,
     "metadata": {},
     "output_type": "execute_result"
    },
    {
     "data": {
      "image/png": "[encoded data removed]",
      "text/plain": [
       "<Figure size 432x288 with 1 Axes>"
      ]
     },
     "metadata": {
      "needs_background": "light"
     },
     "output_type": "display_data"
    }
   ],
   "source": [
    "X_train['Year'].hist()"
   ]
  },
  {
   "cell_type": "code",
   "execution_count": 19,
   "metadata": {},
   "outputs": [
    {
     "data": {
      "text/plain": [
       "<AxesSubplot:>"
      ]
     },
     "execution_count": 19,
     "metadata": {},
     "output_type": "execute_result"
    },
    {
     "data": {
      "image/png": "[encoded data removed]",
      "text/plain": [
       "<Figure size 432x288 with 1 Axes>"
      ]
     },
     "metadata": {
      "needs_background": "light"
     },
     "output_type": "display_data"
    }
   ],
   "source": [
    "X_train['Field Area'].hist()"
   ]
  },
  {
   "cell_type": "code",
   "execution_count": 20,
   "metadata": {},
   "outputs": [
    {
     "data": {
      "text/plain": [
       "<AxesSubplot:>"
      ]
     },
     "execution_count": 20,
     "metadata": {},
     "output_type": "execute_result"
    },
    {
     "data": {
      "image/png": "[encoded data removed]",
      "text/plain": [
       "<Figure size 432x288 with 1 Axes>"
      ]
     },
     "metadata": {
      "needs_background": "light"
     },
     "output_type": "display_data"
    }
   ],
   "source": [
    "X_test['Field Area'].hist()"
   ]
  },
  {
   "cell_type": "code",
   "execution_count": 21,
   "metadata": {},
   "outputs": [
    {
     "data": {
      "text/plain": [
       "<AxesSubplot:>"
      ]
     },
     "execution_count": 21,
     "metadata": {},
     "output_type": "execute_result"
    },
    {
     "data": {
      "image/png": "[encoded data removed]",
      "text/plain": [
       "<Figure size 432x288 with 1 Axes>"
      ]
     },
     "metadata": {
      "needs_background": "light"
     },
     "output_type": "display_data"
    }
   ],
   "source": [
    "X_test['Year'].hist()"
   ]
  },
  {
   "cell_type": "code",
   "execution_count": 106,
   "metadata": {},
   "outputs": [
    {
     "data": {
      "text/plain": [
       "4     1301\n",
       "3      338\n",
       "7      246\n",
       "9      186\n",
       "5      132\n",
       "14      87\n",
       "8       85\n",
       "12      78\n",
       "10      60\n",
       "16      58\n",
       "2       49\n",
       "11      45\n",
       "1       36\n",
       "13      33\n",
       "21      25\n",
       "17      21\n",
       "6       14\n",
       "22       8\n",
       "15       7\n",
       "20       7\n",
       "23       6\n",
       "24       6\n",
       "28       2\n",
       "18       2\n",
       "25       2\n",
       "19       2\n",
       "26       1\n",
       "27       1\n",
       "Name: Culture, dtype: int64"
      ]
     },
     "execution_count": 106,
     "metadata": {},
     "output_type": "execute_result"
    }
   ],
   "source": [
    "y_train.value_counts()"
   ]
  },
  {
   "cell_type": "code",
   "execution_count": 133,
   "metadata": {},
   "outputs": [
    {
     "data": {
      "text/plain": [
       "Int64Index([430, 527, 1075, 1408, 1855, 2073, 2086, 2164, 2327, 2562], dtype='int64')"
      ]
     },
     "execution_count": 133,
     "metadata": {},
     "output_type": "execute_result"
    }
   ],
   "source": [
    "to_predict=y_train[(y_train==27) | (y_train==26) | (y_train==19) | (y_train==25) | (y_train==18) | (y_train==28)].index\n",
    "to_predict"
   ]
  },
  {
   "cell_type": "code",
   "execution_count": 110,
   "metadata": {},
   "outputs": [],
   "source": [
    "dropped=X_train_imp.loc[to_predict]\n",
    "preda=X_train_imp.drop(to_predict)"
   ]
  },
  {
   "cell_type": "code",
   "execution_count": 127,
   "metadata": {},
   "outputs": [],
   "source": [
    "dropped=dropped.drop([0,1,2],axis=1)\n",
    "preda=preda.drop([0,1,2],axis=1)"
   ]
  },
  {
   "cell_type": "code",
   "execution_count": 130,
   "metadata": {},
   "outputs": [],
   "source": [
    "model = RandomForestClassifier(random_state=0, n_estimators=100, max_depth=15, max_features = 'sqrt')\n",
    "model.fit(preda, y_train.drop(to_predict))\n",
    "preds_valid = model.predict(dropped)\n"
   ]
  },
  {
   "cell_type": "code",
   "execution_count": 131,
   "metadata": {},
   "outputs": [
    {
     "data": {
      "text/plain": [
       "array([11, 12, 11,  4, 11, 16, 11,  7, 12, 14], dtype=int64)"
      ]
     },
     "execution_count": 131,
     "metadata": {},
     "output_type": "execute_result"
    }
   ],
   "source": [
    "preds_valid"
   ]
  },
  {
   "cell_type": "code",
   "execution_count": 138,
   "metadata": {},
   "outputs": [],
   "source": [
    "for i,j in enumerate(to_predict):\n",
    "    y_train.iloc[j]=preds_valid[i]"
   ]
  },
  {
   "cell_type": "code",
   "execution_count": 139,
   "metadata": {},
   "outputs": [],
   "source": [
    "y_train.to_csv('y_new.csv',index=False)"
   ]
  },
  {
   "cell_type": "code",
   "execution_count": 14,
   "metadata": {},
   "outputs": [],
   "source": [
    "test.drop(['Day 366'],inplace=True, axis=1)"
   ]
  },
  {
   "cell_type": "code",
   "execution_count": 15,
   "metadata": {},
   "outputs": [
    {
     "data": {
      "text/html": [
       "<div>\n",
       "<style scoped>\n",
       "    .dataframe tbody tr th:only-of-type {\n",
       "        vertical-align: middle;\n",
       "    }\n",
       "\n",
       "    .dataframe tbody tr th {\n",
       "        vertical-align: top;\n",
       "    }\n",
       "\n",
       "    .dataframe thead th {\n",
       "        text-align: right;\n",
       "    }\n",
       "</style>\n",
       "<table border=\"1\" class=\"dataframe\">\n",
       "  <thead>\n",
       "    <tr style=\"text-align: right;\">\n",
       "      <th></th>\n",
       "      <th>Year</th>\n",
       "      <th>Field ID</th>\n",
       "      <th>Field Area</th>\n",
       "      <th>Day 1</th>\n",
       "      <th>Day 2</th>\n",
       "      <th>Day 3</th>\n",
       "      <th>Day 4</th>\n",
       "      <th>Day 5</th>\n",
       "      <th>Day 6</th>\n",
       "      <th>Day 7</th>\n",
       "      <th>...</th>\n",
       "      <th>Day 356</th>\n",
       "      <th>Day 357</th>\n",
       "      <th>Day 358</th>\n",
       "      <th>Day 359</th>\n",
       "      <th>Day 360</th>\n",
       "      <th>Day 361</th>\n",
       "      <th>Day 362</th>\n",
       "      <th>Day 363</th>\n",
       "      <th>Day 364</th>\n",
       "      <th>Day 365</th>\n",
       "    </tr>\n",
       "  </thead>\n",
       "  <tbody>\n",
       "    <tr>\n",
       "      <th>0</th>\n",
       "      <td>2019</td>\n",
       "      <td>605</td>\n",
       "      <td>132.60</td>\n",
       "      <td>-0.0047</td>\n",
       "      <td>-0.0051</td>\n",
       "      <td>-0.0056</td>\n",
       "      <td>-0.0061</td>\n",
       "      <td>-0.0067</td>\n",
       "      <td>-0.0073</td>\n",
       "      <td>-0.0080</td>\n",
       "      <td>...</td>\n",
       "      <td>NaN</td>\n",
       "      <td>NaN</td>\n",
       "      <td>NaN</td>\n",
       "      <td>NaN</td>\n",
       "      <td>NaN</td>\n",
       "      <td>NaN</td>\n",
       "      <td>NaN</td>\n",
       "      <td>NaN</td>\n",
       "      <td>NaN</td>\n",
       "      <td>NaN</td>\n",
       "    </tr>\n",
       "    <tr>\n",
       "      <th>1</th>\n",
       "      <td>2019</td>\n",
       "      <td>305</td>\n",
       "      <td>61.44</td>\n",
       "      <td>0.2445</td>\n",
       "      <td>0.2438</td>\n",
       "      <td>0.2431</td>\n",
       "      <td>0.2424</td>\n",
       "      <td>0.2417</td>\n",
       "      <td>0.2410</td>\n",
       "      <td>0.2403</td>\n",
       "      <td>...</td>\n",
       "      <td>NaN</td>\n",
       "      <td>NaN</td>\n",
       "      <td>NaN</td>\n",
       "      <td>NaN</td>\n",
       "      <td>NaN</td>\n",
       "      <td>NaN</td>\n",
       "      <td>NaN</td>\n",
       "      <td>NaN</td>\n",
       "      <td>NaN</td>\n",
       "      <td>NaN</td>\n",
       "    </tr>\n",
       "    <tr>\n",
       "      <th>2</th>\n",
       "      <td>2019</td>\n",
       "      <td>1096</td>\n",
       "      <td>59.26</td>\n",
       "      <td>0.0145</td>\n",
       "      <td>0.0081</td>\n",
       "      <td>0.0018</td>\n",
       "      <td>-0.0046</td>\n",
       "      <td>-0.0110</td>\n",
       "      <td>-0.0122</td>\n",
       "      <td>-0.0133</td>\n",
       "      <td>...</td>\n",
       "      <td>NaN</td>\n",
       "      <td>NaN</td>\n",
       "      <td>NaN</td>\n",
       "      <td>NaN</td>\n",
       "      <td>NaN</td>\n",
       "      <td>NaN</td>\n",
       "      <td>NaN</td>\n",
       "      <td>NaN</td>\n",
       "      <td>NaN</td>\n",
       "      <td>NaN</td>\n",
       "    </tr>\n",
       "    <tr>\n",
       "      <th>3</th>\n",
       "      <td>2019</td>\n",
       "      <td>179</td>\n",
       "      <td>112.36</td>\n",
       "      <td>-0.0171</td>\n",
       "      <td>-0.0200</td>\n",
       "      <td>-0.0209</td>\n",
       "      <td>-0.0216</td>\n",
       "      <td>-0.0221</td>\n",
       "      <td>-0.0223</td>\n",
       "      <td>-0.0221</td>\n",
       "      <td>...</td>\n",
       "      <td>NaN</td>\n",
       "      <td>NaN</td>\n",
       "      <td>NaN</td>\n",
       "      <td>NaN</td>\n",
       "      <td>NaN</td>\n",
       "      <td>NaN</td>\n",
       "      <td>NaN</td>\n",
       "      <td>NaN</td>\n",
       "      <td>NaN</td>\n",
       "      <td>NaN</td>\n",
       "    </tr>\n",
       "    <tr>\n",
       "      <th>4</th>\n",
       "      <td>2019</td>\n",
       "      <td>282</td>\n",
       "      <td>68.57</td>\n",
       "      <td>0.3908</td>\n",
       "      <td>0.3892</td>\n",
       "      <td>0.3876</td>\n",
       "      <td>0.3859</td>\n",
       "      <td>0.3843</td>\n",
       "      <td>0.3827</td>\n",
       "      <td>0.3811</td>\n",
       "      <td>...</td>\n",
       "      <td>NaN</td>\n",
       "      <td>NaN</td>\n",
       "      <td>NaN</td>\n",
       "      <td>NaN</td>\n",
       "      <td>NaN</td>\n",
       "      <td>NaN</td>\n",
       "      <td>NaN</td>\n",
       "      <td>NaN</td>\n",
       "      <td>NaN</td>\n",
       "      <td>NaN</td>\n",
       "    </tr>\n",
       "    <tr>\n",
       "      <th>...</th>\n",
       "      <td>...</td>\n",
       "      <td>...</td>\n",
       "      <td>...</td>\n",
       "      <td>...</td>\n",
       "      <td>...</td>\n",
       "      <td>...</td>\n",
       "      <td>...</td>\n",
       "      <td>...</td>\n",
       "      <td>...</td>\n",
       "      <td>...</td>\n",
       "      <td>...</td>\n",
       "      <td>...</td>\n",
       "      <td>...</td>\n",
       "      <td>...</td>\n",
       "      <td>...</td>\n",
       "      <td>...</td>\n",
       "      <td>...</td>\n",
       "      <td>...</td>\n",
       "      <td>...</td>\n",
       "      <td>...</td>\n",
       "      <td>...</td>\n",
       "    </tr>\n",
       "    <tr>\n",
       "      <th>934</th>\n",
       "      <td>2019</td>\n",
       "      <td>665</td>\n",
       "      <td>46.50</td>\n",
       "      <td>-0.0176</td>\n",
       "      <td>-0.0179</td>\n",
       "      <td>-0.0181</td>\n",
       "      <td>-0.0184</td>\n",
       "      <td>-0.0186</td>\n",
       "      <td>-0.0188</td>\n",
       "      <td>-0.0189</td>\n",
       "      <td>...</td>\n",
       "      <td>NaN</td>\n",
       "      <td>NaN</td>\n",
       "      <td>NaN</td>\n",
       "      <td>NaN</td>\n",
       "      <td>NaN</td>\n",
       "      <td>NaN</td>\n",
       "      <td>NaN</td>\n",
       "      <td>NaN</td>\n",
       "      <td>NaN</td>\n",
       "      <td>NaN</td>\n",
       "    </tr>\n",
       "    <tr>\n",
       "      <th>935</th>\n",
       "      <td>2019</td>\n",
       "      <td>1277</td>\n",
       "      <td>229.24</td>\n",
       "      <td>0.0212</td>\n",
       "      <td>0.0181</td>\n",
       "      <td>0.0149</td>\n",
       "      <td>0.0118</td>\n",
       "      <td>0.0087</td>\n",
       "      <td>0.0056</td>\n",
       "      <td>0.0025</td>\n",
       "      <td>...</td>\n",
       "      <td>NaN</td>\n",
       "      <td>NaN</td>\n",
       "      <td>NaN</td>\n",
       "      <td>NaN</td>\n",
       "      <td>NaN</td>\n",
       "      <td>NaN</td>\n",
       "      <td>NaN</td>\n",
       "      <td>NaN</td>\n",
       "      <td>NaN</td>\n",
       "      <td>NaN</td>\n",
       "    </tr>\n",
       "    <tr>\n",
       "      <th>936</th>\n",
       "      <td>2019</td>\n",
       "      <td>875</td>\n",
       "      <td>166.97</td>\n",
       "      <td>0.0460</td>\n",
       "      <td>0.0411</td>\n",
       "      <td>0.0362</td>\n",
       "      <td>0.0312</td>\n",
       "      <td>0.0263</td>\n",
       "      <td>0.0214</td>\n",
       "      <td>0.0165</td>\n",
       "      <td>...</td>\n",
       "      <td>NaN</td>\n",
       "      <td>NaN</td>\n",
       "      <td>NaN</td>\n",
       "      <td>NaN</td>\n",
       "      <td>NaN</td>\n",
       "      <td>NaN</td>\n",
       "      <td>NaN</td>\n",
       "      <td>NaN</td>\n",
       "      <td>NaN</td>\n",
       "      <td>NaN</td>\n",
       "    </tr>\n",
       "    <tr>\n",
       "      <th>937</th>\n",
       "      <td>2019</td>\n",
       "      <td>301</td>\n",
       "      <td>123.52</td>\n",
       "      <td>0.2499</td>\n",
       "      <td>0.2483</td>\n",
       "      <td>0.2468</td>\n",
       "      <td>0.2452</td>\n",
       "      <td>0.2437</td>\n",
       "      <td>0.2422</td>\n",
       "      <td>0.2407</td>\n",
       "      <td>...</td>\n",
       "      <td>NaN</td>\n",
       "      <td>NaN</td>\n",
       "      <td>NaN</td>\n",
       "      <td>NaN</td>\n",
       "      <td>NaN</td>\n",
       "      <td>NaN</td>\n",
       "      <td>NaN</td>\n",
       "      <td>NaN</td>\n",
       "      <td>NaN</td>\n",
       "      <td>NaN</td>\n",
       "    </tr>\n",
       "    <tr>\n",
       "      <th>938</th>\n",
       "      <td>2019</td>\n",
       "      <td>464</td>\n",
       "      <td>88.15</td>\n",
       "      <td>0.3809</td>\n",
       "      <td>0.3599</td>\n",
       "      <td>0.3388</td>\n",
       "      <td>0.3178</td>\n",
       "      <td>0.2967</td>\n",
       "      <td>0.2757</td>\n",
       "      <td>0.2546</td>\n",
       "      <td>...</td>\n",
       "      <td>NaN</td>\n",
       "      <td>NaN</td>\n",
       "      <td>NaN</td>\n",
       "      <td>NaN</td>\n",
       "      <td>NaN</td>\n",
       "      <td>NaN</td>\n",
       "      <td>NaN</td>\n",
       "      <td>NaN</td>\n",
       "      <td>NaN</td>\n",
       "      <td>NaN</td>\n",
       "    </tr>\n",
       "  </tbody>\n",
       "</table>\n",
       "<p>939 rows × 368 columns</p>\n",
       "</div>"
      ],
      "text/plain": [
       "     Year  Field ID  Field Area   Day 1   Day 2   Day 3   Day 4   Day 5  \\\n",
       "0    2019       605      132.60 -0.0047 -0.0051 -0.0056 -0.0061 -0.0067   \n",
       "1    2019       305       61.44  0.2445  0.2438  0.2431  0.2424  0.2417   \n",
       "2    2019      1096       59.26  0.0145  0.0081  0.0018 -0.0046 -0.0110   \n",
       "3    2019       179      112.36 -0.0171 -0.0200 -0.0209 -0.0216 -0.0221   \n",
       "4    2019       282       68.57  0.3908  0.3892  0.3876  0.3859  0.3843   \n",
       "..    ...       ...         ...     ...     ...     ...     ...     ...   \n",
       "934  2019       665       46.50 -0.0176 -0.0179 -0.0181 -0.0184 -0.0186   \n",
       "935  2019      1277      229.24  0.0212  0.0181  0.0149  0.0118  0.0087   \n",
       "936  2019       875      166.97  0.0460  0.0411  0.0362  0.0312  0.0263   \n",
       "937  2019       301      123.52  0.2499  0.2483  0.2468  0.2452  0.2437   \n",
       "938  2019       464       88.15  0.3809  0.3599  0.3388  0.3178  0.2967   \n",
       "\n",
       "      Day 6   Day 7  ...  Day 356  Day 357  Day 358  Day 359  Day 360  \\\n",
       "0   -0.0073 -0.0080  ...      NaN      NaN      NaN      NaN      NaN   \n",
       "1    0.2410  0.2403  ...      NaN      NaN      NaN      NaN      NaN   \n",
       "2   -0.0122 -0.0133  ...      NaN      NaN      NaN      NaN      NaN   \n",
       "3   -0.0223 -0.0221  ...      NaN      NaN      NaN      NaN      NaN   \n",
       "4    0.3827  0.3811  ...      NaN      NaN      NaN      NaN      NaN   \n",
       "..      ...     ...  ...      ...      ...      ...      ...      ...   \n",
       "934 -0.0188 -0.0189  ...      NaN      NaN      NaN      NaN      NaN   \n",
       "935  0.0056  0.0025  ...      NaN      NaN      NaN      NaN      NaN   \n",
       "936  0.0214  0.0165  ...      NaN      NaN      NaN      NaN      NaN   \n",
       "937  0.2422  0.2407  ...      NaN      NaN      NaN      NaN      NaN   \n",
       "938  0.2757  0.2546  ...      NaN      NaN      NaN      NaN      NaN   \n",
       "\n",
       "     Day 361  Day 362  Day 363  Day 364  Day 365  \n",
       "0        NaN      NaN      NaN      NaN      NaN  \n",
       "1        NaN      NaN      NaN      NaN      NaN  \n",
       "2        NaN      NaN      NaN      NaN      NaN  \n",
       "3        NaN      NaN      NaN      NaN      NaN  \n",
       "4        NaN      NaN      NaN      NaN      NaN  \n",
       "..       ...      ...      ...      ...      ...  \n",
       "934      NaN      NaN      NaN      NaN      NaN  \n",
       "935      NaN      NaN      NaN      NaN      NaN  \n",
       "936      NaN      NaN      NaN      NaN      NaN  \n",
       "937      NaN      NaN      NaN      NaN      NaN  \n",
       "938      NaN      NaN      NaN      NaN      NaN  \n",
       "\n",
       "[939 rows x 368 columns]"
      ]
     },
     "execution_count": 15,
     "metadata": {},
     "output_type": "execute_result"
    }
   ],
   "source": [
    "test"
   ]
  },
  {
   "cell_type": "code",
   "execution_count": 19,
   "metadata": {},
   "outputs": [],
   "source": [
    "train.drop(['Day 366'],inplace=True, axis=1)"
   ]
  },
  {
   "cell_type": "code",
   "execution_count": 20,
   "metadata": {},
   "outputs": [],
   "source": [
    "test.to_csv('test.csv',index=False)"
   ]
  },
  {
   "cell_type": "code",
   "execution_count": 21,
   "metadata": {},
   "outputs": [],
   "source": [
    "train.to_csv('train.csv',index=False)"
   ]
  },
  {
   "cell_type": "code",
   "execution_count": null,
   "metadata": {},
   "outputs": [],
   "source": []
  }
 ],
 "metadata": {
  "kernelspec": {
   "display_name": "Python 3",
   "language": "python",
   "name": "python3"
  },
  "language_info": {
   "codemirror_mode": {
    "name": "ipython",
    "version": 3
   },
   "file_extension": ".py",
   "mimetype": "text/x-python",
   "name": "python",
   "nbconvert_exporter": "python",
   "pygments_lexer": "ipython3",
   "version": "3.7.8"
  }
 },
 "nbformat": 4,
 "nbformat_minor": 4
}
