{
 "cells": [
  {
   "cell_type": "markdown",
   "metadata": {},
   "source": [
    "transactions.csv \n",
    "Набор данных с самими транзакциями клиентов. Это самые актуальные данные, необходимые для решения задачи, приблизительно 350 тысяч транзакций. \n",
    "Как и все данные в этом соревновании, эти данные являются синтетическими, полученными путем модельной генерации последовательностей, модели для которых были обучены на основе реальных банковских датасетов. Дополнительная информация о процессе генерации доступна в разделе FAQ, а также будет изложена во время награждения в рамках Data Halloween.  \n",
    "Структура данных: каждой транзакции соответствует строка в таблице, в которой содержится следующая информация: \n",
    "\n",
    "clnt_id — идентификатор клиента, по которому можно найти дополнительную информацию в других таблицах;\n",
    "date — относительная дата, в которую была совершена транзакция;\n",
    "mcc_id — идентификатор типа транзакции (Merchant Category Code). Предоставленные в рамках соревнования данные являются синтетическими, однако в реальных приложениях данный код определяет тип транзакции. \n",
    "Примеры кодов в реальных приложениях: “оплата в кафе и ресторанах”, “начисление зарплаты”, “снятие наличных в банкомате” и другие. Как правило, в банковских системах используются более 10 000 различных кодов, но в рамках предложенных данных мы сгенерировали только 50.\n",
    "sum — сумма транзакции. Может быть как положительной (начисление на счет), так и отрицательной. Подробнее о структуре сумм внутри различных кодов транзакций можно узнать, начав анализировать данные :)\n",
    "\n",
    "crm_data.csv\n",
    "Данные, эмулирующие результат выгрузки из CRM (Customer relationship management) системы, представляют собой таблицу с перечнем самой разной информации о клиенте, доступной в моменте. Как и в реальных CRM-системах, различная информация может храниться в разных системах, иметь разную степень свежести, и иметь еще множество увлекательных для аналитиков свойств. \n",
    "Таблица содержит информацию о 2899 клиентах и содержит 20 столбцов с различной информацией о клиентах. Для участников самое важное в этих данных — поле clnt_id, соответствующее clnt_id в других таблицах, предоставленных в рамках соревнования. \n",
    "Самые важные поля в этой таблице следующие:\n",
    "\n",
    "clnt_id — идентификатор клиентов банка;\n",
    "is_premium — целевая переменная, которую нужно предсказать: 1- клиенты, имеющие премиальную карту; 0 - обычные клиенты. Целевая переменная доступна не для всех клиентов и именно в ее предсказании для новых клиентов и состоит задача соревнования. \n",
    "В процессе генерации предоставленного синтетического файла ни один реальный клиент не пострадал :) \n",
    "\n",
    "crm_goose.csv\n",
    "По сценарию соревнования это те данные, которые остались в наследство от прежнего дата саентиста. Этот специалист уже ранее подступался к данной задаче, но не успел ни довести ее до пилотирования, ни передать по ней дела — столь сильно было желание сменить поле деятельности (мы его иногда прекрасно понимаем). К сожалению, этот специалист не только не слышал про воспроизводимость и REPA-ML, но нам даже не удалось отыскать код, воспроизводящий эти данные. Однако, сами данные уже содержат ряд признаков, которые могут помочь решить задачу. Помогут ли эти признаки участникам — узнаем на Data Halloween, когда мы раскроем backstage про подготовку задачи.\n",
    "\n",
    "sample_subm\n",
    "Это пример тестового файла, который вам нужно отправить продакт-менеджеру, пригласившему вас помочь с задачей предсказания премиальных клиентов. В банке стало больше новых клиентов и нужно предсказать, станут ли они пользователями премиальных карт или нет. Файл имеет следующую структуру:\n",
    "\n",
    "clnt_id — идентификаторы новых клиентов банка, для которых нужно предсказать, станут ли они премиальными клиентами;\n",
    "is_premium — бинарная метка вашего предсказания: 1 - станут премиальными клиентами; 0 - не станут. Обратите внимание: продакт-менеджера не интересуют ни вероятности, ни расстояния до разделяющих гиперплоскостей. Нужны просто четкие предсказания: станет или нет."
   ]
  },
  {
   "cell_type": "code",
   "execution_count": 1,
   "metadata": {},
   "outputs": [],
   "source": [
    "import numpy as np\n",
    "import pandas as pd\n",
    "import matplotlib.pyplot as plt\n",
    "import seaborn as sns"
   ]
  },
  {
   "cell_type": "code",
   "execution_count": 2,
   "metadata": {},
   "outputs": [
    {
     "data": {
      "text/html": [
       "<div>\n",
       "<style scoped>\n",
       "    .dataframe tbody tr th:only-of-type {\n",
       "        vertical-align: middle;\n",
       "    }\n",
       "\n",
       "    .dataframe tbody tr th {\n",
       "        vertical-align: top;\n",
       "    }\n",
       "\n",
       "    .dataframe thead th {\n",
       "        text-align: right;\n",
       "    }\n",
       "</style>\n",
       "<table border=\"1\" class=\"dataframe\">\n",
       "  <thead>\n",
       "    <tr style=\"text-align: right;\">\n",
       "      <th></th>\n",
       "      <th>clnt_id</th>\n",
       "      <th>clnt_gender</th>\n",
       "      <th>clnt_age</th>\n",
       "      <th>clnt_device</th>\n",
       "      <th>clnt_device_get</th>\n",
       "      <th>has_car</th>\n",
       "      <th>has_estate</th>\n",
       "      <th>clnt_children</th>\n",
       "      <th>clnt_income</th>\n",
       "      <th>clnt_pick</th>\n",
       "      <th>clnt_fortune</th>\n",
       "      <th>clnt_status</th>\n",
       "      <th>clnt_system</th>\n",
       "      <th>spend_last</th>\n",
       "      <th>spend_level</th>\n",
       "      <th>spend_points</th>\n",
       "      <th>manager_contact</th>\n",
       "      <th>is_premium</th>\n",
       "    </tr>\n",
       "  </thead>\n",
       "  <tbody>\n",
       "    <tr>\n",
       "      <th>0</th>\n",
       "      <td>2001</td>\n",
       "      <td>1.0</td>\n",
       "      <td>32</td>\n",
       "      <td>sO@*%lun08</td>\n",
       "      <td>vgIXi0LgoZHQ71Mmekm1</td>\n",
       "      <td>0.0</td>\n",
       "      <td>0.0</td>\n",
       "      <td>1</td>\n",
       "      <td>180000</td>\n",
       "      <td>2</td>\n",
       "      <td>6</td>\n",
       "      <td>3</td>\n",
       "      <td>1</td>\n",
       "      <td>1428</td>\n",
       "      <td>320</td>\n",
       "      <td>76</td>\n",
       "      <td>7227.0</td>\n",
       "      <td>1.0</td>\n",
       "    </tr>\n",
       "    <tr>\n",
       "      <th>1</th>\n",
       "      <td>2006</td>\n",
       "      <td>1.0</td>\n",
       "      <td>20</td>\n",
       "      <td>)!%OA9qpZP</td>\n",
       "      <td>lmE6l7DelsqZNYgxcsAZ</td>\n",
       "      <td>1.0</td>\n",
       "      <td>0.0</td>\n",
       "      <td>0</td>\n",
       "      <td>250000</td>\n",
       "      <td>5</td>\n",
       "      <td>11</td>\n",
       "      <td>4</td>\n",
       "      <td>1</td>\n",
       "      <td>1428</td>\n",
       "      <td>1000</td>\n",
       "      <td>66</td>\n",
       "      <td>7227.0</td>\n",
       "      <td>1.0</td>\n",
       "    </tr>\n",
       "    <tr>\n",
       "      <th>2</th>\n",
       "      <td>2012</td>\n",
       "      <td>0.0</td>\n",
       "      <td>24</td>\n",
       "      <td>IgSHlRCsd#</td>\n",
       "      <td>yhUtC1GSVpWWNPCI9EYo</td>\n",
       "      <td>NaN</td>\n",
       "      <td>0.0</td>\n",
       "      <td>0</td>\n",
       "      <td>310000</td>\n",
       "      <td>4</td>\n",
       "      <td>8</td>\n",
       "      <td>4</td>\n",
       "      <td>1</td>\n",
       "      <td>1428</td>\n",
       "      <td>1750</td>\n",
       "      <td>18</td>\n",
       "      <td>7233.0</td>\n",
       "      <td>1.0</td>\n",
       "    </tr>\n",
       "    <tr>\n",
       "      <th>3</th>\n",
       "      <td>2013</td>\n",
       "      <td>0.0</td>\n",
       "      <td>42</td>\n",
       "      <td>SSbZb5Hpun</td>\n",
       "      <td>TM4ptl78Lwzhng7PAY4G</td>\n",
       "      <td>1.0</td>\n",
       "      <td>0.0</td>\n",
       "      <td>1</td>\n",
       "      <td>110000</td>\n",
       "      <td>8</td>\n",
       "      <td>9</td>\n",
       "      <td>6</td>\n",
       "      <td>1</td>\n",
       "      <td>1428</td>\n",
       "      <td>1180</td>\n",
       "      <td>30</td>\n",
       "      <td>7227.0</td>\n",
       "      <td>1.0</td>\n",
       "    </tr>\n",
       "    <tr>\n",
       "      <th>4</th>\n",
       "      <td>2014</td>\n",
       "      <td>0.0</td>\n",
       "      <td>25</td>\n",
       "      <td>N)Eb*EJXD4</td>\n",
       "      <td>lmE6l7DelsqZNYgxcsAZ</td>\n",
       "      <td>1.0</td>\n",
       "      <td>0.0</td>\n",
       "      <td>1</td>\n",
       "      <td>300000</td>\n",
       "      <td>8</td>\n",
       "      <td>10</td>\n",
       "      <td>4</td>\n",
       "      <td>1</td>\n",
       "      <td>1428</td>\n",
       "      <td>1000</td>\n",
       "      <td>24</td>\n",
       "      <td>7227.0</td>\n",
       "      <td>1.0</td>\n",
       "    </tr>\n",
       "    <tr>\n",
       "      <th>...</th>\n",
       "      <td>...</td>\n",
       "      <td>...</td>\n",
       "      <td>...</td>\n",
       "      <td>...</td>\n",
       "      <td>...</td>\n",
       "      <td>...</td>\n",
       "      <td>...</td>\n",
       "      <td>...</td>\n",
       "      <td>...</td>\n",
       "      <td>...</td>\n",
       "      <td>...</td>\n",
       "      <td>...</td>\n",
       "      <td>...</td>\n",
       "      <td>...</td>\n",
       "      <td>...</td>\n",
       "      <td>...</td>\n",
       "      <td>...</td>\n",
       "      <td>...</td>\n",
       "    </tr>\n",
       "    <tr>\n",
       "      <th>2894</th>\n",
       "      <td>4984</td>\n",
       "      <td>1.0</td>\n",
       "      <td>24</td>\n",
       "      <td>!Zusbz4GJ@</td>\n",
       "      <td>DUPFnmZiv2kqwJJgYK0p</td>\n",
       "      <td>0.0</td>\n",
       "      <td>0.0</td>\n",
       "      <td>1</td>\n",
       "      <td>370000</td>\n",
       "      <td>5</td>\n",
       "      <td>28</td>\n",
       "      <td>0</td>\n",
       "      <td>1</td>\n",
       "      <td>1427</td>\n",
       "      <td>100</td>\n",
       "      <td>0</td>\n",
       "      <td>NaN</td>\n",
       "      <td>NaN</td>\n",
       "    </tr>\n",
       "    <tr>\n",
       "      <th>2895</th>\n",
       "      <td>4986</td>\n",
       "      <td>0.0</td>\n",
       "      <td>22</td>\n",
       "      <td>YBjx-RAB9!</td>\n",
       "      <td>4CdUr2g9UqwFuqdVaWdO</td>\n",
       "      <td>0.0</td>\n",
       "      <td>1.0</td>\n",
       "      <td>0</td>\n",
       "      <td>0</td>\n",
       "      <td>2</td>\n",
       "      <td>30</td>\n",
       "      <td>6</td>\n",
       "      <td>1</td>\n",
       "      <td>1428</td>\n",
       "      <td>1000</td>\n",
       "      <td>0</td>\n",
       "      <td>NaN</td>\n",
       "      <td>NaN</td>\n",
       "    </tr>\n",
       "    <tr>\n",
       "      <th>2896</th>\n",
       "      <td>4987</td>\n",
       "      <td>0.0</td>\n",
       "      <td>24</td>\n",
       "      <td>nR4%tYIRXv</td>\n",
       "      <td>qhf9RhOTHsX15m3UzA94</td>\n",
       "      <td>1.0</td>\n",
       "      <td>0.0</td>\n",
       "      <td>0</td>\n",
       "      <td>21000000</td>\n",
       "      <td>4</td>\n",
       "      <td>31</td>\n",
       "      <td>27</td>\n",
       "      <td>1</td>\n",
       "      <td>1428</td>\n",
       "      <td>1000</td>\n",
       "      <td>0</td>\n",
       "      <td>NaN</td>\n",
       "      <td>NaN</td>\n",
       "    </tr>\n",
       "    <tr>\n",
       "      <th>2897</th>\n",
       "      <td>4991</td>\n",
       "      <td>0.0</td>\n",
       "      <td>24</td>\n",
       "      <td>^+3(I8C%&amp;b</td>\n",
       "      <td>NaN</td>\n",
       "      <td>1.0</td>\n",
       "      <td>0.0</td>\n",
       "      <td>3</td>\n",
       "      <td>380000</td>\n",
       "      <td>5</td>\n",
       "      <td>26</td>\n",
       "      <td>25</td>\n",
       "      <td>1</td>\n",
       "      <td>1428</td>\n",
       "      <td>510</td>\n",
       "      <td>0</td>\n",
       "      <td>NaN</td>\n",
       "      <td>NaN</td>\n",
       "    </tr>\n",
       "    <tr>\n",
       "      <th>2898</th>\n",
       "      <td>4994</td>\n",
       "      <td>0.0</td>\n",
       "      <td>24</td>\n",
       "      <td>4(*Kax8&amp;YS</td>\n",
       "      <td>Xlh4OkBJvFkCElKYmKNQ</td>\n",
       "      <td>0.0</td>\n",
       "      <td>0.0</td>\n",
       "      <td>0</td>\n",
       "      <td>60000</td>\n",
       "      <td>4</td>\n",
       "      <td>29</td>\n",
       "      <td>6</td>\n",
       "      <td>3</td>\n",
       "      <td>1428</td>\n",
       "      <td>100</td>\n",
       "      <td>0</td>\n",
       "      <td>NaN</td>\n",
       "      <td>NaN</td>\n",
       "    </tr>\n",
       "  </tbody>\n",
       "</table>\n",
       "<p>2899 rows × 18 columns</p>\n",
       "</div>"
      ],
      "text/plain": [
       "      clnt_id  clnt_gender  clnt_age clnt_device       clnt_device_get  \\\n",
       "0        2001          1.0        32  sO@*%lun08  vgIXi0LgoZHQ71Mmekm1   \n",
       "1        2006          1.0        20  )!%OA9qpZP  lmE6l7DelsqZNYgxcsAZ   \n",
       "2        2012          0.0        24  IgSHlRCsd#  yhUtC1GSVpWWNPCI9EYo   \n",
       "3        2013          0.0        42  SSbZb5Hpun  TM4ptl78Lwzhng7PAY4G   \n",
       "4        2014          0.0        25  N)Eb*EJXD4  lmE6l7DelsqZNYgxcsAZ   \n",
       "...       ...          ...       ...         ...                   ...   \n",
       "2894     4984          1.0        24  !Zusbz4GJ@  DUPFnmZiv2kqwJJgYK0p   \n",
       "2895     4986          0.0        22  YBjx-RAB9!  4CdUr2g9UqwFuqdVaWdO   \n",
       "2896     4987          0.0        24  nR4%tYIRXv  qhf9RhOTHsX15m3UzA94   \n",
       "2897     4991          0.0        24  ^+3(I8C%&b                   NaN   \n",
       "2898     4994          0.0        24  4(*Kax8&YS  Xlh4OkBJvFkCElKYmKNQ   \n",
       "\n",
       "      has_car  has_estate  clnt_children  clnt_income  clnt_pick  \\\n",
       "0         0.0         0.0              1       180000          2   \n",
       "1         1.0         0.0              0       250000          5   \n",
       "2         NaN         0.0              0       310000          4   \n",
       "3         1.0         0.0              1       110000          8   \n",
       "4         1.0         0.0              1       300000          8   \n",
       "...       ...         ...            ...          ...        ...   \n",
       "2894      0.0         0.0              1       370000          5   \n",
       "2895      0.0         1.0              0            0          2   \n",
       "2896      1.0         0.0              0     21000000          4   \n",
       "2897      1.0         0.0              3       380000          5   \n",
       "2898      0.0         0.0              0        60000          4   \n",
       "\n",
       "      clnt_fortune  clnt_status  clnt_system  spend_last  spend_level  \\\n",
       "0                6            3            1        1428          320   \n",
       "1               11            4            1        1428         1000   \n",
       "2                8            4            1        1428         1750   \n",
       "3                9            6            1        1428         1180   \n",
       "4               10            4            1        1428         1000   \n",
       "...            ...          ...          ...         ...          ...   \n",
       "2894            28            0            1        1427          100   \n",
       "2895            30            6            1        1428         1000   \n",
       "2896            31           27            1        1428         1000   \n",
       "2897            26           25            1        1428          510   \n",
       "2898            29            6            3        1428          100   \n",
       "\n",
       "      spend_points  manager_contact  is_premium  \n",
       "0               76           7227.0         1.0  \n",
       "1               66           7227.0         1.0  \n",
       "2               18           7233.0         1.0  \n",
       "3               30           7227.0         1.0  \n",
       "4               24           7227.0         1.0  \n",
       "...            ...              ...         ...  \n",
       "2894             0              NaN         NaN  \n",
       "2895             0              NaN         NaN  \n",
       "2896             0              NaN         NaN  \n",
       "2897             0              NaN         NaN  \n",
       "2898             0              NaN         NaN  \n",
       "\n",
       "[2899 rows x 18 columns]"
      ]
     },
     "execution_count": 2,
     "metadata": {},
     "output_type": "execute_result"
    }
   ],
   "source": [
    "crm_data=pd.read_csv('crm_data.csv')\n",
    "crm_data"
   ]
  },
  {
   "cell_type": "code",
   "execution_count": 3,
   "metadata": {},
   "outputs": [
    {
     "data": {
      "text/html": [
       "<div>\n",
       "<style scoped>\n",
       "    .dataframe tbody tr th:only-of-type {\n",
       "        vertical-align: middle;\n",
       "    }\n",
       "\n",
       "    .dataframe tbody tr th {\n",
       "        vertical-align: top;\n",
       "    }\n",
       "\n",
       "    .dataframe thead th {\n",
       "        text-align: right;\n",
       "    }\n",
       "</style>\n",
       "<table border=\"1\" class=\"dataframe\">\n",
       "  <thead>\n",
       "    <tr style=\"text-align: right;\">\n",
       "      <th></th>\n",
       "      <th>clnt_id</th>\n",
       "      <th>grey_goose_F0</th>\n",
       "      <th>grey_goose_F1</th>\n",
       "      <th>grey_goose_F2</th>\n",
       "      <th>grey_goose_F3</th>\n",
       "      <th>grey_goose_F4</th>\n",
       "      <th>goose_agg_0</th>\n",
       "      <th>goose_agg_1</th>\n",
       "      <th>goose_agg_2</th>\n",
       "      <th>goose_agg_3</th>\n",
       "      <th>...</th>\n",
       "      <th>wild_goose_A_0</th>\n",
       "      <th>wild_goose_A_1</th>\n",
       "      <th>wild_goose_A_2</th>\n",
       "      <th>wild_goose_A_3</th>\n",
       "      <th>wild_goose_A_4</th>\n",
       "      <th>wild_goose_A_5</th>\n",
       "      <th>wild_goose_A_6</th>\n",
       "      <th>wild_goose_A_7</th>\n",
       "      <th>wild_goose_A_8</th>\n",
       "      <th>wild_goose_A_9</th>\n",
       "    </tr>\n",
       "  </thead>\n",
       "  <tbody>\n",
       "    <tr>\n",
       "      <th>0</th>\n",
       "      <td>3700</td>\n",
       "      <td>0</td>\n",
       "      <td>1</td>\n",
       "      <td>1</td>\n",
       "      <td>1</td>\n",
       "      <td>0</td>\n",
       "      <td>98.0</td>\n",
       "      <td>-87449.0</td>\n",
       "      <td>2138.696906</td>\n",
       "      <td>113.0</td>\n",
       "      <td>...</td>\n",
       "      <td>5743.754372</td>\n",
       "      <td>2362.996967</td>\n",
       "      <td>-6000.0</td>\n",
       "      <td>NaN</td>\n",
       "      <td>NaN</td>\n",
       "      <td>NaN</td>\n",
       "      <td>NaN</td>\n",
       "      <td>NaN</td>\n",
       "      <td>12831.625239</td>\n",
       "      <td>5.0</td>\n",
       "    </tr>\n",
       "    <tr>\n",
       "      <th>1</th>\n",
       "      <td>4545</td>\n",
       "      <td>0</td>\n",
       "      <td>0</td>\n",
       "      <td>1</td>\n",
       "      <td>1</td>\n",
       "      <td>0</td>\n",
       "      <td>94.0</td>\n",
       "      <td>-542660.0</td>\n",
       "      <td>25775.051604</td>\n",
       "      <td>107.0</td>\n",
       "      <td>...</td>\n",
       "      <td>NaN</td>\n",
       "      <td>14289.920941</td>\n",
       "      <td>-22000.0</td>\n",
       "      <td>NaN</td>\n",
       "      <td>100000.0</td>\n",
       "      <td>NaN</td>\n",
       "      <td>NaN</td>\n",
       "      <td>NaN</td>\n",
       "      <td>NaN</td>\n",
       "      <td>6.0</td>\n",
       "    </tr>\n",
       "    <tr>\n",
       "      <th>2</th>\n",
       "      <td>3656</td>\n",
       "      <td>0</td>\n",
       "      <td>1</td>\n",
       "      <td>0</td>\n",
       "      <td>0</td>\n",
       "      <td>1</td>\n",
       "      <td>NaN</td>\n",
       "      <td>NaN</td>\n",
       "      <td>NaN</td>\n",
       "      <td>NaN</td>\n",
       "      <td>...</td>\n",
       "      <td>NaN</td>\n",
       "      <td>1530.359435</td>\n",
       "      <td>-3800.0</td>\n",
       "      <td>-10500.0</td>\n",
       "      <td>20000.0</td>\n",
       "      <td>NaN</td>\n",
       "      <td>NaN</td>\n",
       "      <td>NaN</td>\n",
       "      <td>9347.738140</td>\n",
       "      <td>6.0</td>\n",
       "    </tr>\n",
       "    <tr>\n",
       "      <th>3</th>\n",
       "      <td>4445</td>\n",
       "      <td>1</td>\n",
       "      <td>1</td>\n",
       "      <td>1</td>\n",
       "      <td>1</td>\n",
       "      <td>0</td>\n",
       "      <td>46.0</td>\n",
       "      <td>-122665.0</td>\n",
       "      <td>9808.466833</td>\n",
       "      <td>54.0</td>\n",
       "      <td>...</td>\n",
       "      <td>871.779789</td>\n",
       "      <td>3386.310076</td>\n",
       "      <td>-10000.0</td>\n",
       "      <td>NaN</td>\n",
       "      <td>NaN</td>\n",
       "      <td>NaN</td>\n",
       "      <td>NaN</td>\n",
       "      <td>NaN</td>\n",
       "      <td>935.269034</td>\n",
       "      <td>6.0</td>\n",
       "    </tr>\n",
       "    <tr>\n",
       "      <th>4</th>\n",
       "      <td>4112</td>\n",
       "      <td>0</td>\n",
       "      <td>1</td>\n",
       "      <td>1</td>\n",
       "      <td>0</td>\n",
       "      <td>0</td>\n",
       "      <td>NaN</td>\n",
       "      <td>NaN</td>\n",
       "      <td>NaN</td>\n",
       "      <td>NaN</td>\n",
       "      <td>...</td>\n",
       "      <td>NaN</td>\n",
       "      <td>3755.440498</td>\n",
       "      <td>-8000.0</td>\n",
       "      <td>-1111.0</td>\n",
       "      <td>720.0</td>\n",
       "      <td>1.0</td>\n",
       "      <td>-39.0</td>\n",
       "      <td>NaN</td>\n",
       "      <td>934.470566</td>\n",
       "      <td>16.0</td>\n",
       "    </tr>\n",
       "    <tr>\n",
       "      <th>...</th>\n",
       "      <td>...</td>\n",
       "      <td>...</td>\n",
       "      <td>...</td>\n",
       "      <td>...</td>\n",
       "      <td>...</td>\n",
       "      <td>...</td>\n",
       "      <td>...</td>\n",
       "      <td>...</td>\n",
       "      <td>...</td>\n",
       "      <td>...</td>\n",
       "      <td>...</td>\n",
       "      <td>...</td>\n",
       "      <td>...</td>\n",
       "      <td>...</td>\n",
       "      <td>...</td>\n",
       "      <td>...</td>\n",
       "      <td>...</td>\n",
       "      <td>...</td>\n",
       "      <td>...</td>\n",
       "      <td>...</td>\n",
       "      <td>...</td>\n",
       "    </tr>\n",
       "    <tr>\n",
       "      <th>2909</th>\n",
       "      <td>4320</td>\n",
       "      <td>1</td>\n",
       "      <td>1</td>\n",
       "      <td>1</td>\n",
       "      <td>1</td>\n",
       "      <td>0</td>\n",
       "      <td>9.0</td>\n",
       "      <td>-44179.0</td>\n",
       "      <td>4146.928254</td>\n",
       "      <td>10.0</td>\n",
       "      <td>...</td>\n",
       "      <td>NaN</td>\n",
       "      <td>0.000000</td>\n",
       "      <td>-10000.0</td>\n",
       "      <td>NaN</td>\n",
       "      <td>NaN</td>\n",
       "      <td>NaN</td>\n",
       "      <td>NaN</td>\n",
       "      <td>NaN</td>\n",
       "      <td>NaN</td>\n",
       "      <td>1.0</td>\n",
       "    </tr>\n",
       "    <tr>\n",
       "      <th>2910</th>\n",
       "      <td>4242</td>\n",
       "      <td>0</td>\n",
       "      <td>0</td>\n",
       "      <td>0</td>\n",
       "      <td>0</td>\n",
       "      <td>0</td>\n",
       "      <td>23.0</td>\n",
       "      <td>-72742.0</td>\n",
       "      <td>3087.292634</td>\n",
       "      <td>26.0</td>\n",
       "      <td>...</td>\n",
       "      <td>NaN</td>\n",
       "      <td>3948.468198</td>\n",
       "      <td>-13000.0</td>\n",
       "      <td>NaN</td>\n",
       "      <td>NaN</td>\n",
       "      <td>NaN</td>\n",
       "      <td>NaN</td>\n",
       "      <td>NaN</td>\n",
       "      <td>NaN</td>\n",
       "      <td>1.0</td>\n",
       "    </tr>\n",
       "    <tr>\n",
       "      <th>2911</th>\n",
       "      <td>4676</td>\n",
       "      <td>0</td>\n",
       "      <td>0</td>\n",
       "      <td>0</td>\n",
       "      <td>0</td>\n",
       "      <td>1</td>\n",
       "      <td>18.0</td>\n",
       "      <td>-51821.0</td>\n",
       "      <td>4353.479389</td>\n",
       "      <td>20.0</td>\n",
       "      <td>...</td>\n",
       "      <td>NaN</td>\n",
       "      <td>1649.724583</td>\n",
       "      <td>-4000.0</td>\n",
       "      <td>NaN</td>\n",
       "      <td>NaN</td>\n",
       "      <td>NaN</td>\n",
       "      <td>NaN</td>\n",
       "      <td>NaN</td>\n",
       "      <td>NaN</td>\n",
       "      <td>1.0</td>\n",
       "    </tr>\n",
       "    <tr>\n",
       "      <th>2912</th>\n",
       "      <td>4556</td>\n",
       "      <td>0</td>\n",
       "      <td>1</td>\n",
       "      <td>1</td>\n",
       "      <td>1</td>\n",
       "      <td>0</td>\n",
       "      <td>52.0</td>\n",
       "      <td>-50623.0</td>\n",
       "      <td>1448.669609</td>\n",
       "      <td>60.0</td>\n",
       "      <td>...</td>\n",
       "      <td>NaN</td>\n",
       "      <td>1419.481908</td>\n",
       "      <td>-8000.0</td>\n",
       "      <td>NaN</td>\n",
       "      <td>NaN</td>\n",
       "      <td>NaN</td>\n",
       "      <td>NaN</td>\n",
       "      <td>NaN</td>\n",
       "      <td>NaN</td>\n",
       "      <td>1.0</td>\n",
       "    </tr>\n",
       "    <tr>\n",
       "      <th>2913</th>\n",
       "      <td>4970</td>\n",
       "      <td>0</td>\n",
       "      <td>0</td>\n",
       "      <td>1</td>\n",
       "      <td>1</td>\n",
       "      <td>0</td>\n",
       "      <td>19.0</td>\n",
       "      <td>-31867.0</td>\n",
       "      <td>4324.512022</td>\n",
       "      <td>25.0</td>\n",
       "      <td>...</td>\n",
       "      <td>6222.539674</td>\n",
       "      <td>5619.899081</td>\n",
       "      <td>-17700.0</td>\n",
       "      <td>NaN</td>\n",
       "      <td>NaN</td>\n",
       "      <td>NaN</td>\n",
       "      <td>NaN</td>\n",
       "      <td>NaN</td>\n",
       "      <td>6222.539674</td>\n",
       "      <td>1.0</td>\n",
       "    </tr>\n",
       "  </tbody>\n",
       "</table>\n",
       "<p>2914 rows × 46 columns</p>\n",
       "</div>"
      ],
      "text/plain": [
       "      clnt_id  grey_goose_F0  grey_goose_F1  grey_goose_F2  grey_goose_F3  \\\n",
       "0        3700              0              1              1              1   \n",
       "1        4545              0              0              1              1   \n",
       "2        3656              0              1              0              0   \n",
       "3        4445              1              1              1              1   \n",
       "4        4112              0              1              1              0   \n",
       "...       ...            ...            ...            ...            ...   \n",
       "2909     4320              1              1              1              1   \n",
       "2910     4242              0              0              0              0   \n",
       "2911     4676              0              0              0              0   \n",
       "2912     4556              0              1              1              1   \n",
       "2913     4970              0              0              1              1   \n",
       "\n",
       "      grey_goose_F4  goose_agg_0  goose_agg_1   goose_agg_2  goose_agg_3  ...  \\\n",
       "0                 0         98.0     -87449.0   2138.696906        113.0  ...   \n",
       "1                 0         94.0    -542660.0  25775.051604        107.0  ...   \n",
       "2                 1          NaN          NaN           NaN          NaN  ...   \n",
       "3                 0         46.0    -122665.0   9808.466833         54.0  ...   \n",
       "4                 0          NaN          NaN           NaN          NaN  ...   \n",
       "...             ...          ...          ...           ...          ...  ...   \n",
       "2909              0          9.0     -44179.0   4146.928254         10.0  ...   \n",
       "2910              0         23.0     -72742.0   3087.292634         26.0  ...   \n",
       "2911              1         18.0     -51821.0   4353.479389         20.0  ...   \n",
       "2912              0         52.0     -50623.0   1448.669609         60.0  ...   \n",
       "2913              0         19.0     -31867.0   4324.512022         25.0  ...   \n",
       "\n",
       "      wild_goose_A_0  wild_goose_A_1  wild_goose_A_2  wild_goose_A_3  \\\n",
       "0        5743.754372     2362.996967         -6000.0             NaN   \n",
       "1                NaN    14289.920941        -22000.0             NaN   \n",
       "2                NaN     1530.359435         -3800.0        -10500.0   \n",
       "3         871.779789     3386.310076        -10000.0             NaN   \n",
       "4                NaN     3755.440498         -8000.0         -1111.0   \n",
       "...              ...             ...             ...             ...   \n",
       "2909             NaN        0.000000        -10000.0             NaN   \n",
       "2910             NaN     3948.468198        -13000.0             NaN   \n",
       "2911             NaN     1649.724583         -4000.0             NaN   \n",
       "2912             NaN     1419.481908         -8000.0             NaN   \n",
       "2913     6222.539674     5619.899081        -17700.0             NaN   \n",
       "\n",
       "      wild_goose_A_4  wild_goose_A_5  wild_goose_A_6  wild_goose_A_7  \\\n",
       "0                NaN             NaN             NaN             NaN   \n",
       "1           100000.0             NaN             NaN             NaN   \n",
       "2            20000.0             NaN             NaN             NaN   \n",
       "3                NaN             NaN             NaN             NaN   \n",
       "4              720.0             1.0           -39.0             NaN   \n",
       "...              ...             ...             ...             ...   \n",
       "2909             NaN             NaN             NaN             NaN   \n",
       "2910             NaN             NaN             NaN             NaN   \n",
       "2911             NaN             NaN             NaN             NaN   \n",
       "2912             NaN             NaN             NaN             NaN   \n",
       "2913             NaN             NaN             NaN             NaN   \n",
       "\n",
       "      wild_goose_A_8  wild_goose_A_9  \n",
       "0       12831.625239             5.0  \n",
       "1                NaN             6.0  \n",
       "2        9347.738140             6.0  \n",
       "3         935.269034             6.0  \n",
       "4         934.470566            16.0  \n",
       "...              ...             ...  \n",
       "2909             NaN             1.0  \n",
       "2910             NaN             1.0  \n",
       "2911             NaN             1.0  \n",
       "2912             NaN             1.0  \n",
       "2913     6222.539674             1.0  \n",
       "\n",
       "[2914 rows x 46 columns]"
      ]
     },
     "execution_count": 3,
     "metadata": {},
     "output_type": "execute_result"
    }
   ],
   "source": [
    "crm_goose=pd.read_csv('crm_goose.csv')\n",
    "crm_goose"
   ]
  },
  {
   "cell_type": "code",
   "execution_count": 4,
   "metadata": {},
   "outputs": [
    {
     "data": {
      "text/html": [
       "<div>\n",
       "<style scoped>\n",
       "    .dataframe tbody tr th:only-of-type {\n",
       "        vertical-align: middle;\n",
       "    }\n",
       "\n",
       "    .dataframe tbody tr th {\n",
       "        vertical-align: top;\n",
       "    }\n",
       "\n",
       "    .dataframe thead th {\n",
       "        text-align: right;\n",
       "    }\n",
       "</style>\n",
       "<table border=\"1\" class=\"dataframe\">\n",
       "  <thead>\n",
       "    <tr style=\"text-align: right;\">\n",
       "      <th></th>\n",
       "      <th>clnt_id</th>\n",
       "      <th>date</th>\n",
       "      <th>mcc_id</th>\n",
       "      <th>sum</th>\n",
       "    </tr>\n",
       "  </thead>\n",
       "  <tbody>\n",
       "    <tr>\n",
       "      <th>0</th>\n",
       "      <td>2013</td>\n",
       "      <td>1211</td>\n",
       "      <td>44</td>\n",
       "      <td>1000.0</td>\n",
       "    </tr>\n",
       "    <tr>\n",
       "      <th>1</th>\n",
       "      <td>2019</td>\n",
       "      <td>1211</td>\n",
       "      <td>5</td>\n",
       "      <td>-176.0</td>\n",
       "    </tr>\n",
       "    <tr>\n",
       "      <th>2</th>\n",
       "      <td>2019</td>\n",
       "      <td>1211</td>\n",
       "      <td>5</td>\n",
       "      <td>-105.0</td>\n",
       "    </tr>\n",
       "    <tr>\n",
       "      <th>3</th>\n",
       "      <td>2019</td>\n",
       "      <td>1211</td>\n",
       "      <td>33</td>\n",
       "      <td>-2000.0</td>\n",
       "    </tr>\n",
       "    <tr>\n",
       "      <th>4</th>\n",
       "      <td>2019</td>\n",
       "      <td>1211</td>\n",
       "      <td>33</td>\n",
       "      <td>-230.0</td>\n",
       "    </tr>\n",
       "    <tr>\n",
       "      <th>...</th>\n",
       "      <td>...</td>\n",
       "      <td>...</td>\n",
       "      <td>...</td>\n",
       "      <td>...</td>\n",
       "    </tr>\n",
       "    <tr>\n",
       "      <th>350412</th>\n",
       "      <td>4987</td>\n",
       "      <td>1449</td>\n",
       "      <td>43</td>\n",
       "      <td>-5000.0</td>\n",
       "    </tr>\n",
       "    <tr>\n",
       "      <th>350413</th>\n",
       "      <td>4988</td>\n",
       "      <td>1449</td>\n",
       "      <td>5</td>\n",
       "      <td>-409.0</td>\n",
       "    </tr>\n",
       "    <tr>\n",
       "      <th>350414</th>\n",
       "      <td>4989</td>\n",
       "      <td>1449</td>\n",
       "      <td>5</td>\n",
       "      <td>-299.0</td>\n",
       "    </tr>\n",
       "    <tr>\n",
       "      <th>350415</th>\n",
       "      <td>4994</td>\n",
       "      <td>1449</td>\n",
       "      <td>12</td>\n",
       "      <td>-1200.0</td>\n",
       "    </tr>\n",
       "    <tr>\n",
       "      <th>350416</th>\n",
       "      <td>4996</td>\n",
       "      <td>1449</td>\n",
       "      <td>8</td>\n",
       "      <td>-266.0</td>\n",
       "    </tr>\n",
       "  </tbody>\n",
       "</table>\n",
       "<p>350417 rows × 4 columns</p>\n",
       "</div>"
      ],
      "text/plain": [
       "        clnt_id  date  mcc_id     sum\n",
       "0          2013  1211      44  1000.0\n",
       "1          2019  1211       5  -176.0\n",
       "2          2019  1211       5  -105.0\n",
       "3          2019  1211      33 -2000.0\n",
       "4          2019  1211      33  -230.0\n",
       "...         ...   ...     ...     ...\n",
       "350412     4987  1449      43 -5000.0\n",
       "350413     4988  1449       5  -409.0\n",
       "350414     4989  1449       5  -299.0\n",
       "350415     4994  1449      12 -1200.0\n",
       "350416     4996  1449       8  -266.0\n",
       "\n",
       "[350417 rows x 4 columns]"
      ]
     },
     "execution_count": 4,
     "metadata": {},
     "output_type": "execute_result"
    }
   ],
   "source": [
    "transactions=pd.read_csv('transactions.csv')\n",
    "transactions"
   ]
  },
  {
   "cell_type": "markdown",
   "metadata": {},
   "source": [
    "Рассмотрим crm_data"
   ]
  },
  {
   "cell_type": "code",
   "execution_count": 5,
   "metadata": {},
   "outputs": [
    {
     "name": "stdout",
     "output_type": "stream",
     "text": [
      "<class 'pandas.core.frame.DataFrame'>\n",
      "RangeIndex: 2899 entries, 0 to 2898\n",
      "Data columns (total 18 columns):\n",
      " #   Column           Non-Null Count  Dtype  \n",
      "---  ------           --------------  -----  \n",
      " 0   clnt_id          2899 non-null   int64  \n",
      " 1   clnt_gender      2786 non-null   float64\n",
      " 2   clnt_age         2899 non-null   int64  \n",
      " 3   clnt_device      2801 non-null   object \n",
      " 4   clnt_device_get  2801 non-null   object \n",
      " 5   has_car          2692 non-null   float64\n",
      " 6   has_estate       2711 non-null   float64\n",
      " 7   clnt_children    2899 non-null   int64  \n",
      " 8   clnt_income      2899 non-null   int64  \n",
      " 9   clnt_pick        2899 non-null   int64  \n",
      " 10  clnt_fortune     2899 non-null   int64  \n",
      " 11  clnt_status      2899 non-null   int64  \n",
      " 12  clnt_system      2899 non-null   int64  \n",
      " 13  spend_last       2899 non-null   int64  \n",
      " 14  spend_level      2899 non-null   int64  \n",
      " 15  spend_points     2899 non-null   int64  \n",
      " 16  manager_contact  755 non-null    float64\n",
      " 17  is_premium       1538 non-null   float64\n",
      "dtypes: float64(5), int64(11), object(2)\n",
      "memory usage: 407.8+ KB\n"
     ]
    }
   ],
   "source": [
    "crm_data.info()"
   ]
  },
  {
   "cell_type": "code",
   "execution_count": 6,
   "metadata": {},
   "outputs": [
    {
     "data": {
      "text/html": [
       "<div>\n",
       "<style scoped>\n",
       "    .dataframe tbody tr th:only-of-type {\n",
       "        vertical-align: middle;\n",
       "    }\n",
       "\n",
       "    .dataframe tbody tr th {\n",
       "        vertical-align: top;\n",
       "    }\n",
       "\n",
       "    .dataframe thead th {\n",
       "        text-align: right;\n",
       "    }\n",
       "</style>\n",
       "<table border=\"1\" class=\"dataframe\">\n",
       "  <thead>\n",
       "    <tr style=\"text-align: right;\">\n",
       "      <th></th>\n",
       "      <th>clnt_id</th>\n",
       "      <th>clnt_gender</th>\n",
       "      <th>clnt_age</th>\n",
       "      <th>has_car</th>\n",
       "      <th>has_estate</th>\n",
       "      <th>clnt_children</th>\n",
       "      <th>clnt_income</th>\n",
       "      <th>clnt_pick</th>\n",
       "      <th>clnt_fortune</th>\n",
       "      <th>clnt_status</th>\n",
       "      <th>clnt_system</th>\n",
       "      <th>spend_last</th>\n",
       "      <th>spend_level</th>\n",
       "      <th>spend_points</th>\n",
       "      <th>manager_contact</th>\n",
       "      <th>is_premium</th>\n",
       "    </tr>\n",
       "  </thead>\n",
       "  <tbody>\n",
       "    <tr>\n",
       "      <th>count</th>\n",
       "      <td>2899.000000</td>\n",
       "      <td>2786.000000</td>\n",
       "      <td>2899.000000</td>\n",
       "      <td>2692.000000</td>\n",
       "      <td>2711.000000</td>\n",
       "      <td>2899.000000</td>\n",
       "      <td>2.899000e+03</td>\n",
       "      <td>2899.000000</td>\n",
       "      <td>2899.000000</td>\n",
       "      <td>2899.000000</td>\n",
       "      <td>2899.000000</td>\n",
       "      <td>2899.000000</td>\n",
       "      <td>2899.000000</td>\n",
       "      <td>2899.00000</td>\n",
       "      <td>755.000000</td>\n",
       "      <td>1538.000000</td>\n",
       "    </tr>\n",
       "    <tr>\n",
       "      <th>mean</th>\n",
       "      <td>3501.526388</td>\n",
       "      <td>0.502513</td>\n",
       "      <td>104.801311</td>\n",
       "      <td>0.503715</td>\n",
       "      <td>0.148654</td>\n",
       "      <td>0.332873</td>\n",
       "      <td>8.736288e+05</td>\n",
       "      <td>4.456019</td>\n",
       "      <td>19.514660</td>\n",
       "      <td>9.270093</td>\n",
       "      <td>1.223870</td>\n",
       "      <td>1427.168679</td>\n",
       "      <td>839.284926</td>\n",
       "      <td>24.61573</td>\n",
       "      <td>7215.978808</td>\n",
       "      <td>0.469441</td>\n",
       "    </tr>\n",
       "    <tr>\n",
       "      <th>std</th>\n",
       "      <td>865.813819</td>\n",
       "      <td>0.500083</td>\n",
       "      <td>376.473500</td>\n",
       "      <td>0.500079</td>\n",
       "      <td>0.355812</td>\n",
       "      <td>0.579074</td>\n",
       "      <td>4.225547e+06</td>\n",
       "      <td>2.879040</td>\n",
       "      <td>5.048834</td>\n",
       "      <td>6.429195</td>\n",
       "      <td>0.469096</td>\n",
       "      <td>6.500000</td>\n",
       "      <td>2716.802823</td>\n",
       "      <td>65.01844</td>\n",
       "      <td>33.099153</td>\n",
       "      <td>0.499228</td>\n",
       "    </tr>\n",
       "    <tr>\n",
       "      <th>min</th>\n",
       "      <td>2000.000000</td>\n",
       "      <td>0.000000</td>\n",
       "      <td>19.000000</td>\n",
       "      <td>0.000000</td>\n",
       "      <td>0.000000</td>\n",
       "      <td>0.000000</td>\n",
       "      <td>0.000000e+00</td>\n",
       "      <td>0.000000</td>\n",
       "      <td>5.000000</td>\n",
       "      <td>0.000000</td>\n",
       "      <td>1.000000</td>\n",
       "      <td>1295.000000</td>\n",
       "      <td>0.000000</td>\n",
       "      <td>0.00000</td>\n",
       "      <td>7122.000000</td>\n",
       "      <td>0.000000</td>\n",
       "    </tr>\n",
       "    <tr>\n",
       "      <th>25%</th>\n",
       "      <td>2748.500000</td>\n",
       "      <td>0.000000</td>\n",
       "      <td>23.000000</td>\n",
       "      <td>0.000000</td>\n",
       "      <td>0.000000</td>\n",
       "      <td>0.000000</td>\n",
       "      <td>1.000000e+05</td>\n",
       "      <td>2.000000</td>\n",
       "      <td>16.000000</td>\n",
       "      <td>4.000000</td>\n",
       "      <td>1.000000</td>\n",
       "      <td>1428.000000</td>\n",
       "      <td>200.000000</td>\n",
       "      <td>0.00000</td>\n",
       "      <td>7227.000000</td>\n",
       "      <td>0.000000</td>\n",
       "    </tr>\n",
       "    <tr>\n",
       "      <th>50%</th>\n",
       "      <td>3502.000000</td>\n",
       "      <td>1.000000</td>\n",
       "      <td>26.000000</td>\n",
       "      <td>1.000000</td>\n",
       "      <td>0.000000</td>\n",
       "      <td>0.000000</td>\n",
       "      <td>2.000000e+05</td>\n",
       "      <td>4.000000</td>\n",
       "      <td>20.000000</td>\n",
       "      <td>9.000000</td>\n",
       "      <td>1.000000</td>\n",
       "      <td>1428.000000</td>\n",
       "      <td>427.000000</td>\n",
       "      <td>0.00000</td>\n",
       "      <td>7227.000000</td>\n",
       "      <td>0.000000</td>\n",
       "    </tr>\n",
       "    <tr>\n",
       "      <th>75%</th>\n",
       "      <td>4249.500000</td>\n",
       "      <td>1.000000</td>\n",
       "      <td>31.000000</td>\n",
       "      <td>1.000000</td>\n",
       "      <td>0.000000</td>\n",
       "      <td>1.000000</td>\n",
       "      <td>3.000000e+05</td>\n",
       "      <td>7.000000</td>\n",
       "      <td>23.000000</td>\n",
       "      <td>15.000000</td>\n",
       "      <td>1.000000</td>\n",
       "      <td>1428.000000</td>\n",
       "      <td>980.000000</td>\n",
       "      <td>0.00000</td>\n",
       "      <td>7227.000000</td>\n",
       "      <td>1.000000</td>\n",
       "    </tr>\n",
       "    <tr>\n",
       "      <th>max</th>\n",
       "      <td>4999.000000</td>\n",
       "      <td>1.000000</td>\n",
       "      <td>2001.000000</td>\n",
       "      <td>1.000000</td>\n",
       "      <td>1.000000</td>\n",
       "      <td>4.000000</td>\n",
       "      <td>3.900000e+07</td>\n",
       "      <td>9.000000</td>\n",
       "      <td>34.000000</td>\n",
       "      <td>31.000000</td>\n",
       "      <td>3.000000</td>\n",
       "      <td>1428.000000</td>\n",
       "      <td>120000.000000</td>\n",
       "      <td>594.00000</td>\n",
       "      <td>7248.000000</td>\n",
       "      <td>1.000000</td>\n",
       "    </tr>\n",
       "  </tbody>\n",
       "</table>\n",
       "</div>"
      ],
      "text/plain": [
       "           clnt_id  clnt_gender     clnt_age      has_car   has_estate  \\\n",
       "count  2899.000000  2786.000000  2899.000000  2692.000000  2711.000000   \n",
       "mean   3501.526388     0.502513   104.801311     0.503715     0.148654   \n",
       "std     865.813819     0.500083   376.473500     0.500079     0.355812   \n",
       "min    2000.000000     0.000000    19.000000     0.000000     0.000000   \n",
       "25%    2748.500000     0.000000    23.000000     0.000000     0.000000   \n",
       "50%    3502.000000     1.000000    26.000000     1.000000     0.000000   \n",
       "75%    4249.500000     1.000000    31.000000     1.000000     0.000000   \n",
       "max    4999.000000     1.000000  2001.000000     1.000000     1.000000   \n",
       "\n",
       "       clnt_children   clnt_income    clnt_pick  clnt_fortune  clnt_status  \\\n",
       "count    2899.000000  2.899000e+03  2899.000000   2899.000000  2899.000000   \n",
       "mean        0.332873  8.736288e+05     4.456019     19.514660     9.270093   \n",
       "std         0.579074  4.225547e+06     2.879040      5.048834     6.429195   \n",
       "min         0.000000  0.000000e+00     0.000000      5.000000     0.000000   \n",
       "25%         0.000000  1.000000e+05     2.000000     16.000000     4.000000   \n",
       "50%         0.000000  2.000000e+05     4.000000     20.000000     9.000000   \n",
       "75%         1.000000  3.000000e+05     7.000000     23.000000    15.000000   \n",
       "max         4.000000  3.900000e+07     9.000000     34.000000    31.000000   \n",
       "\n",
       "       clnt_system   spend_last    spend_level  spend_points  manager_contact  \\\n",
       "count  2899.000000  2899.000000    2899.000000    2899.00000       755.000000   \n",
       "mean      1.223870  1427.168679     839.284926      24.61573      7215.978808   \n",
       "std       0.469096     6.500000    2716.802823      65.01844        33.099153   \n",
       "min       1.000000  1295.000000       0.000000       0.00000      7122.000000   \n",
       "25%       1.000000  1428.000000     200.000000       0.00000      7227.000000   \n",
       "50%       1.000000  1428.000000     427.000000       0.00000      7227.000000   \n",
       "75%       1.000000  1428.000000     980.000000       0.00000      7227.000000   \n",
       "max       3.000000  1428.000000  120000.000000     594.00000      7248.000000   \n",
       "\n",
       "        is_premium  \n",
       "count  1538.000000  \n",
       "mean      0.469441  \n",
       "std       0.499228  \n",
       "min       0.000000  \n",
       "25%       0.000000  \n",
       "50%       0.000000  \n",
       "75%       1.000000  \n",
       "max       1.000000  "
      ]
     },
     "execution_count": 6,
     "metadata": {},
     "output_type": "execute_result"
    }
   ],
   "source": [
    "crm_data.describe()"
   ]
  },
  {
   "cell_type": "markdown",
   "metadata": {},
   "source": [
    "Есть выбросы по возрасту, 2001 явно кто-то перепутал дату рождения и возраст, плюс среднее превышает в 3 раза 75% квартиль. У 75+ нету недвижимости. Среднее по доходу превышает 75% квартиль. Spend last очень странные значения, spend_level надо изучить вместе со spend_points и manager_contact."
   ]
  },
  {
   "cell_type": "code",
   "execution_count": 7,
   "metadata": {},
   "outputs": [
    {
     "data": {
      "text/plain": [
       "<AxesSubplot:>"
      ]
     },
     "execution_count": 7,
     "metadata": {},
     "output_type": "execute_result"
    },
    {
     "data": {
      "image/png": "[encoded data removed]",
      "text/plain": [
       "<Figure size 432x288 with 1 Axes>"
      ]
     },
     "metadata": {
      "needs_background": "light"
     },
     "output_type": "display_data"
    }
   ],
   "source": [
    "crm_data.clnt_age.hist()"
   ]
  },
  {
   "cell_type": "code",
   "execution_count": 8,
   "metadata": {},
   "outputs": [
    {
     "data": {
      "text/plain": [
       "<AxesSubplot:>"
      ]
     },
     "execution_count": 8,
     "metadata": {},
     "output_type": "execute_result"
    },
    {
     "data": {
      "image/png": "[encoded data removed]",
      "text/plain": [
       "<Figure size 432x288 with 1 Axes>"
      ]
     },
     "metadata": {
      "needs_background": "light"
     },
     "output_type": "display_data"
    }
   ],
   "source": [
    "crm_data.loc[crm_data['clnt_age']>1700].clnt_age.hist()"
   ]
  },
  {
   "cell_type": "code",
   "execution_count": 9,
   "metadata": {},
   "outputs": [
    {
     "data": {
      "image/png": "[encoded data removed]",
      "text/plain": [
       "<Figure size 432x288 with 1 Axes>"
      ]
     },
     "metadata": {
      "needs_background": "light"
     },
     "output_type": "display_data"
    }
   ],
   "source": [
    "sns.histplot(crm_data.loc[crm_data['clnt_age']>1700].clnt_age, kde=True,bins=70)\n",
    "plt.show()"
   ]
  },
  {
   "cell_type": "code",
   "execution_count": 10,
   "metadata": {},
   "outputs": [
    {
     "data": {
      "text/plain": [
       "30"
      ]
     },
     "execution_count": 10,
     "metadata": {},
     "output_type": "execute_result"
    }
   ],
   "source": [
    "len(crm_data.loc[crm_data['clnt_age']==1900])"
   ]
  },
  {
   "cell_type": "markdown",
   "metadata": {},
   "source": [
    "1900 заменили как нет данных, надо будет заменить их. С остальными пока не знаю что делать."
   ]
  },
  {
   "cell_type": "code",
   "execution_count": 11,
   "metadata": {},
   "outputs": [
    {
     "data": {
      "image/png": "[encoded data removed]",
      "text/plain": [
       "<Figure size 432x288 with 1 Axes>"
      ]
     },
     "metadata": {
      "needs_background": "light"
     },
     "output_type": "display_data"
    }
   ],
   "source": [
    "sns.histplot(crm_data.loc[crm_data['clnt_age']<250].clnt_age, kde=True,bins=85)\n",
    "plt.show()"
   ]
  },
  {
   "cell_type": "code",
   "execution_count": 12,
   "metadata": {},
   "outputs": [
    {
     "data": {
      "text/plain": [
       "83"
      ]
     },
     "execution_count": 12,
     "metadata": {},
     "output_type": "execute_result"
    }
   ],
   "source": [
    "max(crm_data.loc[crm_data['clnt_age']<250].clnt_age)"
   ]
  },
  {
   "cell_type": "code",
   "execution_count": 13,
   "metadata": {},
   "outputs": [
    {
     "data": {
      "text/plain": [
       "1902"
      ]
     },
     "execution_count": 13,
     "metadata": {},
     "output_type": "execute_result"
    }
   ],
   "source": [
    "min(crm_data.loc[crm_data['clnt_age']>1900].clnt_age)"
   ]
  },
  {
   "cell_type": "markdown",
   "metadata": {},
   "source": [
    "Если у кого-то стоит год 1902, то ему уже 118 лет, что вряд ли вероятно, ведь максимум по обычным годам равен лишь 83, плюс скорее всего это будет сильно влиять на алгоритм, поэтому стоит их поставить в Null"
   ]
  },
  {
   "cell_type": "code",
   "execution_count": 14,
   "metadata": {},
   "outputs": [
    {
     "data": {
      "image/png": "[encoded data removed]",
      "text/plain": [
       "<Figure size 432x288 with 1 Axes>"
      ]
     },
     "metadata": {
      "needs_background": "light"
     },
     "output_type": "display_data"
    }
   ],
   "source": [
    "sns.histplot(crm_data.loc[crm_data['clnt_age']>1930].clnt_age,bins=40)\n",
    "plt.show()"
   ]
  },
  {
   "cell_type": "code",
   "execution_count": 15,
   "metadata": {},
   "outputs": [
    {
     "data": {
      "text/plain": [
       "67"
      ]
     },
     "execution_count": 15,
     "metadata": {},
     "output_type": "execute_result"
    }
   ],
   "source": [
    "len(crm_data.loc[crm_data['clnt_age']>1930].clnt_age)"
   ]
  },
  {
   "cell_type": "code",
   "execution_count": 16,
   "metadata": {},
   "outputs": [
    {
     "data": {
      "text/plain": [
       "87"
      ]
     },
     "execution_count": 16,
     "metadata": {},
     "output_type": "execute_result"
    }
   ],
   "source": [
    "len(crm_data.loc[crm_data['clnt_age']>1900].clnt_age)"
   ]
  },
  {
   "cell_type": "markdown",
   "metadata": {},
   "source": [
    "20 значений с высокой вероятностью ошибки, лучше их будет тоже заменить на Null"
   ]
  },
  {
   "cell_type": "code",
   "execution_count": 17,
   "metadata": {},
   "outputs": [],
   "source": [
    "crm_data.loc[(crm_data['clnt_age']>=1900) & (crm_data['clnt_age']<1940),'clnt_age']=np.nan"
   ]
  },
  {
   "cell_type": "code",
   "execution_count": 18,
   "metadata": {},
   "outputs": [],
   "source": [
    "crm_data.loc[crm_data['clnt_age']>1900,'clnt_age']=2020-crm_data.loc[crm_data['clnt_age']>1900,'clnt_age']"
   ]
  },
  {
   "cell_type": "code",
   "execution_count": 19,
   "metadata": {},
   "outputs": [
    {
     "data": {
      "text/plain": [
       "<AxesSubplot:xlabel='clnt_age', ylabel='Count'>"
      ]
     },
     "execution_count": 19,
     "metadata": {},
     "output_type": "execute_result"
    },
    {
     "data": {
      "image/png": "[encoded data removed]",
      "text/plain": [
       "<Figure size 432x288 with 1 Axes>"
      ]
     },
     "metadata": {
      "needs_background": "light"
     },
     "output_type": "display_data"
    }
   ],
   "source": [
    "sns.histplot(crm_data.clnt_age)"
   ]
  },
  {
   "cell_type": "code",
   "execution_count": 25,
   "metadata": {},
   "outputs": [
    {
     "data": {
      "text/plain": [
       "<AxesSubplot:xlabel='clnt_age', ylabel='Count'>"
      ]
     },
     "execution_count": 25,
     "metadata": {},
     "output_type": "execute_result"
    },
    {
     "data": {
      "image/png": "[encoded data removed]",
      "text/plain": [
       "<Figure size 432x288 with 1 Axes>"
      ]
     },
     "metadata": {
      "needs_background": "light"
     },
     "output_type": "display_data"
    }
   ],
   "source": [
    "sns.histplot(np.log(crm_data.clnt_age),bins=60)"
   ]
  },
  {
   "cell_type": "markdown",
   "metadata": {},
   "source": [
    "Распределение похоже на нормальное, но с длинным хвостом справа, поэтому лучше будет прологарифмировать и сохранить как столбец."
   ]
  },
  {
   "cell_type": "code",
   "execution_count": 26,
   "metadata": {},
   "outputs": [],
   "source": [
    "crm_data['log_age']=np.log(crm_data.clnt_age)"
   ]
  },
  {
   "cell_type": "code",
   "execution_count": 29,
   "metadata": {},
   "outputs": [
    {
     "data": {
      "text/plain": [
       "<AxesSubplot:>"
      ]
     },
     "execution_count": 29,
     "metadata": {},
     "output_type": "execute_result"
    },
    {
     "data": {
      "image/png": "[encoded data removed]",
      "text/plain": [
       "<Figure size 432x288 with 1 Axes>"
      ]
     },
     "metadata": {
      "needs_background": "light"
     },
     "output_type": "display_data"
    }
   ],
   "source": [
    "crm_data.clnt_gender.hist()"
   ]
  },
  {
   "cell_type": "code",
   "execution_count": 30,
   "metadata": {},
   "outputs": [
    {
     "data": {
      "text/plain": [
       "array(['sO@*%lun08', ')!%OA9qpZP', 'IgSHlRCsd#', 'SSbZb5Hpun',\n",
       "       'N)Eb*EJXD4', '_)nLk%PngJ', 'vJ#XVpcNy6', 'pi&NYvrpiu',\n",
       "       'NMZa(_ZevK', 'tZet+bbIC_', 'T+BA%psI8c', 'ghOfqAzHdO',\n",
       "       '+qOE#oK7Bu', 'm1o4W&JCvy', nan, 'Y1+5*e_(9D', 'rcJgTotoi8',\n",
       "       'KnasAzg4Vf', 'tyOjI2@FcB', 'A&D5V21q5$', '$pffcP&pkj',\n",
       "       '^+3(I8C%&b', 'Nljw_d_PZV', 'rreI!9jkPq', 'WUn^8@yRRZ',\n",
       "       'm4Onx$jC_+', '+d)U@Ozdq@', 'R6B&KN5OOi', 'K*)FJ)edcZ',\n",
       "       '&qrVc7H^jE', '4(*Kax8&YS', '@bM12Da%6&', 'cN50%TMttL',\n",
       "       '4!5PbGR!VN', 'W@&0muZANj', '6J4&mF&#tl', 'UaSer)d$CZ',\n",
       "       'y3FVI6dzfi', 'gTkSzDk+OA', 'yJrFzC0McE', 'nR4%tYIRXv',\n",
       "       'AWrJqks-tw', '!Zusbz4GJ@', 'sUse$3S4Z%', '4aQwCtPL4(',\n",
       "       'H#s_lw9F_R', 'exk&etBeLF', 'Bg01S^%Jfy', 'jso!fQ*Q7x',\n",
       "       'py_Z4O$Gg+', '_cbxM0a-Yi', '-(Tu#R_@lh', 'zzhjn9-Ew-',\n",
       "       'xAZj4fx97F', 'vB5-)b$ZR+', '_)nAgN9)Gz', 'fXm+BayjVA',\n",
       "       'YBjx-RAB9!', '&UiIgr6b05', 'C_QpEX%9CB', '(O@$+)2-Iq'],\n",
       "      dtype=object)"
      ]
     },
     "execution_count": 30,
     "metadata": {},
     "output_type": "execute_result"
    }
   ],
   "source": [
    "crm_data.clnt_device.unique()"
   ]
  },
  {
   "cell_type": "markdown",
   "metadata": {},
   "source": [
    "С учетом их примерно одинакового непонятного сложения, лучше будет просто перевести с помощью labelencoder"
   ]
  },
  {
   "cell_type": "code",
   "execution_count": 31,
   "metadata": {},
   "outputs": [],
   "source": [
    "from sklearn.preprocessing import LabelEncoder\n",
    "le = LabelEncoder()"
   ]
  },
  {
   "cell_type": "code",
   "execution_count": 37,
   "metadata": {},
   "outputs": [
    {
     "ename": "TypeError",
     "evalue": "Encoders require their input to be uniformly strings or numbers. Got ['float', 'str']",
     "output_type": "error",
     "traceback": [
      "\u001b[1;31m---------------------------------------------------------------------------\u001b[0m",
      "\u001b[1;31mTypeError\u001b[0m                                 Traceback (most recent call last)",
      "\u001b[1;32mc:\\users\\vikto\\appdata\\local\\programs\\python\\python37\\lib\\site-packages\\sklearn\\preprocessing\\_label.py\u001b[0m in \u001b[0;36m_encode\u001b[1;34m(values, uniques, encode, check_unknown)\u001b[0m\n\u001b[0;32m    112\u001b[0m         \u001b[1;32mtry\u001b[0m\u001b[1;33m:\u001b[0m\u001b[1;33m\u001b[0m\u001b[1;33m\u001b[0m\u001b[0m\n\u001b[1;32m--> 113\u001b[1;33m             \u001b[0mres\u001b[0m \u001b[1;33m=\u001b[0m \u001b[0m_encode_python\u001b[0m\u001b[1;33m(\u001b[0m\u001b[0mvalues\u001b[0m\u001b[1;33m,\u001b[0m \u001b[0muniques\u001b[0m\u001b[1;33m,\u001b[0m \u001b[0mencode\u001b[0m\u001b[1;33m)\u001b[0m\u001b[1;33m\u001b[0m\u001b[1;33m\u001b[0m\u001b[0m\n\u001b[0m\u001b[0;32m    114\u001b[0m         \u001b[1;32mexcept\u001b[0m \u001b[0mTypeError\u001b[0m\u001b[1;33m:\u001b[0m\u001b[1;33m\u001b[0m\u001b[1;33m\u001b[0m\u001b[0m\n",
      "\u001b[1;32mc:\\users\\vikto\\appdata\\local\\programs\\python\\python37\\lib\\site-packages\\sklearn\\preprocessing\\_label.py\u001b[0m in \u001b[0;36m_encode_python\u001b[1;34m(values, uniques, encode)\u001b[0m\n\u001b[0;32m     60\u001b[0m     \u001b[1;32mif\u001b[0m \u001b[0muniques\u001b[0m \u001b[1;32mis\u001b[0m \u001b[1;32mNone\u001b[0m\u001b[1;33m:\u001b[0m\u001b[1;33m\u001b[0m\u001b[1;33m\u001b[0m\u001b[0m\n\u001b[1;32m---> 61\u001b[1;33m         \u001b[0muniques\u001b[0m \u001b[1;33m=\u001b[0m \u001b[0msorted\u001b[0m\u001b[1;33m(\u001b[0m\u001b[0mset\u001b[0m\u001b[1;33m(\u001b[0m\u001b[0mvalues\u001b[0m\u001b[1;33m)\u001b[0m\u001b[1;33m)\u001b[0m\u001b[1;33m\u001b[0m\u001b[1;33m\u001b[0m\u001b[0m\n\u001b[0m\u001b[0;32m     62\u001b[0m         \u001b[0muniques\u001b[0m \u001b[1;33m=\u001b[0m \u001b[0mnp\u001b[0m\u001b[1;33m.\u001b[0m\u001b[0marray\u001b[0m\u001b[1;33m(\u001b[0m\u001b[0muniques\u001b[0m\u001b[1;33m,\u001b[0m \u001b[0mdtype\u001b[0m\u001b[1;33m=\u001b[0m\u001b[0mvalues\u001b[0m\u001b[1;33m.\u001b[0m\u001b[0mdtype\u001b[0m\u001b[1;33m)\u001b[0m\u001b[1;33m\u001b[0m\u001b[1;33m\u001b[0m\u001b[0m\n",
      "\u001b[1;31mTypeError\u001b[0m: '<' not supported between instances of 'str' and 'float'",
      "\nDuring handling of the above exception, another exception occurred:\n",
      "\u001b[1;31mTypeError\u001b[0m                                 Traceback (most recent call last)",
      "\u001b[1;32m<ipython-input-37-2e69f1c47b80>\u001b[0m in \u001b[0;36m<module>\u001b[1;34m\u001b[0m\n\u001b[1;32m----> 1\u001b[1;33m \u001b[0mcrm_data\u001b[0m\u001b[1;33m[\u001b[0m\u001b[1;34m'le_device'\u001b[0m\u001b[1;33m]\u001b[0m\u001b[1;33m=\u001b[0m\u001b[0mle\u001b[0m\u001b[1;33m.\u001b[0m\u001b[0mfit_transform\u001b[0m\u001b[1;33m(\u001b[0m\u001b[0mcrm_data\u001b[0m\u001b[1;33m.\u001b[0m\u001b[0mclnt_device\u001b[0m\u001b[1;33m)\u001b[0m\u001b[1;33m\u001b[0m\u001b[1;33m\u001b[0m\u001b[0m\n\u001b[0m",
      "\u001b[1;32mc:\\users\\vikto\\appdata\\local\\programs\\python\\python37\\lib\\site-packages\\sklearn\\preprocessing\\_label.py\u001b[0m in \u001b[0;36mfit_transform\u001b[1;34m(self, y)\u001b[0m\n\u001b[0;32m    254\u001b[0m         \"\"\"\n\u001b[0;32m    255\u001b[0m         \u001b[0my\u001b[0m \u001b[1;33m=\u001b[0m \u001b[0mcolumn_or_1d\u001b[0m\u001b[1;33m(\u001b[0m\u001b[0my\u001b[0m\u001b[1;33m,\u001b[0m \u001b[0mwarn\u001b[0m\u001b[1;33m=\u001b[0m\u001b[1;32mTrue\u001b[0m\u001b[1;33m)\u001b[0m\u001b[1;33m\u001b[0m\u001b[1;33m\u001b[0m\u001b[0m\n\u001b[1;32m--> 256\u001b[1;33m         \u001b[0mself\u001b[0m\u001b[1;33m.\u001b[0m\u001b[0mclasses_\u001b[0m\u001b[1;33m,\u001b[0m \u001b[0my\u001b[0m \u001b[1;33m=\u001b[0m \u001b[0m_encode\u001b[0m\u001b[1;33m(\u001b[0m\u001b[0my\u001b[0m\u001b[1;33m,\u001b[0m \u001b[0mencode\u001b[0m\u001b[1;33m=\u001b[0m\u001b[1;32mTrue\u001b[0m\u001b[1;33m)\u001b[0m\u001b[1;33m\u001b[0m\u001b[1;33m\u001b[0m\u001b[0m\n\u001b[0m\u001b[0;32m    257\u001b[0m         \u001b[1;32mreturn\u001b[0m \u001b[0my\u001b[0m\u001b[1;33m\u001b[0m\u001b[1;33m\u001b[0m\u001b[0m\n\u001b[0;32m    258\u001b[0m \u001b[1;33m\u001b[0m\u001b[0m\n",
      "\u001b[1;32mc:\\users\\vikto\\appdata\\local\\programs\\python\\python37\\lib\\site-packages\\sklearn\\preprocessing\\_label.py\u001b[0m in \u001b[0;36m_encode\u001b[1;34m(values, uniques, encode, check_unknown)\u001b[0m\n\u001b[0;32m    115\u001b[0m             types = sorted(t.__qualname__\n\u001b[0;32m    116\u001b[0m                            for t in set(type(v) for v in values))\n\u001b[1;32m--> 117\u001b[1;33m             raise TypeError(\"Encoders require their input to be uniformly \"\n\u001b[0m\u001b[0;32m    118\u001b[0m                             f\"strings or numbers. Got {types}\")\n\u001b[0;32m    119\u001b[0m         \u001b[1;32mreturn\u001b[0m \u001b[0mres\u001b[0m\u001b[1;33m\u001b[0m\u001b[1;33m\u001b[0m\u001b[0m\n",
      "\u001b[1;31mTypeError\u001b[0m: Encoders require their input to be uniformly strings or numbers. Got ['float', 'str']"
     ]
    }
   ],
   "source": [
    "crm_data['le_device']=le.fit_transform(crm_data.clnt_device)"
   ]
  },
  {
   "cell_type": "markdown",
   "metadata": {},
   "source": [
    "Окей, значит надо перевести все в str"
   ]
  },
  {
   "cell_type": "code",
   "execution_count": 38,
   "metadata": {},
   "outputs": [],
   "source": [
    "crm_data['le_device']=le.fit_transform(crm_data.clnt_device.astype(str))"
   ]
  },
  {
   "cell_type": "code",
   "execution_count": 40,
   "metadata": {},
   "outputs": [
    {
     "data": {
      "text/plain": [
       "<AxesSubplot:>"
      ]
     },
     "execution_count": 40,
     "metadata": {},
     "output_type": "execute_result"
    },
    {
     "data": {
      "image/png": "[encoded data removed]",
      "text/plain": [
       "<Figure size 432x288 with 1 Axes>"
      ]
     },
     "metadata": {
      "needs_background": "light"
     },
     "output_type": "display_data"
    }
   ],
   "source": [
    "crm_data.le_device.hist()"
   ]
  },
  {
   "cell_type": "markdown",
   "metadata": {},
   "source": [
    "Распределено примерно равномерно"
   ]
  },
  {
   "cell_type": "code",
   "execution_count": 41,
   "metadata": {},
   "outputs": [
    {
     "data": {
      "text/plain": [
       "array(['vgIXi0LgoZHQ71Mmekm1', 'lmE6l7DelsqZNYgxcsAZ',\n",
       "       'yhUtC1GSVpWWNPCI9EYo', 'TM4ptl78Lwzhng7PAY4G',\n",
       "       'EAE3RcxIwQfn3oIbcXZN', 'RD8BUJjq4e1qknku300N',\n",
       "       'yHrDLKQ3V9TnmM5OZdNu', 'Xlh4OkBJvFkCElKYmKNQ',\n",
       "       'liZPCZF6tFgGEt1bTPHs', 'noI8N7cvgfYPRswJVqSt',\n",
       "       '4tn4ahgRkWMzsSCk5tnp', 'zY5grwt3TK2vXDNOXNtQ',\n",
       "       'xwVatkCS227il3xATBFE', 'Jw5OmlNzw1TWSySS8Kz6',\n",
       "       'Wlb9y8b5EujLakHZQZ0D', 'SYy2B7hNPyV792L5eCqu',\n",
       "       'RKcjWOC0kWGyGsDi325Q', 'duj1wNy6PQygCaQYt6ze',\n",
       "       'apqNDBwDXCytWs6F1c29', 'a25dNMsZKjRHnhp7WJkD',\n",
       "       'zPz024CQIonY5H9jYIve', 'vtFJx028ksA5j1r4Gevb',\n",
       "       '6153L0t8XPPwrqlaHrPc', 'U5K7lQEiD5wBoxQfY6Tz',\n",
       "       'qhf9RhOTHsX15m3UzA94', 'JZ0KLFgkXP3A9WMANoni',\n",
       "       'nrQMSSqhv27ILkeKQI8X', 'NJRRltMExbMcFROsvdGD',\n",
       "       'ZRg0ZwLzu2FL5jted9eX', 'AEvBGGIi1TYMZpsS5CoK',\n",
       "       'DAHGwLtn4JPcATVSWFHk', 'u6H8Em4pxxagN7S8TAR5',\n",
       "       'DLtGblMWq46ducD1uhFp', 'C6o0rm2Kne9WJe6IrQhX',\n",
       "       'jEt2cvpo9kv8BjV7S6ay', 'Jsdxxb8QCqG5031DdLI5',\n",
       "       'hpPCHpM0tO0AhtuGoypP', 'C55OgTGl37GGqJVFyeYQ',\n",
       "       'Y7jY0XTUnViV2gtx79xG', 'bDs6Xe2iNTT7AkzC2PVT',\n",
       "       'T9HRiTpDzJk0xkhhMyUc', 'rwanDIFAePDVZahjv9Cg',\n",
       "       'oy7aZVGbnl73VxOs01nQ', nan, '0AjfBYGThrZ4OWmX9WCv',\n",
       "       'JZxqPj2lkI5WfrXtLR8h', 'KO2noblmhQcxUA5YXty0',\n",
       "       '2gvyGkNTz6z7lM5GuVPN', 'nBFBZ7ZONkLc6OswKgos',\n",
       "       'YEKQrtjpUQRrhKaT6YRU', 'DUPFnmZiv2kqwJJgYK0p',\n",
       "       'pup1FL83CRpbaMg9C534', 'i9jqpetwkZDeguJpCWVc',\n",
       "       'NW1ON108010azsYbnTXl', '4NcOXE1hJebOzWNFGD3a',\n",
       "       'AACwntwTHc6JRW83FHAG', 'xr1OdesOO44Ufzhxxw59',\n",
       "       'AtzkQytHAijh7cklGMUl', '4CdUr2g9UqwFuqdVaWdO',\n",
       "       'b2ZbgyfuDZYdwsGZq0N9', 'DB4FszVdkc5Qli9kSmrp'], dtype=object)"
      ]
     },
     "execution_count": 41,
     "metadata": {},
     "output_type": "execute_result"
    }
   ],
   "source": [
    "crm_data.clnt_device_get.unique()"
   ]
  },
  {
   "cell_type": "code",
   "execution_count": 42,
   "metadata": {},
   "outputs": [],
   "source": [
    "crm_data['le_device_get']=le.fit_transform(crm_data.clnt_device_get.astype(str))"
   ]
  },
  {
   "cell_type": "code",
   "execution_count": 43,
   "metadata": {},
   "outputs": [
    {
     "data": {
      "text/plain": [
       "<AxesSubplot:>"
      ]
     },
     "execution_count": 43,
     "metadata": {},
     "output_type": "execute_result"
    },
    {
     "data": {
      "image/png": "[encoded data removed]",
      "text/plain": [
       "<Figure size 432x288 with 1 Axes>"
      ]
     },
     "metadata": {
      "needs_background": "light"
     },
     "output_type": "display_data"
    }
   ],
   "source": [
    "crm_data.le_device_get.hist()"
   ]
  },
  {
   "cell_type": "markdown",
   "metadata": {},
   "source": [
    "То же самое"
   ]
  },
  {
   "cell_type": "code",
   "execution_count": 44,
   "metadata": {},
   "outputs": [
    {
     "data": {
      "text/plain": [
       "<AxesSubplot:>"
      ]
     },
     "execution_count": 44,
     "metadata": {},
     "output_type": "execute_result"
    },
    {
     "data": {
      "image/png": "[encoded data removed]",
      "text/plain": [
       "<Figure size 432x288 with 1 Axes>"
      ]
     },
     "metadata": {
      "needs_background": "light"
     },
     "output_type": "display_data"
    }
   ],
   "source": [
    "crm_data.has_car.hist()"
   ]
  },
  {
   "cell_type": "markdown",
   "metadata": {},
   "source": [
    "has_estate       2711 non-null   float64\n",
    "\n",
    " 7   clnt_children    2899 non-null   int64  \n",
    " \n",
    " 8   clnt_income      2899 non-null   int64  \n",
    " \n",
    " 9   clnt_pick        2899 non-null   int64  \n",
    " \n",
    " 10  clnt_fortune     2899 non-null   int64  \n",
    " \n",
    " 11  clnt_status      2899 non-null   int64  \n",
    " \n",
    " 12  clnt_system      2899 non-null   int64  \n",
    " \n",
    " 13  spend_last       2899 non-null   int64  \n",
    " \n",
    " 14  spend_level      2899 non-null   int64  \n",
    " \n",
    " 15  spend_points     2899 non-null   int64  \n",
    " \n",
    " 16  manager_contact  755 non-null    float64\n",
    " \n",
    " 17  is_premium       1538 non-null   float64"
   ]
  },
  {
   "cell_type": "code",
   "execution_count": 45,
   "metadata": {},
   "outputs": [
    {
     "data": {
      "text/plain": [
       "<AxesSubplot:>"
      ]
     },
     "execution_count": 45,
     "metadata": {},
     "output_type": "execute_result"
    },
    {
     "data": {
      "image/png": "[encoded data removed]",
      "text/plain": [
       "<Figure size 432x288 with 1 Axes>"
      ]
     },
     "metadata": {
      "needs_background": "light"
     },
     "output_type": "display_data"
    }
   ],
   "source": [
    "crm_data.has_estate.hist()"
   ]
  },
  {
   "cell_type": "markdown",
   "metadata": {},
   "source": [
    "Вот тут резкий перекос"
   ]
  },
  {
   "cell_type": "code",
   "execution_count": 46,
   "metadata": {},
   "outputs": [
    {
     "data": {
      "text/plain": [
       "<AxesSubplot:>"
      ]
     },
     "execution_count": 46,
     "metadata": {},
     "output_type": "execute_result"
    },
    {
     "data": {
      "image/png": "[encoded data removed]",
      "text/plain": [
       "<Figure size 432x288 with 1 Axes>"
      ]
     },
     "metadata": {
      "needs_background": "light"
     },
     "output_type": "display_data"
    }
   ],
   "source": [
    "crm_data.clnt_children.hist()"
   ]
  },
  {
   "cell_type": "markdown",
   "metadata": {},
   "source": [
    "Логарифмическое распределение получается. Окей."
   ]
  },
  {
   "cell_type": "markdown",
   "metadata": {},
   "source": [
    "Интересная странность в том, что владение недвижимостью указали не все, в то же время про детей рассказали все, пока не знаю зачем, но интересно."
   ]
  },
  {
   "cell_type": "code",
   "execution_count": 47,
   "metadata": {},
   "outputs": [
    {
     "data": {
      "text/plain": [
       "<AxesSubplot:>"
      ]
     },
     "execution_count": 47,
     "metadata": {},
     "output_type": "execute_result"
    },
    {
     "data": {
      "image/png": "[encoded data removed]",
      "text/plain": [
       "<Figure size 432x288 with 1 Axes>"
      ]
     },
     "metadata": {
      "needs_background": "light"
     },
     "output_type": "display_data"
    }
   ],
   "source": [
    "crm_data.clnt_income.hist()"
   ]
  },
  {
   "cell_type": "markdown",
   "metadata": {},
   "source": [
    "Можно ли опираться на этот столбец? Если данных очень мало."
   ]
  },
  {
   "cell_type": "code",
   "execution_count": 48,
   "metadata": {},
   "outputs": [
    {
     "data": {
      "text/plain": [
       "<AxesSubplot:>"
      ]
     },
     "execution_count": 48,
     "metadata": {},
     "output_type": "execute_result"
    },
    {
     "data": {
      "image/png": "[encoded data removed]",
      "text/plain": [
       "<Figure size 432x288 with 1 Axes>"
      ]
     },
     "metadata": {
      "needs_background": "light"
     },
     "output_type": "display_data"
    }
   ],
   "source": [
    "crm_data.clnt_pick.hist()"
   ]
  },
  {
   "cell_type": "code",
   "execution_count": 49,
   "metadata": {},
   "outputs": [
    {
     "data": {
      "text/plain": [
       "<AxesSubplot:>"
      ]
     },
     "execution_count": 49,
     "metadata": {},
     "output_type": "execute_result"
    },
    {
     "data": {
      "image/png": "[encoded data removed]",
      "text/plain": [
       "<Figure size 432x288 with 1 Axes>"
      ]
     },
     "metadata": {
      "needs_background": "light"
     },
     "output_type": "display_data"
    }
   ],
   "source": [
    "crm_data.clnt_fortune.hist()"
   ]
  },
  {
   "cell_type": "markdown",
   "metadata": {},
   "source": [
    "Слишком красиво, слишком ровно, слишком странно."
   ]
  },
  {
   "cell_type": "code",
   "execution_count": null,
   "metadata": {},
   "outputs": [],
   "source": []
  }
 ],
 "metadata": {
  "kernelspec": {
   "display_name": "Python 3",
   "language": "python",
   "name": "python3"
  },
  "language_info": {
   "codemirror_mode": {
    "name": "ipython",
    "version": 3
   },
   "file_extension": ".py",
   "mimetype": "text/x-python",
   "name": "python",
   "nbconvert_exporter": "python",
   "pygments_lexer": "ipython3",
   "version": "3.7.8"
  }
 },
 "nbformat": 4,
 "nbformat_minor": 4
}
